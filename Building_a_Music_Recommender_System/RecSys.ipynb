{
 "cells": [
  {
   "cell_type": "markdown",
   "metadata": {},
   "source": [
    "2018 Edition"
   ]
  },
  {
   "cell_type": "markdown",
   "metadata": {},
   "source": [
    "# Building a music recommender system\n",
    "\n",
    "As its name implies, a recommender system is a tool that helps predicting what a user may or may not like among a list of given items. In some sense, you can view this as an alternative to content search, as recommendation engines help users discover products or content that they may not come across otherwise. For example, Facebook suggests friends and pages to users. Youtube recommends videos which users may be interested in. Amazon suggests the products which users may need... Recommendation engines engage users to services, can be seen as a revenue optimization process, and in general help maintaining interest in a service.\n",
    "\n",
    "In this notebook, we study how to build a simple recommender system: we focus on music recommendations, and we use a simple algorithm to predict which items users might like, that is called ALS, alternating least squares.\n",
    "\n",
    "## Goals\n",
    "\n",
    "In this lecture, we expect students to:\n",
    "\n",
    "- Revisit (or learn) recommender algorithms\n",
    "\n",
    "- Understand the idea of Matrix Factorization and the ALS algorithm (serial and parallel versions)\n",
    "\n",
    "- Build a simple model for a real usecase: music recommender system\n",
    "\n",
    "- Understand how to validate the results\n",
    "\n",
    "## Steps\n",
    "\n",
    "We assume students to work outside lab hours on the learning material. These are the steps by which we guide students, during labs, to build a good basis for the end-to-end development of a recommender system:\n",
    "\n",
    "* Inspect the data using Spark SQL, and build some basic, but very valuable knowledge about the information we have at hand\n",
    "* Formally define what is a sensible algorithm to achieve our goal: given the \"history\" of user taste for music, recommend new music to discover. Essentialy, we want to build a statistical model of user preferences such that we can use it to \"predict\" which additional music the user could like\n",
    "* With our formal definition at hand, we will learn different ways to implement such an algorithm. Our goal here is to illustrate what are the difficulties to overcome when implementing a (parallel) algorithm\n",
    "* Finally, we will focus on an existing implementation, available in the Apache Spark MLLib, which we will use out of the box to build a reliable statistical model\n",
    "\n",
    "Now, you may think at this point we will be done!\n",
    "\n",
    "Well, you'd better think twice: one important topic we will cover in all our Notebooks is **how to validate the results we obtain**, and **how to choose good parameters to train models** especially when using an \"opaque\" library for doing the job. As a consequence, we will focus on the statistical validation of our recommender system.\n"
   ]
  },
  {
   "cell_type": "markdown",
   "metadata": {},
   "source": [
    "# 1. Data\n",
    "\n",
    "Understanding data is one of the most important part when designing any machine learning algorithm. In this notebook, we will use a data set published by Audioscrobbler - a music recommendation system for last.fm. Audioscrobbler is also one of the first internet streaming radio sites, founded in 2002. It provided an open API for “scrobbling”, or recording listeners’ plays of artists’ songs. last.fm used this information to build a powerful music recommender engine.\n",
    "\n",
    "## 1.1. Data schema\n",
    "\n",
    "Unlike a rating dataset which contains information about users' preference for products (one star, 3 stars, and so on), the datasets from Audioscrobbler only has information about events: specifically, it keeps track of how many times a user played songs of a given artist and the names of artists. That means it carries less information than a rating: in the literature, this is called explicit vs. implicit ratings.\n",
    "\n",
    "### Reading material\n",
    "\n",
    "- [Implicit Feedback for Inferring User Preference: A Bibliography](http://people.csail.mit.edu/teevan/work/publications/papers/sigir-forum03.pdf)\n",
    "- [Comparing explicit and implicit feedback techniques for web retrieval: TREC-10 interactive track report](http://trec.nist.gov/pubs/trec10/papers/glasgow.pdf)\n",
    "- [Probabilistic Models for Data Combination in Recommender Systems](http://mlg.eng.cam.ac.uk/pub/pdf/WilGha08.pdf)\n",
    "\n",
    "The data we use in this Notebook is available in 3 files (these files are stored in our HDFS layer, in the directory  ```/datasets/lastfm```):\n",
    "\n",
    "- **`user_artist_data.txt`**: It contains about 140,000+ unique users, and 1.6 million unique artists. About 24.2 million users’ plays of artists’ are recorded, along with their count. It has 3 columns separated by spaces: \n",
    "\n",
    "| UserID | ArtistID | PlayCount |\n",
    "|----|----|----|\n",
    "| ...|...|...|\n",
    "\n",
    "\n",
    "- **`artist_data.txt`** : It prodives the names of each artist by their IDs. It has 2 columns separated by tab characters (`\\t`).\n",
    "\n",
    "| ArtistID | Name |\n",
    "|---|---|\n",
    "|...|...|\n",
    "\n",
    "- **`artist_alias.txt`**: Note that when plays are scrobbled, the client application submits the name of the artist being played. This name could be misspelled or nonstandard. For example, \"The Smiths\", \"Smiths, The\", and \"the smiths\" may appear as distinct artist IDs in the data set, even though they are plainly the same. `artist_alias.txt` maps artist IDs that are known misspellings or variants to the canonical ID of that artist. The data in this file has 2 columns separated by tab characters (`\\t`).\n",
    "\n",
    "| MisspelledArtistID | StandardArtistID |\n",
    "|---|---|\n",
    "|...|...|\n",
    "\n"
   ]
  },
  {
   "cell_type": "markdown",
   "metadata": {},
   "source": [
    "## 1.2. Understanding data: simple descriptive statistic\n",
    "\n",
    "In order to choose or design a suitable algorithm for achieving our goals, given the data we have, we should first understand data characteristics. To start, we import the necessary packages to work with regular expressions, Data Frames, and other nice features of our programming environment."
   ]
  },
  {
   "cell_type": "code",
   "execution_count": 22,
   "metadata": {
    "collapsed": false
   },
   "outputs": [],
   "source": [
    "import os\n",
    "import sys\n",
    "import re\n",
    "import random\n",
    "from pyspark import SparkContext\n",
    "from pyspark.sql import SQLContext\n",
    "from pyspark.sql.types import *\n",
    "from pyspark.sql import Row\n",
    "from pyspark.sql.functions import *\n",
    "\n",
    "%matplotlib inline\n",
    "import matplotlib.pyplot as plt\n",
    "import pandas as pd\n",
    "import numpy as np\n",
    "from time import time\n",
    "import seaborn as sns\n",
    "\n",
    "sqlContext = SQLContext(sc)\n",
    "base = \"/datasets/lastfm/\""
   ]
  },
  {
   "cell_type": "markdown",
   "metadata": {},
   "source": [
    "<div class=\"alert alert-success\">\n",
    "    <p>We decided to use the <code>pandas</code> module to display some of our results, because we thought it was better at presenting data than the built-in functions.</p>\n",
    "    <p>However, we do not use it for computations as it is much slower than the built-in and <code>pyspark</code> functions.</p>\n",
    "</div>"
   ]
  },
  {
   "cell_type": "markdown",
   "metadata": {},
   "source": [
    "### Question 1\n",
    "\n",
    "#### Question 1.0 (Non-grading)\n",
    "<div class=\"alert alert-info\">\n",
    "Using SPARK SQL, load data from `/datasets/lastfm/user_artist_data.txt` and show the first 20 entries (via function `show()`).\n",
    "</div>\n",
    "\n",
    "For this Notebook, from a programming point of view, we are given the schema for the data we use, which is as follows:\n",
    "\n",
    "```\n",
    "userID: long int\n",
    "artistID: long int\n",
    "playCount: int\n",
    "```\n",
    "\n",
    "Each line of the dataset contains the above three fields, separated by a \"white space\"."
   ]
  },
  {
   "cell_type": "code",
   "execution_count": 23,
   "metadata": {
    "collapsed": false
   },
   "outputs": [
    {
     "name": "stdout",
     "output_type": "stream",
     "text": [
      "+-------+--------+---------+\n",
      "| userID|artistID|playCount|\n",
      "+-------+--------+---------+\n",
      "|1000002|       1|       55|\n",
      "|1000002| 1000006|       33|\n",
      "|1000002| 1000007|        8|\n",
      "|1000002| 1000009|      144|\n",
      "|1000002| 1000010|      314|\n",
      "|1000002| 1000013|        8|\n",
      "|1000002| 1000014|       42|\n",
      "|1000002| 1000017|       69|\n",
      "|1000002| 1000024|      329|\n",
      "|1000002| 1000025|        1|\n",
      "|1000002| 1000028|       17|\n",
      "|1000002| 1000031|       47|\n",
      "|1000002| 1000033|       15|\n",
      "|1000002| 1000042|        1|\n",
      "|1000002| 1000045|        1|\n",
      "|1000002| 1000054|        2|\n",
      "|1000002| 1000055|       25|\n",
      "|1000002| 1000056|        4|\n",
      "|1000002| 1000059|        2|\n",
      "|1000002| 1000062|       71|\n",
      "+-------+--------+---------+\n",
      "only showing top 20 rows\n",
      "\n"
     ]
    }
   ],
   "source": [
    "userArtistDataSchema = StructType([ \\\n",
    "    StructField(\"userID\", LongType(), True), \\\n",
    "    StructField(\"artistID\", LongType(), True), \\\n",
    "    StructField(\"playCount\", IntegerType(), True)])\n",
    "\n",
    "userArtistDF = sqlContext.read \\\n",
    "    .format('com.databricks.spark.csv') \\\n",
    "    .options(header='false', delimiter=' ') \\\n",
    "    .load(base + \"user_artist_data.txt\", schema = userArtistDataSchema) \\\n",
    "    .cache()\n",
    "\n",
    "# we can cache an Dataframe to avoid computing it from the beginning everytime it is accessed.\n",
    "userArtistDF.cache()\n",
    "\n",
    "userArtistDF.show()"
   ]
  },
  {
   "cell_type": "markdown",
   "metadata": {},
   "source": [
    "<div class=\"alert alert-success\">\n",
    "    <p>Just by looking at this table, we can see that for a given user (<code>userID=1000002</code> in the table above) there are artists that are way more popular than some others. Some artists have a <code>playcount</code> value of 1 or 2, which could mean that the user only tried one song from that artist and decided not to listen to that artist anymore. In that case, as we will see later on, it could be interesting to discard those rows.</p>\n",
    "</div>"
   ]
  },
  {
   "cell_type": "markdown",
   "metadata": {},
   "source": [
    "#### Question 1.1: \n",
    "<div class=\"alert alert-info\">\n",
    "How many distinct users do we have in our data? \n",
    "</div>"
   ]
  },
  {
   "cell_type": "code",
   "execution_count": 24,
   "metadata": {},
   "outputs": [
    {
     "name": "stdout",
     "output_type": "stream",
     "text": [
      "Total number of users:  148111\n"
     ]
    }
   ],
   "source": [
    "uniqueUsers = userArtistDF.select('userID').distinct().count()\n",
    "print(\"Total number of users: \", uniqueUsers)"
   ]
  },
  {
   "cell_type": "markdown",
   "metadata": {},
   "source": [
    "#### Question 1.2\n",
    "<div class=\"alert alert-info\">\n",
    "How many distinct artists do we have in our data ?\n",
    "</div>"
   ]
  },
  {
   "cell_type": "code",
   "execution_count": 25,
   "metadata": {},
   "outputs": [
    {
     "name": "stdout",
     "output_type": "stream",
     "text": [
      "Total number of artists:  1631028\n"
     ]
    }
   ],
   "source": [
    "uniqueArtists = userArtistDF.select('artistID').distinct().count()\n",
    "print(\"Total number of artists: \", uniqueArtists)"
   ]
  },
  {
   "cell_type": "markdown",
   "metadata": {},
   "source": [
    "#### Question 1.3\n",
    "<div class=\"alert alert-info\">\n",
    "One limitation of Spark MLlib's ALS implementation - which we will use later - is that it requires IDs for users and items to be nonnegative 32-bit integers. This means that IDs larger than `Integer.MAX_VALUE`, or `2147483647`, can't be used. So we need to check whether this data set conforms to the strict requirements of our library.  \n",
    "\n",
    "What are the maximum and minimum values of column `userID` ?  \n",
    "</div>"
   ]
  },
  {
   "cell_type": "code",
   "execution_count": 26,
   "metadata": {},
   "outputs": [
    {
     "data": {
      "text/html": [
       "<div>\n",
       "<style scoped>\n",
       "    .dataframe tbody tr th:only-of-type {\n",
       "        vertical-align: middle;\n",
       "    }\n",
       "\n",
       "    .dataframe tbody tr th {\n",
       "        vertical-align: top;\n",
       "    }\n",
       "\n",
       "    .dataframe thead th {\n",
       "        text-align: right;\n",
       "    }\n",
       "</style>\n",
       "<table border=\"1\" class=\"dataframe\">\n",
       "  <thead>\n",
       "    <tr style=\"text-align: right;\">\n",
       "      <th></th>\n",
       "      <th>summary</th>\n",
       "      <th>userID</th>\n",
       "    </tr>\n",
       "  </thead>\n",
       "  <tbody>\n",
       "    <tr>\n",
       "      <th>0</th>\n",
       "      <td>count</td>\n",
       "      <td>24296858</td>\n",
       "    </tr>\n",
       "    <tr>\n",
       "      <th>1</th>\n",
       "      <td>mean</td>\n",
       "      <td>1947573.2653533637</td>\n",
       "    </tr>\n",
       "    <tr>\n",
       "      <th>2</th>\n",
       "      <td>stddev</td>\n",
       "      <td>496000.5551819132</td>\n",
       "    </tr>\n",
       "    <tr>\n",
       "      <th>3</th>\n",
       "      <td>min</td>\n",
       "      <td>90</td>\n",
       "    </tr>\n",
       "    <tr>\n",
       "      <th>4</th>\n",
       "      <td>max</td>\n",
       "      <td>2443548</td>\n",
       "    </tr>\n",
       "  </tbody>\n",
       "</table>\n",
       "</div>"
      ],
      "text/plain": [
       "  summary              userID\n",
       "0   count            24296858\n",
       "1    mean  1947573.2653533637\n",
       "2  stddev   496000.5551819132\n",
       "3     min                  90\n",
       "4     max             2443548"
      ]
     },
     "metadata": {},
     "output_type": "display_data"
    }
   ],
   "source": [
    "\n",
    "display(userArtistDF.select('userID').describe().toPandas())\n"
   ]
  },
  {
   "cell_type": "markdown",
   "metadata": {},
   "source": [
    "<div class=\"alert alert-success\">\n",
    "    <p>The maximum <code>userID</code> value being <code>2,443,548</code>, we can assume that our dataset conforms to the library requirements.</p>\n",
    "</div>"
   ]
  },
  {
   "cell_type": "markdown",
   "metadata": {},
   "source": [
    "#### Question 1.4\n",
    "<div class=\"alert alert-info\">\n",
    "What is the maximum and minimum values of column `artistID` ?\n",
    "</div>"
   ]
  },
  {
   "cell_type": "code",
   "execution_count": 27,
   "metadata": {},
   "outputs": [
    {
     "data": {
      "text/html": [
       "<div>\n",
       "<style scoped>\n",
       "    .dataframe tbody tr th:only-of-type {\n",
       "        vertical-align: middle;\n",
       "    }\n",
       "\n",
       "    .dataframe tbody tr th {\n",
       "        vertical-align: top;\n",
       "    }\n",
       "\n",
       "    .dataframe thead th {\n",
       "        text-align: right;\n",
       "    }\n",
       "</style>\n",
       "<table border=\"1\" class=\"dataframe\">\n",
       "  <thead>\n",
       "    <tr style=\"text-align: right;\">\n",
       "      <th></th>\n",
       "      <th>summary</th>\n",
       "      <th>artistID</th>\n",
       "    </tr>\n",
       "  </thead>\n",
       "  <tbody>\n",
       "    <tr>\n",
       "      <th>0</th>\n",
       "      <td>count</td>\n",
       "      <td>24296858</td>\n",
       "    </tr>\n",
       "    <tr>\n",
       "      <th>1</th>\n",
       "      <td>mean</td>\n",
       "      <td>1718704.0937568964</td>\n",
       "    </tr>\n",
       "    <tr>\n",
       "      <th>2</th>\n",
       "      <td>stddev</td>\n",
       "      <td>2539389.0924283555</td>\n",
       "    </tr>\n",
       "    <tr>\n",
       "      <th>3</th>\n",
       "      <td>min</td>\n",
       "      <td>1</td>\n",
       "    </tr>\n",
       "    <tr>\n",
       "      <th>4</th>\n",
       "      <td>max</td>\n",
       "      <td>10794401</td>\n",
       "    </tr>\n",
       "  </tbody>\n",
       "</table>\n",
       "</div>"
      ],
      "text/plain": [
       "  summary            artistID\n",
       "0   count            24296858\n",
       "1    mean  1718704.0937568964\n",
       "2  stddev  2539389.0924283555\n",
       "3     min                   1\n",
       "4     max            10794401"
      ]
     },
     "metadata": {},
     "output_type": "display_data"
    }
   ],
   "source": [
    "\n",
    "display(userArtistDF.select('artistID').describe().toPandas())\n"
   ]
  },
  {
   "cell_type": "markdown",
   "metadata": {},
   "source": [
    "We just discovered that we have a total of 148,111 users in our dataset. Similarly, we have a total of 1,631,028 artists in our dataset. The maximum values of `userID` and `artistID` are still smaller than the biggest number of integer type.  No additional transformation will be necessary to use these IDs.\n",
    "\n",
    "One thing we can see here is that SPARK SQL provides very concise and powerful methods for data analytics (compared to using RDD and their low-level API). You can see more examples [here](https://databricks.com/blog/2015/06/02/statistical-and-mathematical-functions-with-dataframes-in-spark.html)."
   ]
  },
  {
   "cell_type": "markdown",
   "metadata": {},
   "source": [
    "Next, we might want to understand better user activity and artist popularity.\n",
    "\n",
    "Here is a list of simple descriptive queries that helps us reaching these purposes:\n",
    "\n",
    "* How many times each user has played a song? This is a good indicator of who are the most active users of our service. Note that a very active user with many play counts does not necessarily mean that the user is also \"curious\"! Indeed, she could have played the same song several times.\n",
    "* How many play counts for each artist? This is a good indicator of the artist popularity. Since we do not have time information associated to our data, we can only build a, e.g., top-10 ranking of the most popular artists in the dataset. Later in the notebook, we will learn that our dataset has a very \"loose\" definition about artists: very often artist IDs point to song titles as well. This means we have to be careful when establishing popular artists. Indeed, artists whose data is \"well formed\" will have the correct number of play counts associated to them. Instead, artists that appear mixed with song titles may see their play counts \"diluted\" across their songs."
   ]
  },
  {
   "cell_type": "markdown",
   "metadata": {},
   "source": [
    "### Question 2\n",
    "\n",
    "#### Question 2.1\n",
    "<div class=\"alert alert-info\">\n",
    "How many times each user has played a song? Show 5 samples of the result.\n",
    "</div>"
   ]
  },
  {
   "cell_type": "code",
   "execution_count": 28,
   "metadata": {},
   "outputs": [],
   "source": [
    "userActivity = userArtistDF.groupBy('userID').sum(\"playCount\").collect()"
   ]
  },
  {
   "cell_type": "code",
   "execution_count": 29,
   "metadata": {},
   "outputs": [
    {
     "name": "stdout",
     "output_type": "stream",
     "text": [
      "User with ID 2289066 has played 51 times a song.\n",
      "User with ID 2289173 has played 5938 times a song.\n",
      "User with ID 2290086 has played 1080 times a song.\n",
      "User with ID 2291343 has played 37 times a song.\n",
      "User with ID 2291463 has played 8802 times a song.\n",
      "\n"
     ]
    },
    {
     "data": {
      "image/png": "[encoded data removed]",
      "text/plain": [
       "<matplotlib.figure.Figure at 0x7f0cf81e74a8>"
      ]
     },
     "metadata": {},
     "output_type": "display_data"
    }
   ],
   "source": [
    "tmp = userActivity[:500]\n",
    "for row in tmp[:5]:\n",
    "    print('User with ID {} has played {} times a song.'.format(row[0], row[1]))\n",
    "print()\n",
    "plt.plot(range(len(tmp)), [row[1] for row in tmp])\n",
    "plt.xlabel('user')\n",
    "plt.ylabel('sum(playCount)')\n",
    "plt.title('Nbr of times a user has listened to music (sum of playCounts for all artists he/she listened to)')\n",
    "plt.show()"
   ]
  },
  {
   "cell_type": "markdown",
   "metadata": {},
   "source": [
    "<div class=\"alert alert-success\">\n",
    "    <p>We can see here than we have fairly heterogeneous values for users' total <code>playCounts</code>. This is something that we will need to take into consideration when cleaning our dataset then when building our recommendation models.</p>  \n",
    "</div>"
   ]
  },
  {
   "cell_type": "markdown",
   "metadata": {},
   "source": [
    "#### Question 2.2\n",
    "<div class=\"alert alert-info\">\n",
    "Plot CDF (or ECDF) of the number of play counts per User ID.  \n",
    "\n",
    "Explain and comment the figure you just created:   \n",
    "<ul>\n",
    "<li>for example, look at important percentiles (25%, median, 75%, tails such as >90%) and cross check with what you have found above to figure out if the result is plausible. </li>\n",
    "<li>discuss about your users, with respect to the application domain we target in the notebook: you will notice that for some users, there is very little interaction with the system, which means that maybe reccommending something to them is going to be more difficult than for other users who interact more with the system. </li>\n",
    "<li>look at outliers and reason about their impact on your reccommender algorithm</li>\n",
    "</ul>\n",
    "</div>"
   ]
  },
  {
   "cell_type": "code",
   "execution_count": 30,
   "metadata": {},
   "outputs": [
    {
     "name": "stderr",
     "output_type": "stream",
     "text": [
      "/opt/conda/lib/python3.6/site-packages/matplotlib/cbook/deprecation.py:106: MatplotlibDeprecationWarning: Adding an axes using the same arguments as a previous axes currently reuses the earlier instance.  In a future version, a new instance will always be created and returned.  Meanwhile, this warning can be suppressed, and the future behavior ensured, by passing a unique label to each axes instance.\n",
      "  warnings.warn(message, mplDeprecation, stacklevel=1)\n"
     ]
    },
    {
     "data": {
      "image/png": "[encoded data removed]",
      "text/plain": [
       "<matplotlib.figure.Figure at 0x7f0cfc215e80>"
      ]
     },
     "metadata": {},
     "output_type": "display_data"
    }
   ],
   "source": [
    "\n",
    "pdf = pd.DataFrame(data=userActivity)\n",
    "Y=np.sort( pdf[1] )\n",
    "yvals=np.arange(len(Y))/float(len(Y))\n",
    "\n",
    "l=[0.1,0.25,0.5,0.75,0.9, 1]\n",
    "\n",
    "percentilesVals = [[Y[i] for i in range(len(Y)) if l[j]<yvals[i]<l[j+1]][0] for j in [0, 1, 2, 3, 4]]\n",
    "percentilesValsy=[[yvals[i] for i in range(len(Y)) if l[j]<yvals[i]<l[j+1]][0] for j in [0, 1, 2, 3, 4] ]\n",
    "colors = [ 'red', 'orange', 'green', 'blue', 'purple']\n",
    "\n",
    "plt.figure(figsize=(20, 8))\n",
    "plt.plot( Y, yvals )\n",
    "ax = plt.subplot()\n",
    "ax.set_xscale(\"log\")\n",
    "\n",
    "plt.scatter(percentilesVals,\n",
    "            percentilesValsy, \n",
    "            c = colors,\n",
    "            marker = '^')\n",
    "\n",
    "ax.vlines(percentilesVals, [0], percentilesValsy, linestyle=\"dashed\", color=colors)\n",
    "ax.hlines(percentilesValsy, [0], percentilesVals, linestyle=\"dashed\", color=colors)\n",
    "for i in range(len(percentilesValsy)):\n",
    "    ax.annotate(\"  \" + str(percentilesVals[i]), (percentilesVals[i], percentilesValsy[i]))\n",
    "\n",
    "plt.xlabel('Play Counts')\n",
    "plt.ylabel('ECDF')\n",
    "plt.xscale('log')\n",
    "plt.grid(True,which=\"both\",ls=\"-\")\n",
    "plt.title('ECDF of number of play counts per User ID')\n",
    "plt.show()\n"
   ]
  },
  {
   "cell_type": "markdown",
   "metadata": {},
   "source": [
    "<div class=\"alert alert-success\">\n",
    "    <p>This plot goes with what we were thinking when looking at the <code>sum(playCount)</code> for all users, which was that we have some users who listen to way more music than some others. The bottom 10% has listened to music on the platform 34 times or less, which is very little compared to common statistics.</p>\n",
    "    <p>According to Spotify, the average user listened to around 40 unique artists per week in 2017, which is already above our value of 34 songs for 10% of our dataset. Even though our dataset is older, and our music platform is not Spotify, we can still assume that a good percentage of our users may not be as useful to our models than the main majority. We will see later on if we can consider them as noise.</p>\n",
    "    <p>The same thinking process can be applied to the top 0.5%, whose <code>sum(playCount)</code> scores are above 40,000, which represents almost 2,500 hours of listening music (for an average time of 3'30\" per song), which means about 3 months of music. These values are quite high (and only corresponding to a small fraction of our dataset), and can represent bots or people who have not turned off their listening devices. Either way, we might be able to improve our models by considering them like irrelevant users in our dataset.</p>\n",
    "</div>"
   ]
  },
  {
   "cell_type": "code",
   "execution_count": 31,
   "metadata": {},
   "outputs": [
    {
     "data": {
      "image/png": "[encoded data removed]",
      "text/plain": [
       "<matplotlib.figure.Figure at 0x7f0cfbff6940>"
      ]
     },
     "metadata": {},
     "output_type": "display_data"
    }
   ],
   "source": [
    "#horizontal boxplot\n",
    "import seaborn as sns\n",
    "f, ax = plt.subplots(figsize=(20, 8))\n",
    "sns.set(style=\"whitegrid\")\n",
    "\n",
    "ax = sns.boxplot(Y, color=\"skyblue\")\n",
    "plt.xlabel('Play Counts')\n",
    "ax.set_xscale(\"log\")\n",
    "ax.xaxis.grid(True)\n",
    "ax.vlines(percentilesVals[-1], 0, 1, linestyle=\"dashed\", color=\"red\")\n",
    "ax.set(ylabel=\"\")\n",
    "sns.despine(trim=True, left=True)\n"
   ]
  },
  {
   "cell_type": "code",
   "execution_count": 32,
   "metadata": {},
   "outputs": [
    {
     "name": "stdout",
     "output_type": "stream",
     "text": [
      "Total number of users: 148111\n",
      "Number of users whose total playCounts are >7000: 13327, which represents 9.0% of our dataset\n"
     ]
    }
   ],
   "source": [
    "print('Total number of users:', len(Y))\n",
    "l = len([y for y in Y if y>7000])\n",
    "print('Number of users whose total playCounts are >7000: {}, which represents {}% of our dataset'.format(l, np.round(100.*(l/len(Y)))))"
   ]
  },
  {
   "cell_type": "markdown",
   "metadata": {},
   "source": [
    "<div class=\"alert alert-success\">\n",
    "    <p>We can see here that there are a lot of outliers (after 7000 play count). If we keep on the idea that we had when looking at the previous plot, we can even go further here by saying that all of those users are like noise to our data and are therefore irrevelant to our recommendation models (which we will try to exploit at the end of this notebook). An explication for those users is that some people never turn off their music application even if they are not listening. Moreover we can also imagine that some might have been used to play some music in order to pull those songs up the rankings.</p>\n",
    "    <p>Thus, when we will try to clean up our dataset, we could be able to consider almost 10% of the users as not relevant. We will see this at the end of the notebook.</p>\n",
    "</div>"
   ]
  },
  {
   "cell_type": "markdown",
   "metadata": {},
   "source": [
    "#### Question 2.3\n",
    "\n",
    "<div class=\"alert alert-info\">\n",
    "How many play counts for each artist? Plot CDF or ECDF of the result.  \n",
    "\n",
    "Similarly to the previous question, you need to comment and interpret your result: what is the figure telling you?\n",
    "</div>"
   ]
  },
  {
   "cell_type": "code",
   "execution_count": 33,
   "metadata": {},
   "outputs": [],
   "source": [
    "# Compute artist popularity\n",
    "# We are interested in how many playcounts per artist\n",
    "# ATTENTION! Grouping by artistID may be problematic, as stated above.\n",
    "\n",
    "artistPopularity = userArtistDF.groupBy('artistID').sum(\"playCount\").collect()\n"
   ]
  },
  {
   "cell_type": "code",
   "execution_count": 34,
   "metadata": {},
   "outputs": [
    {
     "name": "stderr",
     "output_type": "stream",
     "text": [
      "/opt/conda/lib/python3.6/site-packages/matplotlib/cbook/deprecation.py:106: MatplotlibDeprecationWarning: Adding an axes using the same arguments as a previous axes currently reuses the earlier instance.  In a future version, a new instance will always be created and returned.  Meanwhile, this warning can be suppressed, and the future behavior ensured, by passing a unique label to each axes instance.\n",
      "  warnings.warn(message, mplDeprecation, stacklevel=1)\n"
     ]
    },
    {
     "data": {
      "image/png": "[encoded data removed]",
      "text/plain": [
       "<matplotlib.figure.Figure at 0x7f0cfbfc9cf8>"
      ]
     },
     "metadata": {},
     "output_type": "display_data"
    }
   ],
   "source": [
    "\n",
    "pdf = pd.DataFrame(data=artistPopularity)\n",
    "\n",
    "Y=np.sort( pdf[1] )\n",
    "yvals=np.arange(len(Y))/float(len(Y))\n",
    "\n",
    "\n",
    "l=[0.1,0.25,0.5,0.75,0.9, 1]\n",
    "\n",
    "percentilesVals_artist = [[Y[i] for i in range(len(Y)) if l[j]<yvals[i]<l[j+1]][0] for j in [0, 1, 2, 3, 4]]\n",
    "percentilesValsy_artist=[[yvals[i] for i in range(len(Y)) if l[j]<yvals[i]<l[j+1]][0] for j in [0, 1, 2, 3, 4] ]\n",
    "\n",
    "colors = [ 'red', 'orange', 'green', 'blue', 'purple']\n",
    "\n",
    "plt.figure(figsize=(20, 8))\n",
    "plt.plot( Y, yvals )\n",
    "ax = plt.subplot()\n",
    "ax.set_xscale(\"log\")\n",
    "\n",
    "plt.scatter(percentilesVals_artist,\n",
    "            percentilesValsy_artist, \n",
    "            c = colors,\n",
    "            marker = '^')\n",
    "\n",
    "ax.vlines(percentilesVals_artist, [0], percentilesValsy_artist, linestyle=\"dashed\", color=colors)\n",
    "ax.hlines(percentilesValsy_artist, [0], percentilesVals_artist, linestyle=\"dashed\", color=colors)\n",
    "for i in range(len(percentilesValsy_artist)):\n",
    "    ax.annotate(\"  \" + str(percentilesVals_artist[i]), (percentilesVals_artist[i], percentilesValsy_artist[i]))\n",
    "\n",
    "plt.xlabel('Play Counts')\n",
    "plt.ylabel('ECDF')\n",
    "plt.xscale('log')\n",
    "plt.grid(True,which=\"both\",ls=\"-\")\n",
    "plt.title('ECDF of number of play counts per Artist ID')\n",
    "plt.show()\n"
   ]
  },
  {
   "cell_type": "markdown",
   "metadata": {},
   "source": [
    "<div class=\"alert alert-success\">\n",
    "    <p>When looking at the users' <code>sum(playCount)</code> scores, we noted how some of them could be defined as <i>outliers</i> because their scores were so far away from the rest. This concept can be applied even more here: more than 50% of artists have been listened to three times or less, with more than 25% with only once. These are very surprising low values so we can either conclude that there are issues with the dataset (which we will see later) or that most of these artists are useless for building our models. Indeed, we will build our models on artists that are liked by the users (i.e. artists that are listened to <i>a lot</i> (which is very relative) by users), therefore we will need the artists that have relatively high <code>playCounts</code>.</p>\n",
    "    <p>We will see at the end of the notebook how we can use this idea to discard a lot of artists and improve our models (and compute them much faster as well).</p>\n",
    "    <p>Moreover, as we will see in the next section, some different <code>artistIDs</code> are refering to the same artist, which will help us explain why some <code>artistIDs</code> have such lower <code>playCount</code> scores.</p>\n",
    "</div>"
   ]
  },
  {
   "cell_type": "code",
   "execution_count": 35,
   "metadata": {},
   "outputs": [
    {
     "data": {
      "text/plain": [
       "45"
      ]
     },
     "execution_count": 35,
     "metadata": {},
     "output_type": "execute_result"
    }
   ],
   "source": [
    "percentilesVals_artist[-1]"
   ]
  },
  {
   "cell_type": "code",
   "execution_count": 36,
   "metadata": {},
   "outputs": [
    {
     "data": {
      "image/png": "[encoded data removed]",
      "text/plain": [
       "<matplotlib.figure.Figure at 0x7f0cfc044588>"
      ]
     },
     "metadata": {},
     "output_type": "display_data"
    }
   ],
   "source": [
    "#horizontal boxplot\n",
    "import seaborn as sns\n",
    "f, ax = plt.subplots(figsize=(20, 8))\n",
    "sns.set(style=\"whitegrid\")\n",
    "\n",
    "ax = sns.boxplot(Y, color=\"skyblue\")\n",
    "ax.set_xscale(\"log\")\n",
    "ax.xaxis.grid(True)\n",
    "plt.xlabel('playCount')\n",
    "ax.vlines(25, 0, 1, linestyle=\"dashed\", color=\"red\")\n",
    "ax.set(ylabel=\"\")\n",
    "sns.despine(trim=True, left=True)"
   ]
  },
  {
   "cell_type": "markdown",
   "metadata": {},
   "source": [
    "<div class=\"alert alert-success\">\n",
    "    <p>Here, we can see that there are also a lot of artists that stand after the limit of the bow plot. <strong>However</strong>, those artist are more important because they've been listened to a lot of times, which means that they are popular. On the opposite, many artist have a <code>playCount</code> really low (lower than 3 for 50% of the artists as we saw on the previous graph).</p>\n",
    "    <p>There are a lot of reasons to that:\n",
    "        <ul>\n",
    "            <li>Their names are mispelled.</li>\n",
    "            <li>A featuring which is not linked to the artists. (<i>artist_1</i> ft. <i>artist_2</i> might be linked to neither <i>artist_1</i> nor <i>artist_2</i>)</li>\n",
    "            <li>Their names do make any sense (special characters, wrong format because the name is from a foreign languages, ...)</li>\n",
    "        </ul>\n",
    "    </p>\n",
    "    <p>For the previous remarks, a sample of the dataset and some examples are provided right under this cell, where we can observe:\n",
    "        <ul>\n",
    "            <li>the mispelled names: <i>07 Shakespear's Sister</i></li>\n",
    "            <li>the featurings which cannot be linked to more than one artist (if not none): <i>jus allah ft mr lif</i></li>\n",
    "            <li>the random names that do not make sense: <i>7 nov 2004</i></li>\n",
    "        </ul>\n",
    "    </p>\n",
    "    <p>And these artists do not have a good influence on our model: indeed, as we discussed, a lot of them have a <code>playCount</code> under 3 (arbitrary limit), which means that there is likely only person listened them. Thus they can't be use to suggest another music and, as there name is probably mispelled, they should not be suggested to anyone else.\n",
    "    </p>\n",
    "</ul>\n",
    "</div>"
   ]
  },
  {
   "cell_type": "code",
   "execution_count": 37,
   "metadata": {},
   "outputs": [
    {
     "data": {
      "text/plain": [
       "['Sander B',\n",
       " 'YleX - Whigfield',\n",
       " 'Xzibit Feat. Eminem and Nate Dogg',\n",
       " 'Papa Tank (Opac Mass)',\n",
       " 'The Butchers Orchestra',\n",
       " 'Doctor Who - Jon Pertwee',\n",
       " 'The Manhattan Transfer - The Manhattan Transfer',\n",
       " '�Ź�“�_�[�X',\n",
       " 'richard linda thompson',\n",
       " 'what good am i',\n",
       " 'The Perry Weissman 3',\n",
       " 'Gundecha Brothers',\n",
       " 'Divers Klassiek',\n",
       " 'Pantera/Pantera',\n",
       " 'kayTies',\n",
       " 'Dj Osman vs Celik',\n",
       " 'Paul McCartney & Wings; Tony Visconti',\n",
       " 'The Christians, Holly Johnson, Paul McCartney, Gerry Marsden & Stock Aitken Waterman',\n",
       " 'FMwS - 08',\n",
       " 'Kimi no chimeiteki ketsu betsu doutai']"
      ]
     },
     "execution_count": 37,
     "metadata": {},
     "output_type": "execute_result"
    }
   ],
   "source": [
    "#artistDF need to be defined before executing this script\n",
    "i=0\n",
    "l=[]\n",
    "u=0\n",
    "while i<20:\n",
    "    if pdf[1][u]==1:\n",
    "        l.append(pdf[0][u])\n",
    "        u+=1\n",
    "        i+=1\n",
    "    else:\n",
    "        u+=1\n",
    "name=[]\n",
    "for id in l:\n",
    "    name.append(artistDF[artistDF.artistID==int(id)].collect()[0][1])\n",
    "name"
   ]
  },
  {
   "cell_type": "markdown",
   "metadata": {},
   "source": [
    "#### Question 2.4\n",
    "<div class=\"alert alert-info\">\n",
    "Plot a bar chart to show top 5 artists In terms of absolute play counts.  \n",
    "\n",
    "Comment the figure you just obtained: \n",
    "<ul>\n",
    "<li>are these reasonable results?</li>\n",
    "<li>is looking at top-5 artists enough to learn more about your data?</li>\n",
    "<li>do you see anything strange in the data?</li>\n",
    "</ul>\n",
    "</div>"
   ]
  },
  {
   "cell_type": "code",
   "execution_count": 38,
   "metadata": {},
   "outputs": [
    {
     "data": {
      "image/png": "[encoded data removed]",
      "text/plain": [
       "<matplotlib.figure.Figure at 0x7f0cfc103b00>"
      ]
     },
     "metadata": {},
     "output_type": "display_data"
    }
   ],
   "source": [
    "\n",
    "sortedArtist = sorted(artistPopularity, key = lambda x: -x[-1])[:5]\n",
    "\n",
    "artistID = [w[0] for w in sortedArtist[:]]\n",
    "\n",
    "y_pos = range(len(sortedArtist))\n",
    "frequency = [w[1] for w in sortedArtist]\n",
    "plt.figure(figsize=(20, 8))\n",
    "plt.barh(y_pos, frequency[::-1], align='center', alpha=0.4)\n",
    "plt.yticks(y_pos, artistID[::-1])\n",
    "plt.xlabel('Play Count')\n",
    "plt.ylabel('Artist')\n",
    "plt.title('Top-5 Artist ID per play counts')\n",
    "plt.show()\n"
   ]
  },
  {
   "cell_type": "markdown",
   "metadata": {},
   "source": [
    "<div class=\"alert alert-success\">\n",
    "    <p>Our best artist has an absolute <code>playCount</code> of 2.5 millions. Let us compare this value to some other numbers that we were able to find:\n",
    "        <ul>\n",
    "            <li>Best artist (Ed Sheeran) on Spotify was streamed 6.3 billion times on Spotify over the year 2017.</li>\n",
    "            <li>Spotify got 20 million new suscribers in 2017.</li>\n",
    "            <li>During 2017, the average weekly listening hours per user grew by 25%.</li>\n",
    "            <li>There were approximately 160 million active users using Spotify in January 2018.</li>\n",
    "        </ul>\n",
    "    </p>\n",
    "    <p>Those numbers are way more recent that our dataset, which is from 2005, but they do show how fast the online music industry is moving. If we consider the low number of users streaming music on Internet then (around 150,000 on <i>Last.fm</i>), it does seem plausible that this value of 2.5 millions is the right <code>playCount</code> value for user 979.</p>\n",
    "    <p>We lack information on our dataset as we could not find out if the data was for the year 2005 or for all of the three years <i>Last.fm</i> was running (the service started in 2002). If we consider that the dataset corresponds to the year 2005, we have a best score of 2.5 millions for 150,000 users. If we look at Spotify, we have 160 million users for a best score of 6.2 billions. While the number of users increased by a factor of 1000, the best score would have increased by a factor of 2500, which seems plausible.</p> \n",
    "</div>"
   ]
  },
  {
   "cell_type": "markdown",
   "metadata": {},
   "source": [
    "All seems clear right now, but ... wait a second! What about the problems indicated above about artist \"disambiguation\"? Are these artist ID we are using referring to unique artists? How can we make sure that such \"opaque\" identifiers point to different bands? Let's try to use some additional dataset to answer this question:  `artist_data.txt` dataset. This time, the schema of the dataset consists in:\n",
    "\n",
    "```\n",
    "artist ID: long int\n",
    "name: string\n",
    "```\n",
    "\n",
    "We will try to find whether a single artist has two different IDs."
   ]
  },
  {
   "cell_type": "markdown",
   "metadata": {},
   "source": [
    "### Question 3\n",
    "\n",
    "#### Question 3.1\n",
    "\n",
    "<div class=\"alert alert-info\">\n",
    "Load the data from `/datasets/lastfm/artist_data.txt` and use the SparkSQL API to show 5 samples.  \n",
    "\n",
    "<ul></ul>\n",
    "<div class=\"label label-success\">HINT:</div> If you encounter some error when parsing lines in data because of invalid entries, parameter `mode='DROPMALFORMED'` will help you to eliminate these entries. The suggested syntax is: `<df>.options(header='false', delimiter='\\t', mode='DROPMALFORMED')`.\n",
    "\n",
    "</div>"
   ]
  },
  {
   "cell_type": "code",
   "execution_count": 39,
   "metadata": {},
   "outputs": [
    {
     "data": {
      "text/html": [
       "<div>\n",
       "<style scoped>\n",
       "    .dataframe tbody tr th:only-of-type {\n",
       "        vertical-align: middle;\n",
       "    }\n",
       "\n",
       "    .dataframe tbody tr th {\n",
       "        vertical-align: top;\n",
       "    }\n",
       "\n",
       "    .dataframe thead th {\n",
       "        text-align: right;\n",
       "    }\n",
       "</style>\n",
       "<table border=\"1\" class=\"dataframe\">\n",
       "  <thead>\n",
       "    <tr style=\"text-align: right;\">\n",
       "      <th></th>\n",
       "      <th>artistID</th>\n",
       "      <th>name</th>\n",
       "    </tr>\n",
       "  </thead>\n",
       "  <tbody>\n",
       "    <tr>\n",
       "      <th>0</th>\n",
       "      <td>1134999</td>\n",
       "      <td>06Crazy Life</td>\n",
       "    </tr>\n",
       "    <tr>\n",
       "      <th>1</th>\n",
       "      <td>6821360</td>\n",
       "      <td>Pang Nakarin</td>\n",
       "    </tr>\n",
       "    <tr>\n",
       "      <th>2</th>\n",
       "      <td>10113088</td>\n",
       "      <td>Terfel, Bartoli- Mozart: Don</td>\n",
       "    </tr>\n",
       "    <tr>\n",
       "      <th>3</th>\n",
       "      <td>10151459</td>\n",
       "      <td>The Flaming Sidebur</td>\n",
       "    </tr>\n",
       "    <tr>\n",
       "      <th>4</th>\n",
       "      <td>6826647</td>\n",
       "      <td>Bodenstandig 3000</td>\n",
       "    </tr>\n",
       "  </tbody>\n",
       "</table>\n",
       "</div>"
      ],
      "text/plain": [
       "   artistID                          name\n",
       "0   1134999                  06Crazy Life\n",
       "1   6821360                  Pang Nakarin\n",
       "2  10113088  Terfel, Bartoli- Mozart: Don\n",
       "3  10151459           The Flaming Sidebur\n",
       "4   6826647             Bodenstandig 3000"
      ]
     },
     "metadata": {},
     "output_type": "display_data"
    }
   ],
   "source": [
    "\n",
    "customSchemaArtist = StructType([ \\\n",
    "    StructField(\"artistID\", LongType(), True), \\\n",
    "    StructField(\"name\", StringType(), True)])\n",
    "\n",
    "artistDF = sqlContext.read \\\n",
    "    .format('com.databricks.spark.csv') \\\n",
    "    .options(header='false', delimiter='\\t', mode='DROPMALFORMED') \\\n",
    "    .load(base + \"artist_data.txt\", schema = customSchemaArtist) \\\n",
    "    .cache()\n",
    "    \n",
    "display(artistDF.toPandas().head())\n"
   ]
  },
  {
   "cell_type": "markdown",
   "metadata": {},
   "source": [
    "#### Question 3.2\n",
    "<div class=\"alert alert-info\">\n",
    "Find 20 artists whose name contains `Aerosmith`. Take a look at artists that have ID equal to `1000010` and `2082323`. In your opinion, are they pointing to the same artist?  \n",
    "\n",
    "<ul></ul>\n",
    "<div class=\"label label-success\">HINT:</div> Function `locate(sub_string, string)` can be useful in this case.\n",
    "</div>"
   ]
  },
  {
   "cell_type": "code",
   "execution_count": 40,
   "metadata": {},
   "outputs": [
    {
     "data": {
      "text/html": [
       "<div>\n",
       "<style scoped>\n",
       "    .dataframe tbody tr th:only-of-type {\n",
       "        vertical-align: middle;\n",
       "    }\n",
       "\n",
       "    .dataframe tbody tr th {\n",
       "        vertical-align: top;\n",
       "    }\n",
       "\n",
       "    .dataframe thead th {\n",
       "        text-align: right;\n",
       "    }\n",
       "</style>\n",
       "<table border=\"1\" class=\"dataframe\">\n",
       "  <thead>\n",
       "    <tr style=\"text-align: right;\">\n",
       "      <th></th>\n",
       "      <th>artistID</th>\n",
       "      <th>name</th>\n",
       "    </tr>\n",
       "  </thead>\n",
       "  <tbody>\n",
       "    <tr>\n",
       "      <th>0</th>\n",
       "      <td>10586006</td>\n",
       "      <td>Dusty Springfield/Aerosmith</td>\n",
       "    </tr>\n",
       "    <tr>\n",
       "      <th>1</th>\n",
       "      <td>6946007</td>\n",
       "      <td>Aerosmith/RunDMC</td>\n",
       "    </tr>\n",
       "    <tr>\n",
       "      <th>2</th>\n",
       "      <td>10475683</td>\n",
       "      <td>Aerosmith: Just Push Play</td>\n",
       "    </tr>\n",
       "    <tr>\n",
       "      <th>3</th>\n",
       "      <td>1083031</td>\n",
       "      <td>Aerosmith/ G n R</td>\n",
       "    </tr>\n",
       "    <tr>\n",
       "      <th>4</th>\n",
       "      <td>6872848</td>\n",
       "      <td>Britney, Nsync, Nelly, Aerosmith,Mary J Blige.</td>\n",
       "    </tr>\n",
       "    <tr>\n",
       "      <th>5</th>\n",
       "      <td>10586963</td>\n",
       "      <td>Green Day - Oasis - Eminem - Aerosmith</td>\n",
       "    </tr>\n",
       "    <tr>\n",
       "      <th>6</th>\n",
       "      <td>10028830</td>\n",
       "      <td>The Aerosmith Antology2</td>\n",
       "    </tr>\n",
       "    <tr>\n",
       "      <th>7</th>\n",
       "      <td>10300357</td>\n",
       "      <td>Run-DMC + Aerosmith</td>\n",
       "    </tr>\n",
       "    <tr>\n",
       "      <th>8</th>\n",
       "      <td>2027746</td>\n",
       "      <td>Aerosmith by MusicInter.com</td>\n",
       "    </tr>\n",
       "    <tr>\n",
       "      <th>9</th>\n",
       "      <td>1140418</td>\n",
       "      <td>[rap]Run DMC and Aerosmith</td>\n",
       "    </tr>\n",
       "    <tr>\n",
       "      <th>10</th>\n",
       "      <td>10237208</td>\n",
       "      <td>Aerosmith + Run DMC</td>\n",
       "    </tr>\n",
       "    <tr>\n",
       "      <th>11</th>\n",
       "      <td>10588537</td>\n",
       "      <td>Aerosmith, Kid Rock, &amp; Run DMC</td>\n",
       "    </tr>\n",
       "    <tr>\n",
       "      <th>12</th>\n",
       "      <td>9934757</td>\n",
       "      <td>Aerosmith - Big Ones</td>\n",
       "    </tr>\n",
       "    <tr>\n",
       "      <th>13</th>\n",
       "      <td>10437510</td>\n",
       "      <td>Green Day ft. Oasis &amp; Aerosmith</td>\n",
       "    </tr>\n",
       "    <tr>\n",
       "      <th>14</th>\n",
       "      <td>6936680</td>\n",
       "      <td>RUN DNC &amp; Aerosmith</td>\n",
       "    </tr>\n",
       "    <tr>\n",
       "      <th>15</th>\n",
       "      <td>10479781</td>\n",
       "      <td>Aerosmith Hits</td>\n",
       "    </tr>\n",
       "    <tr>\n",
       "      <th>16</th>\n",
       "      <td>10114147</td>\n",
       "      <td>Charlies Angels - Aerosmith</td>\n",
       "    </tr>\n",
       "    <tr>\n",
       "      <th>17</th>\n",
       "      <td>1262439</td>\n",
       "      <td>Kid Rock, Run DMC &amp; Aerosmith</td>\n",
       "    </tr>\n",
       "    <tr>\n",
       "      <th>18</th>\n",
       "      <td>7032554</td>\n",
       "      <td>Aerosmith &amp; Run-D.M.C.</td>\n",
       "    </tr>\n",
       "    <tr>\n",
       "      <th>19</th>\n",
       "      <td>10033592</td>\n",
       "      <td>Aerosmith?</td>\n",
       "    </tr>\n",
       "  </tbody>\n",
       "</table>\n",
       "</div>"
      ],
      "text/plain": [
       "    artistID                                            name\n",
       "0   10586006                     Dusty Springfield/Aerosmith\n",
       "1    6946007                                Aerosmith/RunDMC\n",
       "2   10475683                       Aerosmith: Just Push Play\n",
       "3    1083031                                Aerosmith/ G n R\n",
       "4    6872848  Britney, Nsync, Nelly, Aerosmith,Mary J Blige.\n",
       "5   10586963          Green Day - Oasis - Eminem - Aerosmith\n",
       "6   10028830                         The Aerosmith Antology2\n",
       "7   10300357                             Run-DMC + Aerosmith\n",
       "8    2027746                     Aerosmith by MusicInter.com\n",
       "9    1140418                      [rap]Run DMC and Aerosmith\n",
       "10  10237208                             Aerosmith + Run DMC\n",
       "11  10588537                  Aerosmith, Kid Rock, & Run DMC\n",
       "12   9934757                            Aerosmith - Big Ones\n",
       "13  10437510                 Green Day ft. Oasis & Aerosmith\n",
       "14   6936680                             RUN DNC & Aerosmith\n",
       "15  10479781                                  Aerosmith Hits\n",
       "16  10114147                     Charlies Angels - Aerosmith\n",
       "17   1262439                   Kid Rock, Run DMC & Aerosmith\n",
       "18   7032554                          Aerosmith & Run-D.M.C.\n",
       "19  10033592                                      Aerosmith?"
      ]
     },
     "metadata": {},
     "output_type": "display_data"
    },
    {
     "name": "stdout",
     "output_type": "stream",
     "text": [
      "There is at least 475 times the word aerosmith\n"
     ]
    },
    {
     "data": {
      "text/html": [
       "<div>\n",
       "<style scoped>\n",
       "    .dataframe tbody tr th:only-of-type {\n",
       "        vertical-align: middle;\n",
       "    }\n",
       "\n",
       "    .dataframe tbody tr th {\n",
       "        vertical-align: top;\n",
       "    }\n",
       "\n",
       "    .dataframe thead th {\n",
       "        text-align: right;\n",
       "    }\n",
       "</style>\n",
       "<table border=\"1\" class=\"dataframe\">\n",
       "  <thead>\n",
       "    <tr style=\"text-align: right;\">\n",
       "      <th></th>\n",
       "      <th>artistID</th>\n",
       "      <th>name</th>\n",
       "    </tr>\n",
       "  </thead>\n",
       "  <tbody>\n",
       "    <tr>\n",
       "      <th>0</th>\n",
       "      <td>1000010</td>\n",
       "      <td>Aerosmith</td>\n",
       "    </tr>\n",
       "  </tbody>\n",
       "</table>\n",
       "</div>"
      ],
      "text/plain": [
       "   artistID       name\n",
       "0   1000010  Aerosmith"
      ]
     },
     "metadata": {},
     "output_type": "display_data"
    },
    {
     "data": {
      "text/html": [
       "<div>\n",
       "<style scoped>\n",
       "    .dataframe tbody tr th:only-of-type {\n",
       "        vertical-align: middle;\n",
       "    }\n",
       "\n",
       "    .dataframe tbody tr th {\n",
       "        vertical-align: top;\n",
       "    }\n",
       "\n",
       "    .dataframe thead th {\n",
       "        text-align: right;\n",
       "    }\n",
       "</style>\n",
       "<table border=\"1\" class=\"dataframe\">\n",
       "  <thead>\n",
       "    <tr style=\"text-align: right;\">\n",
       "      <th></th>\n",
       "      <th>artistID</th>\n",
       "      <th>name</th>\n",
       "    </tr>\n",
       "  </thead>\n",
       "  <tbody>\n",
       "    <tr>\n",
       "      <th>0</th>\n",
       "      <td>2082323</td>\n",
       "      <td>01 Aerosmith</td>\n",
       "    </tr>\n",
       "  </tbody>\n",
       "</table>\n",
       "</div>"
      ],
      "text/plain": [
       "   artistID          name\n",
       "0   2082323  01 Aerosmith"
      ]
     },
     "metadata": {},
     "output_type": "display_data"
    }
   ],
   "source": [
    "\n",
    "# get artists whose name contains \"Aerosmith\"\n",
    "display(artistDF[locate(\"Aerosmith\", \"name\") > 0].toPandas().head(20))\n",
    "print('There is at least %s times the word aerosmith' %( artistDF[locate(\"Aerosmith\", \"name\") > 0].count()))\n",
    "# show two examples\n",
    "display(artistDF[artistDF.artistID==1000010].toPandas().head())\n",
    "display(artistDF[artistDF.artistID==2082323].toPandas().head())\n"
   ]
  },
  {
   "cell_type": "markdown",
   "metadata": {},
   "source": [
    "<div class=\"alert alert-success\">\n",
    "    <p>As we expected from our results in the previous questions, we have several <code>artistIDs</code> corresponding to the same artist. Here, we have 475 <code>artistIDs</code> that point to Aerosmith. This can be due to users adding information to the artist's name (album, date, number) when uploading a song, or featurings where 'Aerosmith' is present. This highlights the necesity of cleaning our dataset before building recommendation models.</p>\n",
    "    <p>The two examples that we display after the tables (<code>artistID=1000010</code> and <code>artistID=2082323</code>) show that we definetly have different <code>artistIDs</code> pointing to the same artist.</p>\n",
    "    <p><strong>Moreover</strong>, we searched for the word 'Aerosmith' in our database, so our search excluded all of the mispelled names refering to Aerosmith.</p>\n",
    "</div>"
   ]
  },
  {
   "cell_type": "markdown",
   "metadata": {},
   "source": [
    "To answer this question correctly, we need to use an additional dataset `artist_alias.txt` which contains the ids of mispelled artists and standard artists. The schema of the dataset consists in:\n",
    "\n",
    "```\n",
    "mispelledID ID: long int\n",
    "standard ID: long int\n",
    "```"
   ]
  },
  {
   "cell_type": "markdown",
   "metadata": {},
   "source": [
    "#### Question 3.3\n",
    "<div class=\"alert alert-info\">\n",
    "Using SparkSQL API, load the dataset from `/datasets/lastfm/artist_alias.txt` then show 5 samples.\n",
    "</div>"
   ]
  },
  {
   "cell_type": "code",
   "execution_count": 41,
   "metadata": {},
   "outputs": [
    {
     "data": {
      "text/html": [
       "<div>\n",
       "<style scoped>\n",
       "    .dataframe tbody tr th:only-of-type {\n",
       "        vertical-align: middle;\n",
       "    }\n",
       "\n",
       "    .dataframe tbody tr th {\n",
       "        vertical-align: top;\n",
       "    }\n",
       "\n",
       "    .dataframe thead th {\n",
       "        text-align: right;\n",
       "    }\n",
       "</style>\n",
       "<table border=\"1\" class=\"dataframe\">\n",
       "  <thead>\n",
       "    <tr style=\"text-align: right;\">\n",
       "      <th></th>\n",
       "      <th>mispelledID</th>\n",
       "      <th>standardID</th>\n",
       "    </tr>\n",
       "  </thead>\n",
       "  <tbody>\n",
       "    <tr>\n",
       "      <th>0</th>\n",
       "      <td>1092764.0</td>\n",
       "      <td>1000311</td>\n",
       "    </tr>\n",
       "    <tr>\n",
       "      <th>1</th>\n",
       "      <td>1095122.0</td>\n",
       "      <td>1000557</td>\n",
       "    </tr>\n",
       "    <tr>\n",
       "      <th>2</th>\n",
       "      <td>6708070.0</td>\n",
       "      <td>1007267</td>\n",
       "    </tr>\n",
       "    <tr>\n",
       "      <th>3</th>\n",
       "      <td>10088054.0</td>\n",
       "      <td>1042317</td>\n",
       "    </tr>\n",
       "    <tr>\n",
       "      <th>4</th>\n",
       "      <td>1195917.0</td>\n",
       "      <td>1042317</td>\n",
       "    </tr>\n",
       "  </tbody>\n",
       "</table>\n",
       "</div>"
      ],
      "text/plain": [
       "   mispelledID  standardID\n",
       "0    1092764.0     1000311\n",
       "1    1095122.0     1000557\n",
       "2    6708070.0     1007267\n",
       "3   10088054.0     1042317\n",
       "4    1195917.0     1042317"
      ]
     },
     "metadata": {},
     "output_type": "display_data"
    }
   ],
   "source": [
    "\n",
    "customSchemaArtistAlias = StructType([ \\\n",
    "    StructField( \"mispelledID\", LongType(), True ), \\\n",
    "    StructField( \"standardID\", LongType(), True)])\n",
    "\n",
    "artistAliasDF = sqlContext.read \\\n",
    ".format('com.databricks.spark.csv') \\\n",
    "    .options(header='false', delimiter='\\t', mode='DROPMALFORMED') \\\n",
    "    .load(base + \"artist_alias.txt\", schema = customSchemaArtistAlias) \\\n",
    "    .cache()\n",
    "\n",
    "display(artistAliasDF.toPandas().head())"
   ]
  },
  {
   "cell_type": "markdown",
   "metadata": {},
   "source": [
    "#### Question 3.4\n",
    "<div class=\"alert alert-info\">\n",
    "Verify the answer of question 3.2 (\"Are artists that have ID equal to `1000010` and `2082323` the same ?\") by finding the standard ids corresponding to the mispelled ids `1000010` and `2082323` respectively.\n",
    "</div>"
   ]
  },
  {
   "cell_type": "code",
   "execution_count": 42,
   "metadata": {},
   "outputs": [
    {
     "data": {
      "text/html": [
       "<div>\n",
       "<style scoped>\n",
       "    .dataframe tbody tr th:only-of-type {\n",
       "        vertical-align: middle;\n",
       "    }\n",
       "\n",
       "    .dataframe tbody tr th {\n",
       "        vertical-align: top;\n",
       "    }\n",
       "\n",
       "    .dataframe thead th {\n",
       "        text-align: right;\n",
       "    }\n",
       "</style>\n",
       "<table border=\"1\" class=\"dataframe\">\n",
       "  <thead>\n",
       "    <tr style=\"text-align: right;\">\n",
       "      <th></th>\n",
       "      <th>mispelledID</th>\n",
       "      <th>standardID</th>\n",
       "    </tr>\n",
       "  </thead>\n",
       "  <tbody>\n",
       "  </tbody>\n",
       "</table>\n",
       "</div>"
      ],
      "text/plain": [
       "Empty DataFrame\n",
       "Columns: [mispelledID, standardID]\n",
       "Index: []"
      ]
     },
     "metadata": {},
     "output_type": "display_data"
    },
    {
     "name": "stdout",
     "output_type": "stream",
     "text": [
      "Mispelled IDs corresponding to standardID 1000010: 130.\n",
      "\n"
     ]
    },
    {
     "data": {
      "text/html": [
       "<div>\n",
       "<style scoped>\n",
       "    .dataframe tbody tr th:only-of-type {\n",
       "        vertical-align: middle;\n",
       "    }\n",
       "\n",
       "    .dataframe tbody tr th {\n",
       "        vertical-align: top;\n",
       "    }\n",
       "\n",
       "    .dataframe thead th {\n",
       "        text-align: right;\n",
       "    }\n",
       "</style>\n",
       "<table border=\"1\" class=\"dataframe\">\n",
       "  <thead>\n",
       "    <tr style=\"text-align: right;\">\n",
       "      <th></th>\n",
       "      <th>mispelledID</th>\n",
       "      <th>standardID</th>\n",
       "    </tr>\n",
       "  </thead>\n",
       "  <tbody>\n",
       "    <tr>\n",
       "      <th>0</th>\n",
       "      <td>2082323</td>\n",
       "      <td>1000010</td>\n",
       "    </tr>\n",
       "  </tbody>\n",
       "</table>\n",
       "</div>"
      ],
      "text/plain": [
       "   mispelledID  standardID\n",
       "0      2082323     1000010"
      ]
     },
     "metadata": {},
     "output_type": "display_data"
    }
   ],
   "source": [
    "display(artistAliasDF[ artistAliasDF.mispelledID==1000010].toPandas().head(5))\n",
    "print(\"Mispelled IDs corresponding to standardID 1000010: {}.\\n\".format(artistAliasDF[ artistAliasDF.standardID==1000010].sort(artistAliasDF.mispelledID).count()))\n",
    "display(artistAliasDF[ artistAliasDF.mispelledID==2082323].toPandas().head())"
   ]
  },
  {
   "cell_type": "markdown",
   "metadata": {},
   "source": [
    "<div class=\"alert alert-success\">\n",
    "    <p>If we look for <code>mispelledID=2082323</code>, we get <code>1000010</code> as corresponding standardID, so they must point to the same artist.</p>\n",
    "    <p>We can check that <code>1000010</code> is actually a <code>standardID</code> by looking for it in the <code>mispelledID</code> column, which proves us that it is not mispelled.</p>\n",
    "    <p>Moreover, we can count the number of <code>mispelledIDs</code> that refer to <code>1000010</code>, and we get 130 as answer. This shows how many <code>artistIDs</code> from the original database could be mispelled and how important our next step is going to be. We can also argue that the mispelled database is not perfect so that we are probaly still missing some <code>mispelledIDs</code></p>\n",
    "</div>"
   ]
  },
  {
   "cell_type": "markdown",
   "metadata": {},
   "source": [
    "### Question 4\n",
    "\n",
    "The mispelled or nonstandard information about artist make our results in the previous queries a bit \"sloppy\". To overcome this problem, we can replace all mispelled artist ids by the corresponding standard ids and re-compute the basic descriptive statistics on the \"amended\" data.\n",
    "First, we construct a \"dictionary\" that maps non-standard ids to a standard ones. Then this \"dictionary\" will be used to replace the mispelled artists.\n",
    "\n",
    "#### Question 4.1\n",
    "<div class=\"alert alert-info\">\n",
    "From data in the dataframe loaded from `/datasets/lastfm/artist_alias.txt`, construct a dictionary that maps each non-standard id to its standard id.  \n",
    "\n",
    "<div class=\"label label-success\">HINT:</div> Instead of using function `collect`, we can use `collectAsMap` to convert the collected data to a dictionary inline.\n",
    "</div>"
   ]
  },
  {
   "cell_type": "code",
   "execution_count": 43,
   "metadata": {},
   "outputs": [],
   "source": [
    "artistAlias = artistAliasDF.rdd.map(lambda row: (row[0], row[1])).collectAsMap()"
   ]
  },
  {
   "cell_type": "markdown",
   "metadata": {},
   "source": [
    "#### Question 4.2\n",
    "<div class=\"alert alert-info\">\n",
    "Using the constructed dictionary in question 4.1, replace the non-standard artist ids in the dataframe that was loaded from `/datasets/lastfm/user_artist_data.txt` by the corresponding standard ids then show 5 samples.\n",
    "</div>\n",
    "\n",
    "\n",
    "**NOTE 1**: If an id doesn't exist in the dictionary as a mispelled id, it is really a standard id.\n",
    "\n",
    "\n",
    "Using funtion `map` on Spark Dataframe will give us an RDD. We can convert this RDD back to Dataframe by using `sqlContext.createDataFrame(rdd_name, sql_schema)`\n",
    "\n",
    "\n",
    "**NOTE 2**: be careful! you need to be able to verify that you indeed solved the problem of having bad artist IDs. In principle, for the new data to be correct, we should to have duplicate pairs (user, artist), potentially with different play counts, right? In answering the question, please **show** that you indeed fixed the problem. "
   ]
  },
  {
   "cell_type": "code",
   "execution_count": 44,
   "metadata": {},
   "outputs": [
    {
     "name": "stdout",
     "output_type": "stream",
     "text": [
      "The script takes 0.732692 seconds\n"
     ]
    }
   ],
   "source": [
    "from time import time\n",
    "\n",
    "def replaceMispelledIDs(fields):\n",
    "    finalID = artistAlias.get(fields[1], fields[1])\n",
    "    return (fields[0], finalID, fields[2])\n",
    "\n",
    "t0 = time()\n",
    "\n",
    "newUserArtistDF = sqlContext.createDataFrame(\n",
    "    userArtistDF.rdd.map(lambda row: replaceMispelledIDs(row)), \n",
    "    userArtistDataSchema\n",
    ")\n",
    "t1 = time()\n",
    "print('The script takes %f seconds' %(t1-t0))"
   ]
  },
  {
   "cell_type": "code",
   "execution_count": 45,
   "metadata": {},
   "outputs": [
    {
     "data": {
      "text/html": [
       "<div>\n",
       "<style scoped>\n",
       "    .dataframe tbody tr th:only-of-type {\n",
       "        vertical-align: middle;\n",
       "    }\n",
       "\n",
       "    .dataframe tbody tr th {\n",
       "        vertical-align: top;\n",
       "    }\n",
       "\n",
       "    .dataframe thead th {\n",
       "        text-align: right;\n",
       "    }\n",
       "</style>\n",
       "<table border=\"1\" class=\"dataframe\">\n",
       "  <thead>\n",
       "    <tr style=\"text-align: right;\">\n",
       "      <th></th>\n",
       "      <th>userID</th>\n",
       "      <th>artistID</th>\n",
       "      <th>playCount</th>\n",
       "    </tr>\n",
       "  </thead>\n",
       "  <tbody>\n",
       "    <tr>\n",
       "      <th>0</th>\n",
       "      <td>1006831</td>\n",
       "      <td>6708070</td>\n",
       "      <td>13</td>\n",
       "    </tr>\n",
       "    <tr>\n",
       "      <th>1</th>\n",
       "      <td>1034362</td>\n",
       "      <td>6708070</td>\n",
       "      <td>6</td>\n",
       "    </tr>\n",
       "    <tr>\n",
       "      <th>2</th>\n",
       "      <td>1044124</td>\n",
       "      <td>6708070</td>\n",
       "      <td>1</td>\n",
       "    </tr>\n",
       "    <tr>\n",
       "      <th>3</th>\n",
       "      <td>1060379</td>\n",
       "      <td>6708070</td>\n",
       "      <td>1</td>\n",
       "    </tr>\n",
       "    <tr>\n",
       "      <th>4</th>\n",
       "      <td>1068595</td>\n",
       "      <td>6708070</td>\n",
       "      <td>1</td>\n",
       "    </tr>\n",
       "    <tr>\n",
       "      <th>5</th>\n",
       "      <td>2009088</td>\n",
       "      <td>6708070</td>\n",
       "      <td>4</td>\n",
       "    </tr>\n",
       "    <tr>\n",
       "      <th>6</th>\n",
       "      <td>2054250</td>\n",
       "      <td>6708070</td>\n",
       "      <td>1</td>\n",
       "    </tr>\n",
       "    <tr>\n",
       "      <th>7</th>\n",
       "      <td>2061033</td>\n",
       "      <td>6708070</td>\n",
       "      <td>1</td>\n",
       "    </tr>\n",
       "    <tr>\n",
       "      <th>8</th>\n",
       "      <td>2062949</td>\n",
       "      <td>6708070</td>\n",
       "      <td>1</td>\n",
       "    </tr>\n",
       "    <tr>\n",
       "      <th>9</th>\n",
       "      <td>2073068</td>\n",
       "      <td>6708070</td>\n",
       "      <td>4</td>\n",
       "    </tr>\n",
       "    <tr>\n",
       "      <th>10</th>\n",
       "      <td>2076111</td>\n",
       "      <td>6708070</td>\n",
       "      <td>2</td>\n",
       "    </tr>\n",
       "    <tr>\n",
       "      <th>11</th>\n",
       "      <td>2082001</td>\n",
       "      <td>6708070</td>\n",
       "      <td>2</td>\n",
       "    </tr>\n",
       "    <tr>\n",
       "      <th>12</th>\n",
       "      <td>2189954</td>\n",
       "      <td>6708070</td>\n",
       "      <td>5</td>\n",
       "    </tr>\n",
       "    <tr>\n",
       "      <th>13</th>\n",
       "      <td>2195179</td>\n",
       "      <td>6708070</td>\n",
       "      <td>1</td>\n",
       "    </tr>\n",
       "    <tr>\n",
       "      <th>14</th>\n",
       "      <td>2274274</td>\n",
       "      <td>6708070</td>\n",
       "      <td>1</td>\n",
       "    </tr>\n",
       "    <tr>\n",
       "      <th>15</th>\n",
       "      <td>2285232</td>\n",
       "      <td>6708070</td>\n",
       "      <td>1</td>\n",
       "    </tr>\n",
       "  </tbody>\n",
       "</table>\n",
       "</div>"
      ],
      "text/plain": [
       "     userID  artistID  playCount\n",
       "0   1006831   6708070         13\n",
       "1   1034362   6708070          6\n",
       "2   1044124   6708070          1\n",
       "3   1060379   6708070          1\n",
       "4   1068595   6708070          1\n",
       "5   2009088   6708070          4\n",
       "6   2054250   6708070          1\n",
       "7   2061033   6708070          1\n",
       "8   2062949   6708070          1\n",
       "9   2073068   6708070          4\n",
       "10  2076111   6708070          2\n",
       "11  2082001   6708070          2\n",
       "12  2189954   6708070          5\n",
       "13  2195179   6708070          1\n",
       "14  2274274   6708070          1\n",
       "15  2285232   6708070          1"
      ]
     },
     "metadata": {},
     "output_type": "display_data"
    },
    {
     "data": {
      "text/html": [
       "<div>\n",
       "<style scoped>\n",
       "    .dataframe tbody tr th:only-of-type {\n",
       "        vertical-align: middle;\n",
       "    }\n",
       "\n",
       "    .dataframe tbody tr th {\n",
       "        vertical-align: top;\n",
       "    }\n",
       "\n",
       "    .dataframe thead th {\n",
       "        text-align: right;\n",
       "    }\n",
       "</style>\n",
       "<table border=\"1\" class=\"dataframe\">\n",
       "  <thead>\n",
       "    <tr style=\"text-align: right;\">\n",
       "      <th></th>\n",
       "      <th>mispelledID</th>\n",
       "      <th>standardID</th>\n",
       "    </tr>\n",
       "  </thead>\n",
       "  <tbody>\n",
       "    <tr>\n",
       "      <th>0</th>\n",
       "      <td>6708070</td>\n",
       "      <td>1007267</td>\n",
       "    </tr>\n",
       "  </tbody>\n",
       "</table>\n",
       "</div>"
      ],
      "text/plain": [
       "   mispelledID  standardID\n",
       "0      6708070     1007267"
      ]
     },
     "metadata": {},
     "output_type": "display_data"
    },
    {
     "data": {
      "text/html": [
       "<div>\n",
       "<style scoped>\n",
       "    .dataframe tbody tr th:only-of-type {\n",
       "        vertical-align: middle;\n",
       "    }\n",
       "\n",
       "    .dataframe tbody tr th {\n",
       "        vertical-align: top;\n",
       "    }\n",
       "\n",
       "    .dataframe thead th {\n",
       "        text-align: right;\n",
       "    }\n",
       "</style>\n",
       "<table border=\"1\" class=\"dataframe\">\n",
       "  <thead>\n",
       "    <tr style=\"text-align: right;\">\n",
       "      <th></th>\n",
       "      <th>userID</th>\n",
       "      <th>artistID</th>\n",
       "      <th>playCount</th>\n",
       "    </tr>\n",
       "  </thead>\n",
       "  <tbody>\n",
       "  </tbody>\n",
       "</table>\n",
       "</div>"
      ],
      "text/plain": [
       "Empty DataFrame\n",
       "Columns: [userID, artistID, playCount]\n",
       "Index: []"
      ]
     },
     "metadata": {},
     "output_type": "display_data"
    }
   ],
   "source": [
    "display(userArtistDF[userArtistDF.artistID==6708070].toPandas().head(20))\n",
    "display(artistAliasDF[artistAliasDF.mispelledID==6708070].toPandas().head())\n",
    "display(newUserArtistDF[newUserArtistDF.artistID==6708070].toPandas().head(20))"
   ]
  },
  {
   "cell_type": "markdown",
   "metadata": {},
   "source": [
    "<div class=\"alert alert-success\">\n",
    "    <p>To check if our replacement was successful, we decided to take a closer look at a <code>mispelledID</code> that we knew from a previous question. The first table shows how it was used aseveral times in the original dataset.</p>\n",
    "    <p>In the second table, we map the <code>mispelledID</code> to its <code>standardID 1007267</code>.</p>\n",
    "    <p>After cleaning up the data, we can see in the third table that there are no more <code>6708070</code> in the dataset (as expected), since it was replaced by its <code>standardID</code>.</p>\n",
    "</div>"
   ]
  },
  {
   "cell_type": "markdown",
   "metadata": {},
   "source": [
    "<div class=\"alert alert-success\">\n",
    "<h3>More digging into the artistAlias dataset</h3>\n",
    "<p>We will use the <code>newUserArtistDF</code> dataframe in the following questions, but we would like to study a bit more the <code>artistAlias</code> dataset first.<p>\n",
    "<p>Here is what we've found :</p>\n",
    "<ul>\n",
    "    <li>Some tuples (userID,artistID) are present more than one time in the data set.</li>\n",
    "    <li>Some mispelled ID, point to another mispelled one.</li>\n",
    "    <li>Some mispelled ID, which actually are not mispelled</li>\n",
    "</ul>\n",
    "</div>"
   ]
  },
  {
   "cell_type": "code",
   "execution_count": 46,
   "metadata": {},
   "outputs": [
    {
     "data": {
      "text/html": [
       "<div>\n",
       "<style scoped>\n",
       "    .dataframe tbody tr th:only-of-type {\n",
       "        vertical-align: middle;\n",
       "    }\n",
       "\n",
       "    .dataframe tbody tr th {\n",
       "        vertical-align: top;\n",
       "    }\n",
       "\n",
       "    .dataframe thead th {\n",
       "        text-align: right;\n",
       "    }\n",
       "</style>\n",
       "<table border=\"1\" class=\"dataframe\">\n",
       "  <thead>\n",
       "    <tr style=\"text-align: right;\">\n",
       "      <th></th>\n",
       "      <th>userID</th>\n",
       "      <th>artistID</th>\n",
       "      <th>count(playCount)</th>\n",
       "    </tr>\n",
       "  </thead>\n",
       "  <tbody>\n",
       "    <tr>\n",
       "      <th>0</th>\n",
       "      <td>2013279</td>\n",
       "      <td>2003588</td>\n",
       "      <td>3</td>\n",
       "    </tr>\n",
       "    <tr>\n",
       "      <th>1</th>\n",
       "      <td>2013595</td>\n",
       "      <td>1034635</td>\n",
       "      <td>2</td>\n",
       "    </tr>\n",
       "    <tr>\n",
       "      <th>2</th>\n",
       "      <td>2013661</td>\n",
       "      <td>1011031</td>\n",
       "      <td>2</td>\n",
       "    </tr>\n",
       "    <tr>\n",
       "      <th>3</th>\n",
       "      <td>2013712</td>\n",
       "      <td>1224254</td>\n",
       "      <td>2</td>\n",
       "    </tr>\n",
       "    <tr>\n",
       "      <th>4</th>\n",
       "      <td>2013976</td>\n",
       "      <td>1007712</td>\n",
       "      <td>2</td>\n",
       "    </tr>\n",
       "  </tbody>\n",
       "</table>\n",
       "</div>"
      ],
      "text/plain": [
       "    userID  artistID  count(playCount)\n",
       "0  2013279   2003588                 3\n",
       "1  2013595   1034635                 2\n",
       "2  2013661   1011031                 2\n",
       "3  2013712   1224254                 2\n",
       "4  2013976   1007712                 2"
      ]
     },
     "execution_count": 46,
     "metadata": {},
     "output_type": "execute_result"
    }
   ],
   "source": [
    "duplicates=newUserArtistDF.groupBy(\"userID\", \"artistID\").agg(count(\"playCount\")).filter(col('count(playCount)')>1)\n",
    "duplicates.limit(5).toPandas()"
   ]
  },
  {
   "cell_type": "markdown",
   "metadata": {},
   "source": [
    "<div class=\"alert alert-success\">\n",
    "<p>We can see that in the new data, we have duplicate pairs (user, artist), potentially with different play counts, which shows that the data had been cleaned up even further (they correspond to former <code>mispelledIDs</code>).. Those duplicates will be aggregated in optimisation part when we will remove the alias chain. <p>\n",
    "</div>"
   ]
  },
  {
   "cell_type": "code",
   "execution_count": 47,
   "metadata": {},
   "outputs": [
    {
     "name": "stdout",
     "output_type": "stream",
     "text": [
      "There are 1139 mispelledID that remap on another mispelled ID\n",
      "Here is some examples:\n"
     ]
    },
    {
     "data": {
      "text/html": [
       "<div>\n",
       "<style scoped>\n",
       "    .dataframe tbody tr th:only-of-type {\n",
       "        vertical-align: middle;\n",
       "    }\n",
       "\n",
       "    .dataframe tbody tr th {\n",
       "        vertical-align: top;\n",
       "    }\n",
       "\n",
       "    .dataframe thead th {\n",
       "        text-align: right;\n",
       "    }\n",
       "</style>\n",
       "<table border=\"1\" class=\"dataframe\">\n",
       "  <thead>\n",
       "    <tr style=\"text-align: right;\">\n",
       "      <th></th>\n",
       "      <th>standardID</th>\n",
       "      <th>mispelledID</th>\n",
       "    </tr>\n",
       "  </thead>\n",
       "  <tbody>\n",
       "    <tr>\n",
       "      <th>0</th>\n",
       "      <td>1013851</td>\n",
       "      <td>1013851</td>\n",
       "    </tr>\n",
       "    <tr>\n",
       "      <th>1</th>\n",
       "      <td>1008798</td>\n",
       "      <td>1008798</td>\n",
       "    </tr>\n",
       "    <tr>\n",
       "      <th>2</th>\n",
       "      <td>1245218</td>\n",
       "      <td>1245218</td>\n",
       "    </tr>\n",
       "    <tr>\n",
       "      <th>3</th>\n",
       "      <td>1008798</td>\n",
       "      <td>1008798</td>\n",
       "    </tr>\n",
       "    <tr>\n",
       "      <th>4</th>\n",
       "      <td>1018110</td>\n",
       "      <td>1018110</td>\n",
       "    </tr>\n",
       "    <tr>\n",
       "      <th>5</th>\n",
       "      <td>1018110</td>\n",
       "      <td>1018110</td>\n",
       "    </tr>\n",
       "    <tr>\n",
       "      <th>6</th>\n",
       "      <td>1014609</td>\n",
       "      <td>1014609</td>\n",
       "    </tr>\n",
       "    <tr>\n",
       "      <th>7</th>\n",
       "      <td>1014609</td>\n",
       "      <td>1014609</td>\n",
       "    </tr>\n",
       "    <tr>\n",
       "      <th>8</th>\n",
       "      <td>1014175</td>\n",
       "      <td>1014175</td>\n",
       "    </tr>\n",
       "    <tr>\n",
       "      <th>9</th>\n",
       "      <td>1014175</td>\n",
       "      <td>1014175</td>\n",
       "    </tr>\n",
       "    <tr>\n",
       "      <th>10</th>\n",
       "      <td>1008798</td>\n",
       "      <td>1008798</td>\n",
       "    </tr>\n",
       "    <tr>\n",
       "      <th>11</th>\n",
       "      <td>1008798</td>\n",
       "      <td>1008798</td>\n",
       "    </tr>\n",
       "    <tr>\n",
       "      <th>12</th>\n",
       "      <td>1013851</td>\n",
       "      <td>1013851</td>\n",
       "    </tr>\n",
       "    <tr>\n",
       "      <th>13</th>\n",
       "      <td>1013851</td>\n",
       "      <td>1013851</td>\n",
       "    </tr>\n",
       "    <tr>\n",
       "      <th>14</th>\n",
       "      <td>1014175</td>\n",
       "      <td>1014175</td>\n",
       "    </tr>\n",
       "    <tr>\n",
       "      <th>15</th>\n",
       "      <td>1014175</td>\n",
       "      <td>1014175</td>\n",
       "    </tr>\n",
       "    <tr>\n",
       "      <th>16</th>\n",
       "      <td>1014175</td>\n",
       "      <td>1014175</td>\n",
       "    </tr>\n",
       "    <tr>\n",
       "      <th>17</th>\n",
       "      <td>6995268</td>\n",
       "      <td>6995268</td>\n",
       "    </tr>\n",
       "    <tr>\n",
       "      <th>18</th>\n",
       "      <td>6995268</td>\n",
       "      <td>6995268</td>\n",
       "    </tr>\n",
       "    <tr>\n",
       "      <th>19</th>\n",
       "      <td>6995268</td>\n",
       "      <td>6995268</td>\n",
       "    </tr>\n",
       "  </tbody>\n",
       "</table>\n",
       "</div>"
      ],
      "text/plain": [
       "    standardID  mispelledID\n",
       "0      1013851      1013851\n",
       "1      1008798      1008798\n",
       "2      1245218      1245218\n",
       "3      1008798      1008798\n",
       "4      1018110      1018110\n",
       "5      1018110      1018110\n",
       "6      1014609      1014609\n",
       "7      1014609      1014609\n",
       "8      1014175      1014175\n",
       "9      1014175      1014175\n",
       "10     1008798      1008798\n",
       "11     1008798      1008798\n",
       "12     1013851      1013851\n",
       "13     1013851      1013851\n",
       "14     1014175      1014175\n",
       "15     1014175      1014175\n",
       "16     1014175      1014175\n",
       "17     6995268      6995268\n",
       "18     6995268      6995268\n",
       "19     6995268      6995268"
      ]
     },
     "metadata": {},
     "output_type": "display_data"
    }
   ],
   "source": [
    "# Count the number of mispelled ID that remap on mispelledID\n",
    "standardID_col = artistAliasDF.select(artistAliasDF.standardID)\n",
    "mispelledID_col = artistAliasDF.select(artistAliasDF.mispelledID)\n",
    "Wrong_remaps = standardID_col.join(mispelledID_col, mispelledID_col.mispelledID==standardID_col.standardID, \"inner\").count()\n",
    "print(\"There are %d mispelledID that remap on another mispelled ID\" % (Wrong_remaps))\n",
    "print(\"Here is some examples:\")\n",
    "display(standardID_col.join(mispelledID_col, mispelledID_col.mispelledID==standardID_col.standardID, \"inner\").toPandas().head(20))"
   ]
  },
  {
   "cell_type": "code",
   "execution_count": 48,
   "metadata": {},
   "outputs": [
    {
     "data": {
      "text/html": [
       "<div>\n",
       "<style scoped>\n",
       "    .dataframe tbody tr th:only-of-type {\n",
       "        vertical-align: middle;\n",
       "    }\n",
       "\n",
       "    .dataframe tbody tr th {\n",
       "        vertical-align: top;\n",
       "    }\n",
       "\n",
       "    .dataframe thead th {\n",
       "        text-align: right;\n",
       "    }\n",
       "</style>\n",
       "<table border=\"1\" class=\"dataframe\">\n",
       "  <thead>\n",
       "    <tr style=\"text-align: right;\">\n",
       "      <th></th>\n",
       "      <th>mispelledID</th>\n",
       "      <th>standardID</th>\n",
       "    </tr>\n",
       "  </thead>\n",
       "  <tbody>\n",
       "    <tr>\n",
       "      <th>0</th>\n",
       "      <td>1018110</td>\n",
       "      <td>1018110</td>\n",
       "    </tr>\n",
       "    <tr>\n",
       "      <th>1</th>\n",
       "      <td>1014609</td>\n",
       "      <td>1014609</td>\n",
       "    </tr>\n",
       "    <tr>\n",
       "      <th>2</th>\n",
       "      <td>1014175</td>\n",
       "      <td>1014175</td>\n",
       "    </tr>\n",
       "    <tr>\n",
       "      <th>3</th>\n",
       "      <td>1008798</td>\n",
       "      <td>1008798</td>\n",
       "    </tr>\n",
       "    <tr>\n",
       "      <th>4</th>\n",
       "      <td>1013851</td>\n",
       "      <td>1013851</td>\n",
       "    </tr>\n",
       "    <tr>\n",
       "      <th>5</th>\n",
       "      <td>1001864</td>\n",
       "      <td>1001864</td>\n",
       "    </tr>\n",
       "    <tr>\n",
       "      <th>6</th>\n",
       "      <td>15</td>\n",
       "      <td>15</td>\n",
       "    </tr>\n",
       "    <tr>\n",
       "      <th>7</th>\n",
       "      <td>1167860</td>\n",
       "      <td>1167860</td>\n",
       "    </tr>\n",
       "    <tr>\n",
       "      <th>8</th>\n",
       "      <td>754</td>\n",
       "      <td>754</td>\n",
       "    </tr>\n",
       "    <tr>\n",
       "      <th>9</th>\n",
       "      <td>1006322</td>\n",
       "      <td>1006322</td>\n",
       "    </tr>\n",
       "  </tbody>\n",
       "</table>\n",
       "</div>"
      ],
      "text/plain": [
       "   mispelledID  standardID\n",
       "0      1018110     1018110\n",
       "1      1014609     1014609\n",
       "2      1014175     1014175\n",
       "3      1008798     1008798\n",
       "4      1013851     1013851\n",
       "5      1001864     1001864\n",
       "6           15          15\n",
       "7      1167860     1167860\n",
       "8          754         754\n",
       "9      1006322     1006322"
      ]
     },
     "metadata": {},
     "output_type": "display_data"
    }
   ],
   "source": [
    "absorbingAliasDF = artistAliasDF[artistAliasDF.mispelledID == artistAliasDF.standardID]\n",
    "display(absorbingAliasDF.toPandas().head(10))"
   ]
  },
  {
   "cell_type": "markdown",
   "metadata": {},
   "source": [
    "<div class=\"alert alert-success\">\n",
    "<p>The first of these two tables show <code>artistIDs</code> that are in both standard and mispelled columns. The second table shows the few row that display the same ID for both mispelled and standard IDs.</p>\n",
    "<p>We will look later on how to take these issues int consideration to clean up our datasets even further</p>\n",
    "</div>"
   ]
  },
  {
   "cell_type": "markdown",
   "metadata": {},
   "source": [
    "#### Question 4.3\n",
    "<div class=\"alert alert-info\">\n",
    "Spark actions are executed through a set of stages, separated by distributed \"shuffle\" operations. Spark can be instructed to **automatically and efficiently** broadcast common data needed by tasks within **each stage**. The data broadcasted this way is cached in **serialized form** and deserialized before running each task.   \n",
    "<ul> </ul>\n",
    "We can thus improve our answer to question 4.2: we can reduce the communication cost by shipping the \"dictionary\" in a more efficient way by using `broadcast variable`. Broadcast variables allow the programmer to keep a read-only variable cached on **each machine** rather than shipping a copy of it with tasks. They are cached in deserialized form. They can be used, for example, to give every node a copy of a large input dataset in an efficient manner.   \n",
    "<ul></ul>\n",
    "The broadcast of variable `v` can be created by `bV = sc.broadcast(v)`. Then value of this broadcast variable can be access via `bV.value`  \n",
    "\n",
    "<ul></ul>\n",
    "To question is then: using a broadcast variable, modify the script in question 4.2 to get better performance in terms of running time.\n",
    "</div>\n"
   ]
  },
  {
   "cell_type": "code",
   "execution_count": 49,
   "metadata": {},
   "outputs": [
    {
     "name": "stdout",
     "output_type": "stream",
     "text": [
      "The script takes 0.022605 seconds\n",
      "+-------+--------+---------+\n",
      "| userID|artistID|playCount|\n",
      "+-------+--------+---------+\n",
      "|1000002|       1|       55|\n",
      "|1000002| 1000006|       33|\n",
      "|1000002| 1000007|        8|\n",
      "|1000002| 1000009|      144|\n",
      "|1000002| 1000010|      314|\n",
      "|1000002| 1000013|        8|\n",
      "|1000002| 1000014|       42|\n",
      "|1000002| 1000017|       69|\n",
      "|1000002| 1000024|      329|\n",
      "|1000002| 1000025|        1|\n",
      "|1000002| 1000028|       17|\n",
      "|1000002| 1000031|       47|\n",
      "|1000002| 1000033|       15|\n",
      "|1000002| 1000042|        1|\n",
      "|1000002| 1000045|        1|\n",
      "|1000002| 1000054|        2|\n",
      "|1000002| 1000055|       25|\n",
      "|1000002| 1000056|        4|\n",
      "|1000002| 1000059|        2|\n",
      "|1000002| 1000062|       71|\n",
      "+-------+--------+---------+\n",
      "only showing top 20 rows\n",
      "\n"
     ]
    }
   ],
   "source": [
    "from time import time\n",
    "\n",
    "bArtistAlias = sc.broadcast(artistAlias)\n",
    "\n",
    "def replaceMispelledIDs(fields):\n",
    "    finalID = bArtistAlias.value.get(fields[1], fields[1])\n",
    "    return (fields[0], finalID, fields[2])\n",
    "\n",
    "t0 = time()\n",
    "\n",
    "newUserArtistDF = sqlContext.createDataFrame(\n",
    "    userArtistDF.rdd.map(replaceMispelledIDs), \n",
    "    userArtistDataSchema\n",
    ")\n",
    "\n",
    "t1 = time()\n",
    "print('The script takes %f seconds' %(t1-t0)) # got 0.686447 in the previous question\n",
    "newUserArtistDF = newUserArtistDF.cache()\n",
    "\n",
    "newUserArtistDF.show()"
   ]
  },
  {
   "cell_type": "markdown",
   "metadata": {},
   "source": [
    "<div class=\"alert alert-success\">\n",
    "    <p>We are now doing the whole replacement process by broadcasting the <code>artistAlias</code> dataset to avoid sending/receiving it everytime: we expect a faster computation time.</p>\n",
    "    <p>The computation is done in 51ms, while it was done in 685ms when the dataset was not broadcasted. So we improved our computation time by a factor of 12, which shows the potential of broadcast variable.</p>\n",
    "</div>"
   ]
  },
  {
   "cell_type": "code",
   "execution_count": 50,
   "metadata": {},
   "outputs": [
    {
     "data": {
      "text/html": [
       "<div>\n",
       "<style scoped>\n",
       "    .dataframe tbody tr th:only-of-type {\n",
       "        vertical-align: middle;\n",
       "    }\n",
       "\n",
       "    .dataframe tbody tr th {\n",
       "        vertical-align: top;\n",
       "    }\n",
       "\n",
       "    .dataframe thead th {\n",
       "        text-align: right;\n",
       "    }\n",
       "</style>\n",
       "<table border=\"1\" class=\"dataframe\">\n",
       "  <thead>\n",
       "    <tr style=\"text-align: right;\">\n",
       "      <th></th>\n",
       "      <th>userID</th>\n",
       "      <th>artistID</th>\n",
       "      <th>playCount</th>\n",
       "    </tr>\n",
       "  </thead>\n",
       "  <tbody>\n",
       "    <tr>\n",
       "      <th>0</th>\n",
       "      <td>1006831</td>\n",
       "      <td>6708070</td>\n",
       "      <td>13</td>\n",
       "    </tr>\n",
       "    <tr>\n",
       "      <th>1</th>\n",
       "      <td>1034362</td>\n",
       "      <td>6708070</td>\n",
       "      <td>6</td>\n",
       "    </tr>\n",
       "    <tr>\n",
       "      <th>2</th>\n",
       "      <td>1044124</td>\n",
       "      <td>6708070</td>\n",
       "      <td>1</td>\n",
       "    </tr>\n",
       "    <tr>\n",
       "      <th>3</th>\n",
       "      <td>1060379</td>\n",
       "      <td>6708070</td>\n",
       "      <td>1</td>\n",
       "    </tr>\n",
       "    <tr>\n",
       "      <th>4</th>\n",
       "      <td>1068595</td>\n",
       "      <td>6708070</td>\n",
       "      <td>1</td>\n",
       "    </tr>\n",
       "    <tr>\n",
       "      <th>5</th>\n",
       "      <td>2009088</td>\n",
       "      <td>6708070</td>\n",
       "      <td>4</td>\n",
       "    </tr>\n",
       "    <tr>\n",
       "      <th>6</th>\n",
       "      <td>2054250</td>\n",
       "      <td>6708070</td>\n",
       "      <td>1</td>\n",
       "    </tr>\n",
       "    <tr>\n",
       "      <th>7</th>\n",
       "      <td>2061033</td>\n",
       "      <td>6708070</td>\n",
       "      <td>1</td>\n",
       "    </tr>\n",
       "    <tr>\n",
       "      <th>8</th>\n",
       "      <td>2062949</td>\n",
       "      <td>6708070</td>\n",
       "      <td>1</td>\n",
       "    </tr>\n",
       "    <tr>\n",
       "      <th>9</th>\n",
       "      <td>2073068</td>\n",
       "      <td>6708070</td>\n",
       "      <td>4</td>\n",
       "    </tr>\n",
       "    <tr>\n",
       "      <th>10</th>\n",
       "      <td>2076111</td>\n",
       "      <td>6708070</td>\n",
       "      <td>2</td>\n",
       "    </tr>\n",
       "    <tr>\n",
       "      <th>11</th>\n",
       "      <td>2082001</td>\n",
       "      <td>6708070</td>\n",
       "      <td>2</td>\n",
       "    </tr>\n",
       "    <tr>\n",
       "      <th>12</th>\n",
       "      <td>2189954</td>\n",
       "      <td>6708070</td>\n",
       "      <td>5</td>\n",
       "    </tr>\n",
       "    <tr>\n",
       "      <th>13</th>\n",
       "      <td>2195179</td>\n",
       "      <td>6708070</td>\n",
       "      <td>1</td>\n",
       "    </tr>\n",
       "    <tr>\n",
       "      <th>14</th>\n",
       "      <td>2274274</td>\n",
       "      <td>6708070</td>\n",
       "      <td>1</td>\n",
       "    </tr>\n",
       "    <tr>\n",
       "      <th>15</th>\n",
       "      <td>2285232</td>\n",
       "      <td>6708070</td>\n",
       "      <td>1</td>\n",
       "    </tr>\n",
       "  </tbody>\n",
       "</table>\n",
       "</div>"
      ],
      "text/plain": [
       "     userID  artistID  playCount\n",
       "0   1006831   6708070         13\n",
       "1   1034362   6708070          6\n",
       "2   1044124   6708070          1\n",
       "3   1060379   6708070          1\n",
       "4   1068595   6708070          1\n",
       "5   2009088   6708070          4\n",
       "6   2054250   6708070          1\n",
       "7   2061033   6708070          1\n",
       "8   2062949   6708070          1\n",
       "9   2073068   6708070          4\n",
       "10  2076111   6708070          2\n",
       "11  2082001   6708070          2\n",
       "12  2189954   6708070          5\n",
       "13  2195179   6708070          1\n",
       "14  2274274   6708070          1\n",
       "15  2285232   6708070          1"
      ]
     },
     "metadata": {},
     "output_type": "display_data"
    },
    {
     "data": {
      "text/html": [
       "<div>\n",
       "<style scoped>\n",
       "    .dataframe tbody tr th:only-of-type {\n",
       "        vertical-align: middle;\n",
       "    }\n",
       "\n",
       "    .dataframe tbody tr th {\n",
       "        vertical-align: top;\n",
       "    }\n",
       "\n",
       "    .dataframe thead th {\n",
       "        text-align: right;\n",
       "    }\n",
       "</style>\n",
       "<table border=\"1\" class=\"dataframe\">\n",
       "  <thead>\n",
       "    <tr style=\"text-align: right;\">\n",
       "      <th></th>\n",
       "      <th>mispelledID</th>\n",
       "      <th>standardID</th>\n",
       "    </tr>\n",
       "  </thead>\n",
       "  <tbody>\n",
       "    <tr>\n",
       "      <th>0</th>\n",
       "      <td>6708070</td>\n",
       "      <td>1007267</td>\n",
       "    </tr>\n",
       "  </tbody>\n",
       "</table>\n",
       "</div>"
      ],
      "text/plain": [
       "   mispelledID  standardID\n",
       "0      6708070     1007267"
      ]
     },
     "metadata": {},
     "output_type": "display_data"
    },
    {
     "data": {
      "text/html": [
       "<div>\n",
       "<style scoped>\n",
       "    .dataframe tbody tr th:only-of-type {\n",
       "        vertical-align: middle;\n",
       "    }\n",
       "\n",
       "    .dataframe tbody tr th {\n",
       "        vertical-align: top;\n",
       "    }\n",
       "\n",
       "    .dataframe thead th {\n",
       "        text-align: right;\n",
       "    }\n",
       "</style>\n",
       "<table border=\"1\" class=\"dataframe\">\n",
       "  <thead>\n",
       "    <tr style=\"text-align: right;\">\n",
       "      <th></th>\n",
       "      <th>userID</th>\n",
       "      <th>artistID</th>\n",
       "      <th>playCount</th>\n",
       "    </tr>\n",
       "  </thead>\n",
       "  <tbody>\n",
       "  </tbody>\n",
       "</table>\n",
       "</div>"
      ],
      "text/plain": [
       "Empty DataFrame\n",
       "Columns: [userID, artistID, playCount]\n",
       "Index: []"
      ]
     },
     "metadata": {},
     "output_type": "display_data"
    }
   ],
   "source": [
    "display(userArtistDF[userArtistDF.artistID==6708070].toPandas().head(20))\n",
    "display(artistAliasDF[artistAliasDF.mispelledID==6708070].toPandas().head(20))\n",
    "display(newUserArtistDF[newUserArtistDF.artistID==6708070].toPandas().head(20))"
   ]
  },
  {
   "cell_type": "markdown",
   "metadata": {},
   "source": [
    "<div class=\"alert alert-success\">\n",
    "    <p>There again, we can check that our replacement of <code>mispelledID</code> was succesful as we did in the previous question:</p>\n",
    "    <ul>\n",
    "        <li>We see that a <code>mispelledID</code> is used in the original dataset,</li>\n",
    "        <li>and that it is not longer present in the new one, as it was replaced by its corresponding <code>standardID</code>.</li>\n",
    "    </ul>\n",
    "</div>"
   ]
  },
  {
   "cell_type": "markdown",
   "metadata": {},
   "source": [
    "Although having some advantages, explicitly creating broadcast variables is only useful when tasks across multiple stages need the same data or when caching the data in deserialized form is important."
   ]
  },
  {
   "cell_type": "markdown",
   "metadata": {},
   "source": [
    "### Question 5\n",
    "\n",
    "Well, our data frame contains clean and \"standard\" data. We can use it to redo previous statistic queries.\n",
    "\n",
    "#### Question 5.1\n",
    "<div class=\"alert alert-info\">\n",
    "How many unique artists? Compare with the result when using old data.\n",
    "</div>"
   ]
  },
  {
   "cell_type": "code",
   "execution_count": 51,
   "metadata": {},
   "outputs": [
    {
     "name": "stdout",
     "output_type": "stream",
     "text": [
      "Total number of artists:  1568126\n"
     ]
    }
   ],
   "source": [
    "uniqueArtists = newUserArtistDF.select(newUserArtistDF.artistID).distinct().count()\n",
    "# we had 1,631,028\n",
    "print(\"Total number of artists: \", uniqueArtists)"
   ]
  },
  {
   "cell_type": "markdown",
   "metadata": {},
   "source": [
    "<div class=\"alert alert-success\">\n",
    "    <p>We initially had <code>1,631,028</code> artists in the original dataset. After cleaning up, we can expect much less.</p>\n",
    "    <p>We now get <code>1,568,126</code> unique artists, which is less than the original value, even though we were expecting a bigger difference between the two values. Maybe more cleaning will allow us to remove even more artists. We will try to go further into cleaning up the data at the end of the notebook.</p>\n",
    "</div>"
   ]
  },
  {
   "cell_type": "markdown",
   "metadata": {},
   "source": [
    "#### Question 5.2\n",
    "\n",
    "<div class=\"alert alert-info\">\n",
    "Who are the top-10 artistis?\n",
    "<ul>\n",
    "  <li>In terms of absolute play counts</li>\n",
    "  <li>In terms of \"audience size\", that is, how many users listened to one of their track at least once</li>\n",
    "</ul>  \n",
    "\n",
    "Plot the results, and explain the figures you obtain.\n",
    "</div>"
   ]
  },
  {
   "cell_type": "code",
   "execution_count": 52,
   "metadata": {},
   "outputs": [
    {
     "name": "stderr",
     "output_type": "stream",
     "text": [
      "/opt/conda/lib/python3.6/site-packages/ipykernel_launcher.py:7: SettingWithCopyWarning: \n",
      "A value is trying to be set on a copy of a slice from a DataFrame\n",
      "\n",
      "See the caveats in the documentation: http://pandas.pydata.org/pandas-docs/stable/indexing.html#indexing-view-versus-copy\n",
      "  import sys\n"
     ]
    },
    {
     "data": {
      "image/png": "[encoded data removed]",
      "text/plain": [
       "<matplotlib.figure.Figure at 0x7f0cc6362b00>"
      ]
     },
     "metadata": {},
     "output_type": "display_data"
    }
   ],
   "source": [
    "# calculate top-10 artists in term of play counts\n",
    "top10ArtistsPC = newUserArtistDF.groupBy('artistID').sum('playCount').orderBy('sum(playCount)', ascending=0).take(10)\n",
    "\n",
    "y_pos = range(len(top10ArtistsPC))\n",
    "pdf = pd.DataFrame(data=top10ArtistsPC)\n",
    "for i in range(len(pdf)):\n",
    "    pdf[0][i]=artistDF[artistDF.artistID==int(pdf[0][i])].collect()[0][1]\n",
    "plt.figure(figsize=(20, 8))\n",
    "plt.barh(y_pos, pdf[1][::-1], align='center', alpha=0.4)\n",
    "plt.yticks(y_pos, pdf[0][::-1])\n",
    "plt.xlabel('Play Count')\n",
    "plt.ylabel('Artist')\n",
    "plt.title('Top-10 Artist ID per play counts')\n",
    "plt.show()"
   ]
  },
  {
   "cell_type": "markdown",
   "metadata": {},
   "source": [
    "<div class=\"alert alert-success\">\n",
    "    <p>Our first reaction is that we have the same top-5 as we had in Question 2.4.</p>\n",
    "    <p>Moreover, now that we have the artits' names, we can quickly take a look at this top-10 and see that most of them are indeed what we'd expect from a top-10. This is a sign that our dataset and our computations are fairly right so far.</p>\n",
    "    <p>Our five first artists did not gain much from the replacement process that we did on the dataset, since we seem to have the same values for <code>playCount</code> as we did before the replacement process.</p>\n",
    "</div>"
   ]
  },
  {
   "cell_type": "code",
   "execution_count": 53,
   "metadata": {},
   "outputs": [
    {
     "name": "stderr",
     "output_type": "stream",
     "text": [
      "/opt/conda/lib/python3.6/site-packages/ipykernel_launcher.py:7: SettingWithCopyWarning: \n",
      "A value is trying to be set on a copy of a slice from a DataFrame\n",
      "\n",
      "See the caveats in the documentation: http://pandas.pydata.org/pandas-docs/stable/indexing.html#indexing-view-versus-copy\n",
      "  import sys\n"
     ]
    },
    {
     "data": {
      "image/png": "[encoded data removed]",
      "text/plain": [
       "<matplotlib.figure.Figure at 0x7f0ccf24b1d0>"
      ]
     },
     "metadata": {},
     "output_type": "display_data"
    }
   ],
   "source": [
    "# calculate top-10 artists in term of audience size\n",
    "top10ArtistsAS=newUserArtistDF.groupBy('artistID').agg(count('userID')).orderBy('count(userID)', ascending=0).take(10)\n",
    "\n",
    "y_pos = range(len(top10ArtistsAS))\n",
    "pdf = pd.DataFrame(data=top10ArtistsAS)\n",
    "for i in range(len(pdf)):\n",
    "    pdf[0][i]=artistDF[artistDF.artistID==int(pdf[0][i])].collect()[0][1]\n",
    "plt.figure(figsize=(20, 8))\n",
    "plt.barh(y_pos, pdf[1][::-1], align='center', alpha=0.4)\n",
    "plt.yticks(y_pos, pdf[0][::-1])\n",
    "plt.xlabel('Audience Size')\n",
    "plt.ylabel('Artist')\n",
    "plt.title('Top-10 Artist ID per audience size')\n",
    "plt.show()\n"
   ]
  },
  {
   "cell_type": "markdown",
   "metadata": {},
   "source": [
    "<div class=\"alert alert-success\">\n",
    "    <p>We can compare this chart with the one we had when rating by <code>playCount</code>. We have more or less the same artists (the exact same top-3).</p>\n",
    "    <p>We can deduce for the differences between theses two graphs that some artists might have more 'loyal' listeners than others, and that the others benefit from more advertising. For example, <i>System of a Down</i> is ranked 5th on the first graph, which means that its songs are very popular, but it does not appear on the second graph, which means that its audience is smaller in comparaison with the others: this could mean that its audience is smaller in size but listens to its songs more than a bigger audience does for another artist.</p>\n",
    "</div>"
   ]
  },
  {
   "cell_type": "code",
   "execution_count": 54,
   "metadata": {},
   "outputs": [
    {
     "data": {
      "text/html": [
       "<div>\n",
       "<style scoped>\n",
       "    .dataframe tbody tr th:only-of-type {\n",
       "        vertical-align: middle;\n",
       "    }\n",
       "\n",
       "    .dataframe tbody tr th {\n",
       "        vertical-align: top;\n",
       "    }\n",
       "\n",
       "    .dataframe thead th {\n",
       "        text-align: right;\n",
       "    }\n",
       "</style>\n",
       "<table border=\"1\" class=\"dataframe\">\n",
       "  <thead>\n",
       "    <tr style=\"text-align: right;\">\n",
       "      <th></th>\n",
       "      <th>artistID</th>\n",
       "      <th>name</th>\n",
       "    </tr>\n",
       "  </thead>\n",
       "  <tbody>\n",
       "    <tr>\n",
       "      <th>0</th>\n",
       "      <td>1034635</td>\n",
       "      <td>[unknown]</td>\n",
       "    </tr>\n",
       "  </tbody>\n",
       "</table>\n",
       "</div>"
      ],
      "text/plain": [
       "   artistID       name\n",
       "0   1034635  [unknown]"
      ]
     },
     "metadata": {},
     "output_type": "display_data"
    }
   ],
   "source": [
    "display(artistDF[artistDF.name=='[unknown]'].toPandas().head())"
   ]
  },
  {
   "cell_type": "markdown",
   "metadata": {},
   "source": [
    "<div class=\"alert alert-success\">\n",
    "    <p>An interesting thing that we can see on that new chart is also that we have an <code>[unknown]</code> artist who gathers almost 40,000 users.</p>\n",
    "    <p>Our explanation for this is that many songs and artists are merged into that one unknown entity that represents all of the unknown artists present in the database.</p>\n",
    "    <p>Since this artist actually represents several other artists, we will not take it into consideration when building our models, and will make sure that we do not recommend it to users.</p>\n",
    "    <p>But by deleting it, we loose a lot of information. We could solve this issue by giving each unknown artist (before they're all merged into one) an unused ID so that we could keep each unknown artist's data when building the models. We would still have to take them out of the recommendation lists.</p>\n",
    "</div>"
   ]
  },
  {
   "cell_type": "markdown",
   "metadata": {},
   "source": [
    "#### Question 5.3\n",
    "\n",
    "<div class=\"alert alert-info\">\n",
    "Who are the top-10 users?\n",
    "<ul>\n",
    "  <li>In terms of absolute play counts</li>\n",
    "  <li>In terms of \"curiosity\", that is, how many different artists they listened to</li>\n",
    "\n",
    "</ul>  \n",
    "\n",
    "Plot the results\n",
    "</div>"
   ]
  },
  {
   "cell_type": "code",
   "execution_count": 55,
   "metadata": {},
   "outputs": [],
   "source": [
    "def spendingtime(i,pdf):\n",
    "    '''\n",
    "        given a userID, this function computes the total time listening to music spent by that user \n",
    "    '''\n",
    "    count=pdf[1][i]*3.3\n",
    "    return(count)"
   ]
  },
  {
   "cell_type": "code",
   "execution_count": 56,
   "metadata": {},
   "outputs": [
    {
     "data": {
      "image/png": "[encoded data removed]",
      "text/plain": [
       "<matplotlib.figure.Figure at 0x7f0cfbf88668>"
      ]
     },
     "metadata": {},
     "output_type": "display_data"
    }
   ],
   "source": [
    "# calculate top 10 users interm of play counts\n",
    "top10UsersByPlayCount = newUserArtistDF.groupBy('userID')\\\n",
    "                                        .sum('playCount')\\\n",
    "                                        .orderBy('sum(playCount)', ascending=0)\\\n",
    "                                        .take(10)\n",
    "y_pos = range(len(top10UsersByPlayCount))\n",
    "pdf = pd.DataFrame(data=top10UsersByPlayCount)\n",
    "plt.figure(figsize=(20, 8))\n",
    "bar=plt.barh(y_pos, pdf[1][::-1], align='center', alpha=0.4)\n",
    "plt.yticks(y_pos, pdf[0][::-1])\n",
    "\n",
    "SpendingTimeslisteningmusic=[\"%.2f years\" %(spendingtime(i,pdf)/(60*24*365)) for i in range(len(pdf))][::-1]\n",
    "i=0\n",
    "for rect in bar:\n",
    "    width = rect.get_width()\n",
    "    plt.text(width/2,rect.get_y() + rect.get_height()/5.0 , SpendingTimeslisteningmusic[i] , ha='center', va='bottom')\n",
    "    i+=1\n",
    "\n",
    "plt.xlabel('Play Count')\n",
    "plt.ylabel('User')\n",
    "plt.title('Top-10 Users ID per play counts')\n",
    "plt.show()"
   ]
  },
  {
   "cell_type": "markdown",
   "metadata": {},
   "source": [
    "<div class=\"alert alert-success\">\n",
    "    <p>What is interesting on this graph is that we can see that the top 4 users are way ahead of the rest, all of the following users having relatively the same <code>playCount</code>. The 1st user has a <code>playCount</code> value more than 3 times the value of the 5th user.</p>\n",
    "    <p>One explanation for this is that the top users are not 'normal' users. This could mean that they are users who never turned off their music application, who shared their account credentials to other people and that there were several persons listening with a same account at the same time. If an account is used in a public place (shop, bar, ...), we can imagine that the application is on for quite a while (more than for a single person for example). Moreover, there could be bots 'listening' to music to increase <code>playCounts</code> for given artists/songs (but since the dataset is from 2005, this explanation is less plausible than if it was from nowadays). Finally, there could be errors in the datasets.</p>\n",
    "    <p>Whatever the reason for those users might be, since the data is from 2005 and <i>Last.fm</i> started off in 2002, the first two users can be considered as irrelevant for our next computations since there is something off about them. We could extrapolate and take out the third and fourth users as well, since they seem way ahead of the rest as well.</p>\n",
    "</div>\n"
   ]
  },
  {
   "cell_type": "markdown",
   "metadata": {},
   "source": [
    "<div>\n",
    "    <h3>Missing artist names</h3>\n",
    "    <p>When computing the total time spend listening to music for a given user, we ran into errors. Debugging let us to find out that some <code>artistID</code> (present in the dataset) did not have an <code>artistName</code> associated to them.</p>\n",
    "</div>"
   ]
  },
  {
   "cell_type": "code",
   "execution_count": 57,
   "metadata": {},
   "outputs": [
    {
     "data": {
      "text/html": [
       "<div>\n",
       "<style scoped>\n",
       "    .dataframe tbody tr th:only-of-type {\n",
       "        vertical-align: middle;\n",
       "    }\n",
       "\n",
       "    .dataframe tbody tr th {\n",
       "        vertical-align: top;\n",
       "    }\n",
       "\n",
       "    .dataframe thead th {\n",
       "        text-align: right;\n",
       "    }\n",
       "</style>\n",
       "<table border=\"1\" class=\"dataframe\">\n",
       "  <thead>\n",
       "    <tr style=\"text-align: right;\">\n",
       "      <th></th>\n",
       "      <th>artistID</th>\n",
       "      <th>name</th>\n",
       "    </tr>\n",
       "  </thead>\n",
       "  <tbody>\n",
       "  </tbody>\n",
       "</table>\n",
       "</div>"
      ],
      "text/plain": [
       "Empty DataFrame\n",
       "Columns: [artistID, name]\n",
       "Index: []"
      ]
     },
     "metadata": {},
     "output_type": "display_data"
    }
   ],
   "source": [
    "display(artistDF[artistDF.artistID==int(2187876)].toPandas().head())"
   ]
  },
  {
   "cell_type": "markdown",
   "metadata": {},
   "source": [
    "<div class=\"alert alert-success\">\n",
    "    <p>To keep on investigating this issue, let's compute how many artists are missing a name:</p>\n",
    "</div>"
   ]
  },
  {
   "cell_type": "code",
   "execution_count": 58,
   "metadata": {},
   "outputs": [
    {
     "name": "stdout",
     "output_type": "stream",
     "text": [
      "There is 13966 artistID with no name associated in the data Base\n"
     ]
    }
   ],
   "source": [
    "count_total = newUserArtistDF.select('artistID').distinct().count()\n",
    "newUserArtist_col = newUserArtistDF.select(newUserArtistDF.artistID).distinct()\n",
    "artistID_col = artistDF.select(artistDF.artistID).distinct()\n",
    "GoodArtist = newUserArtist_col.join(artistID_col, newUserArtist_col.artistID==artistID_col.artistID, \"inner\")\n",
    "print(\"There is %s artistID with no name associated in the data Base\" %(count_total - GoodArtist.count()))"
   ]
  },
  {
   "cell_type": "markdown",
   "metadata": {},
   "source": [
    "<div class=\"alert alert-success\">\n",
    "    <p>So we have 13,966 artists whose names cannot be found in the <code>artistDF</code> dataset. Since they still have a valid <code>artistID</code>, we will still use them when building our recommendation models. However, we will not recommend them to users since we do not have their names.</p>\n",
    "</div>"
   ]
  },
  {
   "cell_type": "code",
   "execution_count": 59,
   "metadata": {},
   "outputs": [
    {
     "data": {
      "image/png": "[encoded data removed]",
      "text/plain": [
       "<matplotlib.figure.Figure at 0x7f0cfbea1b00>"
      ]
     },
     "metadata": {},
     "output_type": "display_data"
    }
   ],
   "source": [
    "# calculate top 10 users interm of curiosity\n",
    "top10UsersByCuriosity=newUserArtistDF.groupBy('userID').agg(count('artistID')).orderBy('count(artistID)', ascending=0).take(10)\n",
    "\n",
    "y_pos = range(len(top10UsersByCuriosity))\n",
    "pdf = pd.DataFrame(data=top10UsersByCuriosity)\n",
    "\n",
    "plt.figure(figsize=(20, 8))\n",
    "bar=plt.barh(y_pos, pdf[1][::-1], align='center', alpha=0.4)\n",
    "plt.yticks(y_pos, pdf[0][::-1])\n",
    "\n",
    "SpendingTimeslisteningmusic=[\"%.2f years\" %(spendingtime(i,pdf)/(60*24*365)) for i in range(len(pdf))][::-1]\n",
    "i=0\n",
    "for rect in bar:\n",
    "    width = rect.get_width()\n",
    "    plt.text(width/2,rect.get_y() + rect.get_height()/5.0 , SpendingTimeslisteningmusic[i] , ha='center', va='bottom')\n",
    "    i+=1\n",
    "\n",
    "plt.xlabel('Curiosity (nbr of different artists they listen to)')\n",
    "plt.ylabel('User')\n",
    "plt.title('Top-10 Users ID per curiosity')\n",
    "plt.show()"
   ]
  },
  {
   "cell_type": "markdown",
   "metadata": {},
   "source": [
    "<div class='alert alert-success'>\n",
    "    <p>If we rank the users by curiosity, we can see that our best users by <code>playCount</code> are not in this top-10.</p>\n",
    "     <p>If we take a closer look at how much time they spend listening to music, we can see that they are way behind our other top users (ranked by <code>playCounts</code>), which again highlights how some users might listen (a lot) to the same artists. This could be something to take into consideration when recommending new artists/songs to users.</p>\n",
    "<p>We will not go into the details of such an approach, but we could imagine recommendations that could be based on how <i>curious</i> a user is, or how <i>loyal</i> (or how not curious..) another one is, and recommend adapted artists/songs. For example, for a curious user, we will recommend new artists, while we might just recommend new songs from the same artists for a less curious user.</p>\n",
    "    <p>This shows how ranking users by <code>playCount</code> can be misleading in our interpretation of the dataset.</p>\n",
    "</div>\n"
   ]
  },
  {
   "cell_type": "markdown",
   "metadata": {},
   "source": [
    "Now we have some valuable information about the data. It's the time to study how to build a statistical models."
   ]
  },
  {
   "cell_type": "markdown",
   "metadata": {},
   "source": [
    "# 2. Build a statistical models to make recommendations\n",
    "\n",
    "## 2.1 Introduction to recommender systems\n",
    "\n",
    "In a recommendation-system application there are two classes of entities, which we shall refer to as `users` and `items`. Users have preferences for certain items, and these preferences must be inferred from the data. The data itself is represented as a `preference matrix` $A$, giving for each user-item pair, a value that represents what is known about the degree of preference of that user for that item. The table below is an example for a `preference matrix` of 5 users and `k` items. The `preference matrix` is also known as `utility matrix`.\n",
    "\n",
    "| | IT1 | IT2 | IT3 | ... | ITk |\n",
    "|---|---|---|---|---|---|\n",
    "| U1 | 1 |  | 5 | ... | 3 |\n",
    "| U2 |  | 2 |  | ... | 2 |\n",
    "| U3 | 5 |  | 3 | ... |  |\n",
    "| U4 | 3 | 3 |  | ... | 4 |\n",
    "| U5 |  | 1 |  | ... | ... |\n",
    "\n",
    "The value of row i, column j expresses how much does user `i` like item `j`. The values are often the rating scores of users for items. An unknown value implies that we have no explicit information about the user's preference for the item. The goal of a recommendation system is to predict \"the blanks\" in the `preference matrix`. For example, assume that the rating score is from 1 (dislike) to 5 (love), would user `U5` like `IT3` ? We have two approaches:\n",
    "\n",
    "* Designing our recommendation system to take into account properties of items such as brand, category, price... or even the similarity of their names. We can denote the similarity of items `IT2` and `IT3`, and then conclude that because user `U5` did not like `IT2`, they were unlikely to enjoy SW2 either.\n",
    "\n",
    "* We might observe that the people who rated both `IT2` and `IT3` tended to give them similar ratings. Thus, we could conclude that user `U5` would also give `IT3` a low rating, similar to `U5`'s rating of `IT2`\n",
    "\n",
    "It is not necessary to predict every blank entry in a `utility matrix`. Rather, it is only necessary to discover some entries in each row that are likely to be high. In most applications, the recommendation system does not oﬀer users a ranking of all items, but rather suggests a few that the user should value highly. It may not even be necessary to ﬁnd all items with the highest expected ratings, but only to ﬁnd a large subset of those with the highest ratings.\n",
    "\n",
    "\n",
    "## 2.2 Families of recommender systems\n",
    "\n",
    "In general, recommender systems can be categorized into two groups:\n",
    "\n",
    "* **Content-Based** systems focus on properties of items. Similarity of items is determined by measuring the similarity in their properties.\n",
    "\n",
    "* **Collaborative-Filtering** systems focus on the relationship between users and items. Similarity of items is determined by the similarity of the ratings of those items by the users who have rated both items.\n",
    "\n",
    "In the usecase of this notebook, artists take the role of `items`, and `users` keep the same role as `users`.\n",
    "Since we have no information about `artists`, except their names, we cannot build a `content-based` recommender system.\n",
    "\n",
    "Therefore, in the rest of this notebook, we only focus on `Collaborative-Filtering` algorithms.\n",
    "\n",
    "## 2.3 Collaborative-Filtering \n",
    "In this section, we study a member of a broad class of algorithms called `latent-factor` models. They try to explain observed interactions between large numbers of users and products through a relatively small number of unobserved, underlying reasons. It is analogous to explaining why millions of people buy a particular few of thousands of possible albums by describing users and albums in terms of tastes for perhaps tens of genres, tastes which are **not directly observable or given** as data. \n",
    "\n",
    "First, we formulate the learning problem as a matrix completion problem. Then, we will use a type of `matrix factorization` model to \"fill in\" the blanks.  We are given implicit ratings that users have given certain items (that is, the number of times they played a particular artist) and our goal is to predict their ratings for the rest of the items. Formally, if there are $n$ users and $m$ items, we are given an $n \\times m$ matrix $R$ in which the generic entry $(u, i)$ represents the rating for item $i$ by user $u$. **Matrix $R$ has many missing entries indicating unobserved ratings, and our task is to estimate these unobserved ratings**.\n",
    "\n",
    "A popular approach to the matrix completion problem is **matrix factorization**, where we want to \"summarize\" users and items with their **latent factors**.\n",
    "\n",
    "### 2.3.1 Basic idea and an example of Matrix Factorization\n",
    "For example, given a preference matrix 5x5 as below, we want to approximate this matrix into the product of two smaller matrixes $X$ and $Y$ .\n",
    "\n",
    "$$\n",
    "M = \n",
    "\\begin{bmatrix}\n",
    " 5 & 2 & 4 & 4 & 3 \\\\\n",
    " 3 & 1 & 2 & 4 & 1 \\\\\n",
    " 2 &  & 3 & 1 & 4 \\\\\n",
    " 2 & 5 & 4 & 3 & 5 \\\\\n",
    " 4 & 4 & 5 & 4 &  \\\\\n",
    "\\end{bmatrix}\n",
    "\\approx M^\\prime =\n",
    "\\begin{bmatrix}\n",
    " x_{11} & x_{12} \\\\\n",
    " x_{21} & x_{22} \\\\\n",
    " x_{31} & x_{32} \\\\\n",
    " x_{41} & x_{42} \\\\\n",
    " x_{51} & x_{52} \\\\\n",
    "\\end{bmatrix}\n",
    "\\times\n",
    "\\begin{bmatrix}\n",
    " y_{11} & y_{12} & y_{13} & y_{14} & y_{15} \\\\\n",
    " y_{21} & y_{22} & y_{23} & y_{24} & y_{25} \\\\\n",
    "\\end{bmatrix}\n",
    "$$\n",
    "\n",
    "$M^\\prime$ is an approximation that is as close to A as possible. To calculate how far from $M$ $M^\\prime$ is, we often calculate the sum of squared distances of non-empty elements in $M$ and the corresponding elements in $M^\\prime$.\n",
    "In this way, for $M^\\prime$, besides the approximated elements in $M$, we also have the non-observed elements. Therefore, to see how much does user `i` like item `j`, we simply pick up the value of $M^\\prime_{i,j}$.\n",
    "\n",
    "The challenge is how to calculate $X$ and $Y$. The bad news is that this can't be solved directly for both the best $X$ and best $Y$ at the same time. Fortunately, if $Y$ is known, we can calculate the best of $X$, and vice versa. It means from the initial values of $X$ and $Y$ in the beginning, we calculate the best $X$ according to $Y$, and then calculate the best $Y$ according to the new $X$. This process is repeated until the distance from $XY$ to $M$ is small. It's simple, right ?\n",
    "\n",
    "Let's take an example. To compute the approximation for the above 5x5 matrix $M$, first, we initialize the value of $X$ and $Y$ as below.\n",
    "\n",
    "$$\n",
    "M^\\prime = X \\times Y =\n",
    "\\begin{bmatrix}\n",
    " 1 & 1 \\\\\n",
    " 1 & 1 \\\\\n",
    " 1 & 1 \\\\\n",
    " 1 & 1 \\\\\n",
    " 1 & 1 \\\\\n",
    "\\end{bmatrix}\n",
    "\\times\n",
    "\\begin{bmatrix}\n",
    " 1 & 1 & 1 & 1 & 1 \\\\\n",
    " 1 & 1 & 1 & 1 & 1 \\\\\n",
    "\\end{bmatrix}\n",
    "=\n",
    "\\begin{bmatrix}\n",
    " 2 & 2 & 2 & 2 & 2 \\\\\n",
    " 2 & 2 & 2 & 2 & 2 \\\\\n",
    " 2 & 2 & 2 & 2 & 2 \\\\\n",
    " 2 & 2 & 2 & 2 & 2 \\\\\n",
    " 2 & 2 & 2 & 2 & 2 \\\\\n",
    "\\end{bmatrix}\n",
    "$$\n",
    "\n",
    "With the initial iteration, we calculate the the Root-Mean-Square Error from $XY$ to $M$.\n",
    "\n",
    "Consider the ﬁrst rows of $M$ and $XY$ . We subtract the first row of $XY$ from the entries in the ﬁrst row of $M$, to get $3,0,2,2,1$. We square and sum these to get $18$. \n",
    "\n",
    "In the second row, we do the same to get $1,−1,0,2,−1$, square and sum to get $7$. \n",
    "\n",
    "In the third row, the second column is blank, so that entry is ignored when computing the RMSE. The diﬀerences are $0,1,−1,2$ and the sum of squares is $6$. \n",
    "\n",
    "For the fourth row, the diﬀerences are $0,3,2,1,3$ and the sum of squares is $23$. \n",
    "\n",
    "The ﬁfth row has a blank entry in the last column, so the diﬀerences are $2,2,3,2$ and the sum of squares is $21$. \n",
    "\n",
    "When we sum the sums from each of the ﬁve rows, we get $18+7+6+23+21 = 75$. So, $RMSE=\\sqrt{75/23}=1.806$ where $23$ is the number of non-empty values in $M$.\n",
    "\n",
    "Next, with the given value of $Y$, we calculate $X$ by finding the best value for $X_{11}$.\n",
    "\n",
    "$$\n",
    "M^\\prime = X \\times Y =\n",
    "\\begin{bmatrix}\n",
    " x & 1 \\\\\n",
    " 1 & 1 \\\\\n",
    " 1 & 1 \\\\\n",
    " 1 & 1 \\\\\n",
    " 1 & 1 \\\\\n",
    "\\end{bmatrix}\n",
    "\\times\n",
    "\\begin{bmatrix}\n",
    " 1 & 1 & 1 & 1 & 1 \\\\\n",
    " 1 & 1 & 1 & 1 & 1 \\\\\n",
    "\\end{bmatrix}\n",
    "=\n",
    "\\begin{bmatrix}\n",
    " x+1 & x+1 & x+1 & x+1 & x+1 \\\\\n",
    " 2 & 2 & 2 & 2 & 2 \\\\\n",
    " 2 & 2 & 2 & 2 & 2 \\\\\n",
    " 2 & 2 & 2 & 2 & 2 \\\\\n",
    " 2 & 2 & 2 & 2 & 2 \\\\\n",
    "\\end{bmatrix}\n",
    "$$\n",
    "\n",
    "Now, to minimize the $RMSE$  we minimize the difference of the first rows $(5−(x+1))^2 + (2−(x+1))^2 + (4−(x+1))^2 + (4−(x+1))^2 + (3−(x+1))^2$. By  taking the derivative and set that equal to 0, we pick $x=2.6$\n",
    "\n",
    "Given the new value of $X$, we can calculate the best value for $Y$.\n",
    "\n",
    "$$\n",
    "M^\\prime = X \\times Y =\n",
    "\\begin{bmatrix}\n",
    " 2.6 & 1 \\\\\n",
    " 1 & 1 \\\\\n",
    " 1 & 1 \\\\\n",
    " 1 & 1 \\\\\n",
    " 1 & 1 \\\\\n",
    "\\end{bmatrix}\n",
    "\\times\n",
    "\\begin{bmatrix}\n",
    " y & 1 & 1 & 1 & 1 \\\\\n",
    " 1 & 1 & 1 & 1 & 1 \\\\\n",
    "\\end{bmatrix}\n",
    "=\n",
    "\\begin{bmatrix}\n",
    " 3.6 & 3.6 & 3.6 & 3.6 & 3.6 \\\\\n",
    " 2 & 2 & 2 & 2 & 2 \\\\\n",
    " 2 & 2 & 2 & 2 & 2 \\\\\n",
    " 2 & 2 & 2 & 2 & 2 \\\\\n",
    " 2 & 2 & 2 & 2 & 2 \\\\\n",
    "\\end{bmatrix}\n",
    "$$\n",
    "\n",
    "By doing the same process as before, we can pick value for $y=1.617$. After that, we can check if the $RMSE$ is not converged, we continue to update $X$ by $Y$ and vice versa. In this example, for simple, we only update one element of each matrix in each iteration. In practice, we can update a full row or full matrix at once.\n"
   ]
  },
  {
   "cell_type": "markdown",
   "metadata": {},
   "source": [
    "### 2.3.2 Matrix Factorization: Objective and ALS Algorithm on a Single Machine\n",
    "\n",
    "More formally, in general, we select $k$ latent features, and describe each user $u$ with a $k-$dimensional vector $x_u$, and each item $i$ with a $k-$dimensional vector $y_i$.\n",
    "\n",
    "Then, to predict user $u$'s rating for item $i$, we do as follows: $ r_{ui} \\approx x_{u}^{T}y_i$.\n",
    "\n",
    "This can be put, more elegantly, in a matrix form. Let $x_1, \\cdots x_n \\in \\mathbb{R}^k$ be the factors for the users, and $y_1, \\cdots y_m \\in \\mathbb{R}^k$ the factors for the items. The $k \\times n$ user matrix $X$ and the $k \\times m$ item matrix $Y$ are then defined by:\n",
    "\n",
    "$$\n",
    "X = \n",
    "\\begin{bmatrix}\n",
    " |   &         & |  \\\\\n",
    "x_1  &  \\cdots & x_n\\\\\n",
    " |   &         & |  \\\\\n",
    "\\end{bmatrix}\n",
    "$$\n",
    "\n",
    "$$\n",
    "Y = \n",
    "\\begin{bmatrix}\n",
    " |   &         & |  \\\\\n",
    "y_1  &  \\cdots & y_i\\\\\n",
    " |   &         & |  \\\\\n",
    "\\end{bmatrix}\n",
    "$$\n",
    "\n",
    "Our goal is to estimate the complete ratings matrix $R \\approx X^{T} Y$. We can formulate this problem as an optimization problem in which we aim to minimize an objective function and find optimal $X$ and $Y$ . In particular, we aim to minimize the least squares error of the observed ratings (and regularize):\n",
    "\n",
    "$$\n",
    "\\min_{X,Y} \\sum_{r_{ui} \\text{observed}}(r_{ui} - x_{u}^{T}y_i)^2 + \\lambda \\left( \\sum_{u} \\|x_u\\|^2 + \\sum_{i} \\|y_i\\|^2 \\right) \n",
    "$$\n",
    "\n",
    "Notice that this objective is non-convex (because of the $x_{u}^{T} y_i$ term); in fact it’s NP-hard to optimize. Gradient descent can be used as an approximate approach here, however it turns out to be slow and costs lots of iterations. Note however, that if we fix the set of variables $X$ and treat them as constants, then the objective is a convex function of $Y$ and vice versa. Our approach will therefore be to fix $Y$ and optimize $X$, then fix $X$ and optimize $Y$, and repeat until convergence. This approach is known as **ALS (Alternating Least Squares)**. For our objective function, the alternating least squares algorithm can be expressed with this simple pseudo-code:"
   ]
  },
  {
   "cell_type": "markdown",
   "metadata": {},
   "source": [
    "\n",
    "**Initialize** $X$, $Y$\n",
    "\n",
    "**while(convergence is not true) do**\n",
    "\n",
    "\n",
    "**for** $u = 1 \\cdots n$ **do**\n",
    "\n",
    "$x_u = \\left( \\sum_{r_ui \\in r_{u*}} y_i y_{i}^{T} + \\lambda I_k \\right)^{-1} \\sum_{r_ui \\in r_{u*}} r_{ui} y_i $ \n",
    "   \n",
    "**end for**\n",
    "\n",
    "**for** $u = 1 \\cdots n$ **do**\n",
    "\n",
    "$y_i = \\left( \\sum_{r_ui \\in r_{*i}} x_u x_{u}^{T} + \\lambda I_k \\right)^{-1} \\sum_{r_ui \\in r_{*i}} r_{ui} x_u $ \n",
    "   \n",
    "**end for**\n",
    "\n",
    "\n",
    "**end while**\n"
   ]
  },
  {
   "cell_type": "markdown",
   "metadata": {},
   "source": [
    "For a single machine, we can analyze the computational cost of this algorithm. Updating each $x_u$ will cost $O(n_u k^2 + k^3)$, where $n_u$ is the number of items rated by user $u$, and similarly updating each $y_i$ will cost $O(n_i k^2 + k^3)$, where $n_i$ is the number of users that have rated item $i$.\n",
    "\n",
    "\n",
    "Once we’ve computed the matrices $X$ and $Y$, there are several ways compute a prediction. The first is to do what was discussed before, which is to simply predict $ r_{ui} \\approx x_{u}^{T}y_i$ for each user $u$ and item $i$. \n",
    "This approach will cost $O(nmk)$ if we’d like to estimate every user-item pair. \n",
    "\n",
    "However, this approach is prohibitively expensive for most real-world datasets. A second (and more holistic) approach is to use the $x_u$ and $y_i$ as features in another learning algorithm, incorporating these features with others that are relevant to the prediction task."
   ]
  },
  {
   "cell_type": "markdown",
   "metadata": {},
   "source": [
    "### 2.3.3 Parallel Altenating Least Squares\n",
    "\n",
    "There are several ways to distribute the computation of the ALS algorithm depending on how data is partitioned.\n",
    "\n",
    "#### Method 1: using joins\n",
    "First we consider a fully distributed version, in the sense that all data (both input and output) is stored in a distributed file system. In practice, input data (ratings) and parameters ($X$ and $Y$) are stored in an a Spark RDD. Specifically, ratings -- that are always **sparse** -- are stored as RDD of triplets:\n",
    "\n",
    "Ratings: RDD((u, i, $r_{ui}$), . . . )\n",
    "\n",
    "\n",
    "Instead, we can use dense representation for factor matrices $X$ and $Y$, and these are stored as RDDs of vectors. More precisely, we can use the data types introduced in Spark MLLib to store such vectors and matrices:\n",
    "\n",
    "X : RDD($x_1$,...,$x_n$)\n",
    "\n",
    "Y : RDD($y_1$,...,$y_m$)\n",
    "\n",
    "\n",
    "Now, recall the expression to compute $x_u$:\n",
    "\n",
    "$x_u = \\left( \\sum_{r_ui \\in r_{u*}} y_i y_{i}^{T} + \\lambda I_k \\right)^{-1} \\sum_{r_ui \\in r_{u*}} r_{ui} y_i $ \n",
    "\n",
    "Let's call the first summation *part A* and the second summation *part B*. To compute such parts, in parallel, we can proceed with the following high-level pseudocode:\n",
    "\n",
    "* Join the Ratings RDD with the $Y$ matrix RDD using key $i$ (items)\n",
    "* Map to compute $y_i y_{i}^{T}$ and emit using key $u$ (user)\n",
    "* ReduceByKey $u$ (user) to compute $\\sum_{r_ui \\in r_{u*}} y_i y_{i}^{T}$\n",
    "* Invert\n",
    "* Another ReduceByKey $u$ (user) to compute $\\sum_{r_ui \\in r_{u*}} r_{ui} y_i$\n",
    "\n",
    "We can use the same template to copmute $y_i$.\n",
    "\n",
    "This approach works fine, but note it requires computing $y_i y_{i}^{T}$ for each user that has rated item $i$. \n",
    "\n",
    "#### Method 2: using broadcast variables (advanced topic)\n",
    "The next approach takes advantage of the fact that the $X$ and $Y$ factor matrices are often very small and can be stored locally on each machine.\n",
    "\n",
    "* Partition the Ratings RDD **by user** to create $R_1$, and similarly partition the Ratings RDD **by item** to create $R_2$. This means there are two copies of the same Ratings RDD, albeit with different partitionings. In $R_1$, all ratings by the same user are on the same machine, and in $R_2$ all ratings for same item are on the same machine.\n",
    "* Broadcast the matrices $X$ and $Y$. Note that these matrices are not RDD of vectors: they are now \"local: matrices.\n",
    "* Using $R_1$ and $Y$, we can use expression $x_u$ from above to compute the update of $x_u$ locally on each machine\n",
    "* Using $R_2$ and $X$, we can use expression $y_i$ from above to compute the update of $y_i$ locally on each machine\n",
    "\n",
    "A further optimization to this method is to group the $X$ and $Y$ factors matrices into blocks (user blocks and item blocks) and reduce the communication by only sending to each machine the block of users (or items) that are needed to compute the updates at that machine. \n",
    "\n",
    "This method is called **Block ALS**. It is achieved by precomputing some information about the ratings matrix to determine the \"out-links\" of each user (which blocks of the items it will contribute to) and \"in-link\" information for each item (which of the factor vectors it receives from each user block it will depend on). For exmple, assume that machine 1 is responsible for users 1,2,...,37: these will be block 1 of users. The items rated by these users are block 1 of items. Only the factors of block 1 of users and block 1 of items will be broadcasted to machine 1.\n",
    "\n",
    "### Further readings\n",
    "Other methods for matrix factorization include:\n",
    "\n",
    "* Low Rank Approximation and Regression in Input Sparsity Time, by Kenneth L. Clarkson, David P. Woodruff. http://arxiv.org/abs/1207.6365\n",
    "* Generalized Low Rank Models (GLRM), by Madeleine Udell, Corinne Horn, Reza Zadeh, Stephen Boyd. http://arxiv.org/abs/1410.0342\n",
    "* Matrix Completion and Low-Rank SVD via Fast Alternating Least Squares, by Trevor Hastie, Rahul Mazumder, Jason D. Lee, Reza Zadeh . Statistics Department and ICME, Stanford University, 2014. http://stanford.edu/~rezab/papers/fastals.pdf"
   ]
  },
  {
   "cell_type": "markdown",
   "metadata": {},
   "source": [
    "# 3. Usecase : Music recommender system\n",
    "\n",
    "In this usecase, we use the data of users and artists in the previous sections to build a statistical model to recommend artists for users.\n",
    " \n",
    "## 3.1 Requirements\n",
    "According to the properties of data, we need to choose a recommender algorithm that is suitable for this implicit feedback data. It means that the algorithm should learn without access to user or artist attributes such as age, genre,.... Therefore, an algorithm of type `collaborative filtering` is the best choice.\n",
    "\n",
    "Second, in the data, there are some users that have listened to only 1 artist. We need an algorithm that might provide decent recommendations to even these users. After all, at some point, every user starts out with just one play at some point! \n",
    "\n",
    "Third, we need an algorithm that scales, both in its ability to build large models, and to create recommendations quickly. So, an algorithm which can run on a distributed system (SPARK, Hadoop...) is very suitable.\n",
    "\n",
    "From these requirement, we can choose using ALS algorithm in SPARK's MLLIB.\n",
    "\n",
    "Spark MLlib’s ALS implementation draws on ideas from [1](http://yifanhu.net/PUB/cf.pdf) and [2](http://link.springer.com/chapter/10.1007%2F978-3-540-68880-8_32).\n",
    "\n",
    "## 3.2 Notes\n",
    "\n",
    "Currently, MLLIB can only build models from an RDD. That means we have two ways to prepare data:\n",
    "\n",
    "* Loading to into SPARK SQL DataFrame as before, and then access the corresponding RDD by calling `<dataframe>.rdd`. The invalid data is often sucessfully dropped by using mode `DROPMALFORMED`. However, this way might not work in all cases. Fortunately, we can use it with this usecase.\n",
    "\n",
    "* Loading data directly to RDD. However, we have to deal with the invalid data ourself. In the trade-off, this way is the most reliable, and can work in every case.\n",
    "\n",
    "In this notebook, we will use the second approach: it requires a bit more effort, but the reward is worth it!\n",
    "\n",
    " \n",
    "## 3.3 Cleanup the data\n",
    "In section 1, we already replaced the ids of mispelled artists by the corresponding standard ids by using SPARK SQL API.\n",
    "However, if the data has the invalid entries such that SPARK SQL API is stuck, the best way to work with it is using an RDD.\n",
    "\n",
    "Just as a recall, we work with three datasets in `user_artist_data.txt`, `` and `artist_alias.txt`. The entries in these file can be empty or have only one field. \n",
    "\n",
    "In details our goal now is:\n",
    "\n",
    "* Read the input ```user_artist_data.txt``` and transforms its representation into an output dataset.\n",
    "* To produce an output \"tuple\" containing the original user identifier and play counts, but with the artist identifier replaced by its most common alias, as found in the ```artist_alias.txt``` dataset.\n",
    "* Since the ```artist_alias.txt``` file is small, we can use a technique called **broadcast variables** to make such transformation more efficient.\n"
   ]
  },
  {
   "cell_type": "markdown",
   "metadata": {},
   "source": [
    "### Question 6\n",
    "\n",
    "#### Question 6.1\n",
    "\n",
    "<div class=\"alert alert-info\">\n",
    "Load data from `/datasets/lastfm/artist_alias.txt` and filter out the invalid entries to construct a dictionary to map from mispelled artists' ids to standard ids.\n",
    "</div>\n",
    "\n",
    "NOTE: From now on, we will use the \"standard\" data to train our model.\n",
    "\n",
    "HINT: If a line contains less than 2 fields or contains invalid numerial values, we can return a special tuple. After that, we can filter out these special tuples."
   ]
  },
  {
   "cell_type": "code",
   "execution_count": 62,
   "metadata": {},
   "outputs": [],
   "source": [
    "\n",
    "rawArtistAlias = sc.textFile(base + \"artist_alias.txt\")\n",
    "\n",
    "def xtractFields(s):\n",
    "    # Using white space or tab character as separetors,\n",
    "    # split a line into list of strings \n",
    "    line = re.split(\"\\s|\\t\",s,1)\n",
    "    # if this line has at least 2 characters\n",
    "    if (len(line) > 1):\n",
    "        try:\n",
    "            # try to parse the first and the second components to integer type\n",
    "            return (int(line[0]), int(line[1]))\n",
    "        except ValueError:\n",
    "            # if parsing has any error, return a special tuple\n",
    "            return (-1,-1)\n",
    "    else:\n",
    "        # if this line has less than 2 characters, return a special tuple\n",
    "        return (-1,-1)\n",
    "\n",
    "artistAlias = (\n",
    "                rawArtistAlias\n",
    "                    # extract fields using function xtractFields\n",
    "                    .map( xtractFields )\n",
    "    \n",
    "                    # filter out the special tuples\n",
    "                    .filter(lambda x: x!=(-1-1))\n",
    "    \n",
    "                    # collect result to the driver as a \"dictionary\"\n",
    "                    .collectAsMap()\n",
    "                )\n"
   ]
  },
  {
   "cell_type": "markdown",
   "metadata": {},
   "source": [
    "#### Question 6.2\n",
    "<div class=\"alert alert-info\">\n",
    "Using the dictionary in question 6.1, prepare RDD `userArtistDataRDD` by replacing mispelled artists' ids to standard ids. Show 5 samples.\n",
    "</div>\n",
    "\n",
    "HINT: Using broadcast variable can help us increase the effiency."
   ]
  },
  {
   "cell_type": "code",
   "execution_count": 63,
   "metadata": {},
   "outputs": [
    {
     "name": "stdout",
     "output_type": "stream",
     "text": [
      "UserID  | ArtistID | PlayCount\n",
      "1000002 |        1 |    55\n",
      "1000002 |  1000006 |    33\n",
      "1000002 |  1000007 |     8\n",
      "1000002 |  1000009 |   144\n",
      "1000002 |  1000010 |   314\n"
     ]
    }
   ],
   "source": [
    "bArtistAlias = sc.broadcast(artistAlias)\n",
    "rawUserArtistData = sc.textFile(base + \"user_artist_data.txt\")\n",
    "\n",
    "def disambiguate(line):\n",
    "    [userID, artistID, count] = line.split(' ')\n",
    "    finalArtistID = bArtistAlias.value.get(artistID,artistID)\n",
    "    return (userID, finalArtistID, count)\n",
    "\n",
    "\n",
    "userArtistDataRDD = rawUserArtistData.map(disambiguate)\n",
    "tmp = userArtistDataRDD.take(5)\n",
    "print('UserID  | ArtistID | PlayCount')\n",
    "for row in tmp:\n",
    "    print('%7s | %8s | %5s' % (row[0], row[1], row[2]))\n"
   ]
  },
  {
   "cell_type": "markdown",
   "metadata": {},
   "source": [
    "## 3.4 Training our statistical model\n",
    "To train a model using ALS, we must use a preference matrix  as an input. MLLIB uses the class `Rating` to support the construction of a distributed preference matrix."
   ]
  },
  {
   "cell_type": "markdown",
   "metadata": {},
   "source": [
    "### Question 7\n",
    "\n",
    "#### Question 7.1\n",
    "<div class=\"alert alert-info\">\n",
    "Given RDD `userArtistDataRDD` in question 6.2, construct a new RDD `trainingData` by tranforming each item of it into a `Rating` object.\n",
    "</div>"
   ]
  },
  {
   "cell_type": "code",
   "execution_count": 64,
   "metadata": {
    "collapsed": false
   },
   "outputs": [],
   "source": [
    "from pyspark.mllib.recommendation import ALS, MatrixFactorizationModel, Rating"
   ]
  },
  {
   "cell_type": "code",
   "execution_count": 65,
   "metadata": {},
   "outputs": [],
   "source": [
    "# after replacing mispelled artist ids, the data contains some play count duplications of a user with the same artist\n",
    "# remember to aggregate these records\n",
    "allData = userArtistDataRDD.toDF([\"userID\", \"artistID\", \"count\"]).rdd.map(lambda r: Rating(r[0], r[1], r[2])).repartition(4).cache()\n"
   ]
  },
  {
   "cell_type": "code",
   "execution_count": 66,
   "metadata": {},
   "outputs": [
    {
     "data": {
      "text/plain": [
       "[Rating(user=1000002, product=1000028, rating=17.0),\n",
       " Rating(user=1000002, product=1000031, rating=47.0),\n",
       " Rating(user=1000002, product=1000033, rating=15.0),\n",
       " Rating(user=1000002, product=1000042, rating=1.0),\n",
       " Rating(user=1000002, product=1000045, rating=1.0),\n",
       " Rating(user=1000002, product=1000054, rating=2.0),\n",
       " Rating(user=1000002, product=1000055, rating=25.0),\n",
       " Rating(user=1000002, product=1000056, rating=4.0),\n",
       " Rating(user=1000002, product=1000059, rating=2.0),\n",
       " Rating(user=1000002, product=1000062, rating=71.0)]"
      ]
     },
     "execution_count": 66,
     "metadata": {},
     "output_type": "execute_result"
    }
   ],
   "source": [
    "allData.take(10)"
   ]
  },
  {
   "cell_type": "markdown",
   "metadata": {},
   "source": [
    "#### Question 7.2\n",
    "<div class=\"alert alert-info\">\n",
    "A model can be trained by using `ALS.trainImplicit(<training data>, <rank>)`, where:\n",
    "<ul>\n",
    "<li>`training data` is the input data you decide to feed to the ALS algorithm</li>\n",
    "<li>`rank` is the number of laten features</li>\n",
    "</ul>  \n",
    "\n",
    "\n",
    "We can also use some additional parameters to adjust the quality of the model. Currently, let's set \n",
    "<ul>\n",
    "<li>`rank=10`</li>\n",
    "<li>`iterations=5`</li>\n",
    "<li>`lambda_=0.01`</li>\n",
    "<li>`alpha=1.0` </li>\n",
    "</ul>\n",
    "to build model.\n",
    "</div>"
   ]
  },
  {
   "cell_type": "code",
   "execution_count": 67,
   "metadata": {},
   "outputs": [
    {
     "name": "stdout",
     "output_type": "stream",
     "text": [
      "finish training model in 58.851219 secs\n"
     ]
    }
   ],
   "source": [
    "t0 = time()\n",
    "model = ALS.trainImplicit(allData, rank=10, iterations=5, lambda_=0.01, alpha=1.0)\n",
    "t1 = time()\n",
    "print(\"finish training model in %f secs\" % (t1 - t0))"
   ]
  },
  {
   "cell_type": "markdown",
   "metadata": {},
   "source": [
    "#### Question 7.3\n",
    "<div class=\"alert alert-info\">\n",
    "The trained model can be saved into HDFS for later use. This can be done via `model.save(sc, <file_name>)`.\n",
    "Let's use this function to store our model as name `lastfm_model.spark`.\n",
    "</div>\n",
    "\n",
    "NOTE 1: since you may have noticed that building the model takes some time, it might come to your mind that this information could be stored, such that you can \"interrupt\" your laboratory session here, and restart next time by loading your model.\n",
    "\n",
    "NOTE 2: funnily enough, it could take more time to save the model than to build it from scratch! So take a look at the execution time to save the model: this method actually stores the model as Parquet files, which are column-oriented and compressed.\n",
    "\n",
    "NOTE 3: to check you have your file on HDFS, you are invited to open a terminal from the \"Home\" Jupyter dashboard, and type `hdfs dfs -ls` to check."
   ]
  },
  {
   "cell_type": "code",
   "execution_count": 68,
   "metadata": {},
   "outputs": [
    {
     "name": "stdout",
     "output_type": "stream",
     "text": [
      "Deleted lastfm_model.spark\n"
     ]
    }
   ],
   "source": [
    "\n",
    "! hdfs dfs -rm -R -f -skipTrash lastfm_model.spark\n",
    "model.save( sc, \"lastfm_model.spark\" )\n"
   ]
  },
  {
   "cell_type": "markdown",
   "metadata": {},
   "source": [
    "#### Question 7.4\n",
    "<div class=\"alert alert-info\">\n",
    "A saved model can be load from file by using `MatrixFactorizationModel.load(sc, <file_name>)`. \n",
    "\n",
    "Let's load our model from file.\n",
    "</div>"
   ]
  },
  {
   "cell_type": "code",
   "execution_count": 69,
   "metadata": {},
   "outputs": [
    {
     "name": "stdout",
     "output_type": "stream",
     "text": [
      "finish loading model in 2.221595 secs\n"
     ]
    }
   ],
   "source": [
    "\n",
    "t0 = time()\n",
    "model = MatrixFactorizationModel.load( sc , \"lastfm_model.spark\" )\n",
    "t1 = time()\n",
    "print(\"finish loading model in %f secs\" % (t1 - t0))\n"
   ]
  },
  {
   "cell_type": "markdown",
   "metadata": {},
   "source": [
    "#### Question 7.5\n",
    "<div class=\"alert alert-info\">\n",
    "Print the first row of user features in our model.\n",
    "</div>"
   ]
  },
  {
   "cell_type": "code",
   "execution_count": 70,
   "metadata": {},
   "outputs": [
    {
     "data": {
      "text/plain": [
       "[(116,\n",
       "  array('d', [0.026292843744158745, 0.027350477874279022, 0.0057524265721440315, -0.022969448938965797, -0.027939293533563614, 0.02646712213754654, 0.0411098450422287, 0.04701774939894676, -0.03699486702680588, 0.03460720553994179]))]"
      ]
     },
     "execution_count": 70,
     "metadata": {},
     "output_type": "execute_result"
    }
   ],
   "source": [
    "\n",
    "model.userFeatures().take(1)\n"
   ]
  },
  {
   "cell_type": "markdown",
   "metadata": {},
   "source": [
    "### Question 8\n",
    "<div class=\"alert alert-info\">\n",
    "Show the top-5 artist names recommendated for a given user, for example: `2093760` (please, try with different users!).\n",
    "</div>\n",
    "\n",
    "HINT: The recommendations can be given by function `recommendProducts(userID, num_recommendations)`. These recommendations are only artist ids. You have to map them to artist names by using data in `artist_data.txt`."
   ]
  },
  {
   "cell_type": "code",
   "execution_count": 71,
   "metadata": {},
   "outputs": [
    {
     "data": {
      "text/plain": [
       "float"
      ]
     },
     "execution_count": 71,
     "metadata": {},
     "output_type": "execute_result"
    }
   ],
   "source": [
    "type(5.0)"
   ]
  },
  {
   "cell_type": "code",
   "execution_count": 72,
   "metadata": {},
   "outputs": [
    {
     "data": {
      "text/html": [
       "<div>\n",
       "<style scoped>\n",
       "    .dataframe tbody tr th:only-of-type {\n",
       "        vertical-align: middle;\n",
       "    }\n",
       "\n",
       "    .dataframe tbody tr th {\n",
       "        vertical-align: top;\n",
       "    }\n",
       "\n",
       "    .dataframe thead th {\n",
       "        text-align: right;\n",
       "    }\n",
       "</style>\n",
       "<table border=\"1\" class=\"dataframe\">\n",
       "  <thead>\n",
       "    <tr style=\"text-align: right;\">\n",
       "      <th></th>\n",
       "      <th>artistID</th>\n",
       "      <th>name</th>\n",
       "    </tr>\n",
       "  </thead>\n",
       "  <tbody>\n",
       "    <tr>\n",
       "      <th>0</th>\n",
       "      <td>1811</td>\n",
       "      <td>Dr. Dre</td>\n",
       "    </tr>\n",
       "  </tbody>\n",
       "</table>\n",
       "</div>"
      ],
      "text/plain": [
       "   artistID     name\n",
       "0      1811  Dr. Dre"
      ]
     },
     "metadata": {},
     "output_type": "display_data"
    }
   ],
   "source": [
    "display(artistDF[artistDF.artistID==1811].toPandas().head())"
   ]
  },
  {
   "cell_type": "code",
   "execution_count": 73,
   "metadata": {},
   "outputs": [
    {
     "name": "stdout",
     "output_type": "stream",
     "text": [
      "Suggestions for userID 2093760: 50 Cent, The Game, 2Pac, Kanye West, Ludacris.\n",
      "Suggestions for userID 1006831: [unknown], The Faint, The Postal Service, The Killers, Muse.\n",
      "Suggestions for userID 1034362: Boards of Canada, Four Tet, Squarepusher, Aphex Twin, Autechre.\n",
      "Suggestions for userID 1044124: [unknown], Madonna, Yann Tiersen, The Cardigans, Tori Amos.\n",
      "Suggestions for userID 1060379: Mirah, Regina Spektor, Joanna Newsom, Sufjan Stevens, Of Montreal.\n",
      "Suggestions for userID 1068595: Brian Eno, Antony and the Johnsons, Four Tet, múm, Tortoise.\n",
      "Suggestions for userID 2009088: Joanna Newsom, Devendra Banhart, Antony and the Johnsons, Bonnie 'Prince' Billy, M. Ward.\n",
      "Suggestions for userID 2054250: Blonde Redhead, Xiu Xiu, The Books, Devendra Banhart, M83.\n",
      "Suggestions for userID 2061033: Air, Thievery Corporation, Zero 7, Beck, Björk.\n",
      "Suggestions for userID 2062949: Death From Above 1979, M83, Xiu Xiu, Stars, Broken Social Scene.\n",
      "Suggestions for userID 2073068: Gwen Stefani, Scissor Sisters, Keane, Kylie Minogue, Annie.\n",
      "Suggestions for userID 2076111: The Game, 50 Cent, 2Pac, Ludacris, Kanye West.\n",
      "Suggestions for userID 2082001: U2, Red Hot Chili Peppers, Green Day, Nirvana, Coldplay.\n",
      "Suggestions for userID 2189954: Gorillaz, The Streets, Daft Punk, Outkast, [unknown].\n",
      "Suggestions for userID 2195179: M83, Blonde Redhead, Ladytron, Le Tigre, Boards of Canada.\n",
      "Suggestions for userID 2274274: Rammstein, Metallica, Nightwish, Marilyn Manson, Nine Inch Nails.\n",
      "Suggestions for userID 2285232: Manic Street Preachers, The Killers, Franz Ferdinand, The Beatles, Radiohead.\n"
     ]
    }
   ],
   "source": [
    "\n",
    "# Make five reccommendations to user 2093760\n",
    "for userId in [2093760,1006831,1034362,1044124,1060379,1068595,2009088,2054250,2061033,2062949,2073068, 2076111, 2082001, 2189954, 2195179, 2274274, 2285232]:\n",
    "    recommendations = (model.recommendProducts(userId, 5))\n",
    "    rec = [(r[0],artistDF[artistDF.artistID==r[1]].collect()[0][1],r[2]) for r in recommendations]\n",
    "    print('Suggestions for userID {}: {}, {}, {}, {}, {}.'.format(userId, rec[0][1], rec[1][1], rec[2][1], rec[3][1], rec[4][1]))\n",
    "\n",
    "\n",
    "# construct set of recommendated artists\n",
    "#recArtist = set()\n"
   ]
  },
  {
   "cell_type": "markdown",
   "metadata": {},
   "source": [
    "### Comments"
   ]
  },
  {
   "cell_type": "markdown",
   "metadata": {},
   "source": [
    "<div class='alert alert-success'>\n",
    "    <p>By looking at the suggestions, our model seems to be pretty coherent. Indeed all the suggestions for an user in the same music genre and seem to have the same influences.\n",
    "    <strong>However</strong> we can notice that <code> [unknown] </code> has been suggested to an user. This highlights the fact that it should be removed from the dataset.\n",
    "    <strong>Moreover</strong> even if those suggestions seem coherent, we cannot figure out if the user will like them. That's why we need a way to evaluate our model.</p>\n",
    "</div>"
   ]
  },
  {
   "cell_type": "code",
   "execution_count": null,
   "metadata": {},
   "outputs": [],
   "source": [
    "#we did not use this part of code, as we found another way to do it.\n",
    "\n",
    "'''\n",
    "# construct data of artists (artist_id, artist_name)\n",
    "\n",
    "rawArtistData = sc.textFile(base + \"artist_data.txt\")\n",
    "\n",
    "def xtractFields(s):\n",
    "    line = re.split(\"\\s|\\t\",s,1)\n",
    "    if (len(line) > 1):\n",
    "        try:\n",
    "            return (int(line[0]), str(line[1].strip()))\n",
    "        except ValueError:\n",
    "            return (-1,\"\")\n",
    "    else: \n",
    "        return (-1,\"\")\n",
    "\n",
    "artistByID = rawArtistData.map(xtractFields).filter(lambda x: x[0] > 0)\n",
    "\n",
    "\n",
    "# Filter in those artists, get just artist, and print\n",
    "def artistNames(line):\n",
    "#     [artistID, name]\n",
    "    if (line[0]>0):\n",
    "        return True\n",
    "    else:\n",
    "        return False\n",
    "\n",
    "recList = artistByID.filter(lambda x: artistNames(x)).values().collect()\n",
    "\n",
    "print(recList)\n",
    "'''\n"
   ]
  },
  {
   "cell_type": "markdown",
   "metadata": {},
   "source": [
    "<div class=\"alert alert-danger\">\n",
    "At the moment, it is necessary to manually unpersist the RDDs inside the model when you are done with it. The following function can be used to make sure models are promptly uncached.\n",
    "</div>"
   ]
  },
  {
   "cell_type": "code",
   "execution_count": 75,
   "metadata": {},
   "outputs": [],
   "source": [
    "\n",
    "def unpersist(model):\n",
    "    model.userFeatures().unpersist()\n",
    "    model.productFeatures().unpersist()\n",
    "\n",
    "# uncache data and model when they are no longer used  \n"
   ]
  },
  {
   "cell_type": "markdown",
   "metadata": {},
   "source": [
    "## 3.5 Evaluating Recommendation Quality \n",
    "\n",
    "In this section, we study how to evaluate the quality of our model. It's hard to say how good the recommendations are.\n",
    "One of serveral methods approach to evaluate  a recommender based on its ability to rank good items (artists) high in a list of recommendations. The problem is how to define \"good artists\". Currently, by training all data, \"good artists\" is defined as \"artists the user has listened to\", and the recommender system has already received all of this information as input. It could trivially return the users previously-listened artists as top recommendations and score perfectly. Indeed, this is not useful, because the recommender's is used to recommend artists that the user has **never** listened to. \n",
    "\n",
    "To overcome that problem, we can hide the some of the artist play data and only use the rest to train model. Then, this held-out data can be interpreted as a collection of \"good\" recommendations for each user. The recommender is asked to rank all items in the model, and the rank of the held-out artists are examined. Ideally the recommender places all of them at or near the top of the list.\n",
    "\n",
    "The recommender's score can then be computed by comparing all held-out artists' ranks to the rest.  The fraction of pairs where the held-out artist is ranked higher is its score. 1.0 is perfect, 0.0 is the worst possible score, and 0.5 is the expected value achieved from randomly ranking artists. \n",
    "\n",
    "AUC(Area Under the Curve) can be used as a metric to evaluate model. It is also viewed as the probability that a randomly-chosen \"good\" artist ranks above a randomly-chosen \"bad\" artist.\n",
    "\n",
    "Next, we split the training data into 2 parts: `trainData` and `cvData` with ratio 0.9:0.1 respectively, where `trainData` is the dataset that will be used to train model. Then we write a function to calculate AUC to evaluate the quality of our model.\n"
   ]
  },
  {
   "cell_type": "markdown",
   "metadata": {},
   "source": [
    "### Question 9\n",
    "\n",
    "#### Question 9.1\n",
    "<div class=\"alert alert-info\">\n",
    "Split the data into `trainData` and `cvData` with ratio 0.9:0.1 and use the first part to train a statistic model with:\n",
    "<ul>\n",
    "<li>`rank`=10</li>\n",
    "<li>`iterations`=5</li>\n",
    "<li>`lambda_`=0.01</li>\n",
    "<li>`alpha`=1.0</li>\n",
    "</ul>\n",
    "</div>"
   ]
  },
  {
   "cell_type": "code",
   "execution_count": 76,
   "metadata": {},
   "outputs": [
    {
     "data": {
      "text/plain": [
       "PythonRDD[932] at RDD at PythonRDD.scala:48"
      ]
     },
     "execution_count": 76,
     "metadata": {},
     "output_type": "execute_result"
    }
   ],
   "source": [
    "\n",
    "trainData, cvData = allData.randomSplit((0.9,0.1))\n",
    "trainData.cache()\n",
    "cvData.cache()\n"
   ]
  },
  {
   "cell_type": "code",
   "execution_count": 77,
   "metadata": {},
   "outputs": [
    {
     "name": "stdout",
     "output_type": "stream",
     "text": [
      "finish training model in 71.716539 secs\n"
     ]
    }
   ],
   "source": [
    "\n",
    "t0 = time()\n",
    "model = ALS.trainImplicit(trainData, rank=10, iterations=5, lambda_=0.01, alpha=1.0)\n",
    "t1 = time()\n",
    "print(\"finish training model in %f secs\" % (t1 - t0))\n"
   ]
  },
  {
   "cell_type": "markdown",
   "metadata": {},
   "source": [
    "#### Area under the ROC curve: a function to compute it"
   ]
  },
  {
   "cell_type": "code",
   "execution_count": 78,
   "metadata": {
    "collapsed": true
   },
   "outputs": [],
   "source": [
    "# Get all unique artistId, and broadcast them\n",
    "allItemIDs = np.array(allData.map(lambda x: x[1]).distinct().collect())\n",
    "bAllItemIDs = sc.broadcast(allItemIDs)"
   ]
  },
  {
   "cell_type": "code",
   "execution_count": 79,
   "metadata": {
    "collapsed": false
   },
   "outputs": [],
   "source": [
    "from random import randint\n",
    "\n",
    "# Depend on the number of item in userIDAndPosItemIDs,\n",
    "# create a set of \"negative\" products for each user. These are randomly chosen\n",
    "# from among all of the other items, excluding those that are \"positive\" for the user.\n",
    "# NOTE 1: mapPartitions operates on many (user,positive-items) pairs at once\n",
    "# NOTE 2: flatMap breaks the collections above down into one big set of tuples\n",
    "def xtractNegative(userIDAndPosItemIDs):\n",
    "    def pickEnoughNegatives(line):\n",
    "        userID = line[0]\n",
    "        posItemIDSet = set(line[1])\n",
    "        #posItemIDSet = line[1]\n",
    "        negative = []\n",
    "        allItemIDs = bAllItemIDs.value\n",
    "        # Keep about as many negative examples per user as positive. Duplicates are OK.\n",
    "        i = 0\n",
    "        while (i < len(allItemIDs) and len(negative) < len(posItemIDSet)):\n",
    "            itemID = allItemIDs[randint(0,len(allItemIDs)-1)]\n",
    "            if itemID not in posItemIDSet:\n",
    "                negative.append(itemID)\n",
    "            i += 1\n",
    "        \n",
    "        # Result is a collection of (user,negative-item) tuples\n",
    "        return map(lambda itemID: (userID, itemID), negative)\n",
    "\n",
    "    # Init an RNG and the item IDs set once for partition\n",
    "    # allItemIDs = bAllItemIDs.value\n",
    "    return map(pickEnoughNegatives, userIDAndPosItemIDs)\n",
    "\n",
    "def ratioOfCorrectRanks(positiveRatings, negativeRatings):\n",
    "    \n",
    "    # find number elements in arr that has index >= start and has value smaller than x\n",
    "    # arr is a sorted array\n",
    "    def findNumElementsSmallerThan(arr, x, start=0):\n",
    "        left = start\n",
    "        right = len(arr) -1\n",
    "        # if x is bigger than the biggest element in arr\n",
    "        if start > right or x > arr[right]:\n",
    "            return right + 1\n",
    "        mid = -1\n",
    "        while left <= right:\n",
    "            mid = (left + right) // 2\n",
    "            if arr[mid] < x:\n",
    "                left = mid + 1\n",
    "            elif arr[mid] > x:\n",
    "                right = mid - 1\n",
    "            else:\n",
    "                while mid-1 >= start and arr[mid-1] == x:\n",
    "                    mid -= 1\n",
    "                return mid\n",
    "        return mid if arr[mid] > x else mid + 1\n",
    "    \n",
    "    ## AUC may be viewed as the probability that a random positive item scores\n",
    "    ## higher than a random negative one. Here the proportion of all positive-negative\n",
    "    ## pairs that are correctly ranked is computed. The result is equal to the AUC metric.\n",
    "    correct = 0 ## L\n",
    "    total = 0 ## L\n",
    "    \n",
    "    # sorting positiveRatings array needs more cost\n",
    "    #positiveRatings = np.array(map(lambda x: x.rating, positiveRatings))\n",
    "\n",
    "    negativeRatings = list(map(lambda x:x.rating, negativeRatings))\n",
    "    \n",
    "    #np.sort(positiveRatings)\n",
    "    negativeRatings.sort()# = np.sort(negativeRatings)\n",
    "    total = len(positiveRatings)*len(negativeRatings)\n",
    "    \n",
    "    for positive in positiveRatings:\n",
    "        # Count the correctly-ranked pairs\n",
    "        correct += findNumElementsSmallerThan(negativeRatings, positive.rating)\n",
    "        \n",
    "    ## Return AUC: fraction of pairs ranked correctly\n",
    "    return float(correct) / total\n",
    "\n",
    "def calculateAUC(positiveData, bAllItemIDs, predictFunction):\n",
    "    # Take held-out data as the \"positive\", and map to tuples\n",
    "    positiveUserProducts = positiveData.map(lambda r: (r[0], r[1]))\n",
    "    # Make predictions for each of them, including a numeric score, and gather by user\n",
    "    positivePredictions = predictFunction(positiveUserProducts).groupBy(lambda r: r.user)\n",
    "    \n",
    "    # Create a set of \"negative\" products for each user. These are randomly chosen \n",
    "    # from among all of the other items, excluding those that are \"positive\" for the user. \n",
    "    negativeUserProducts = positiveUserProducts.groupByKey().mapPartitions(xtractNegative).flatMap(lambda x: x)\n",
    "    # Make predictions on the rest\n",
    "    negativePredictions = predictFunction(negativeUserProducts).groupBy(lambda r: r.user)\n",
    "    \n",
    "    return (\n",
    "            positivePredictions.join(negativePredictions)\n",
    "                .values()\n",
    "                .map(\n",
    "                    lambda positive_negativeRatings: ratioOfCorrectRanks(positive_negativeRatings[0], positive_negativeRatings[1])\n",
    "                )\n",
    "                .mean()\n",
    "            )"
   ]
  },
  {
   "cell_type": "markdown",
   "metadata": {},
   "source": [
    "####  Question 9.2\n",
    "<div class=\"alert alert-info\">\n",
    "Using part `cvData` and function `calculateAUC` to compute the AUC of the trained model.\n",
    "</div>"
   ]
  },
  {
   "cell_type": "code",
   "execution_count": 80,
   "metadata": {},
   "outputs": [
    {
     "name": "stdout",
     "output_type": "stream",
     "text": [
      "auc= 0.9659046228784087\n",
      "finish in 50.925700 seconds\n"
     ]
    }
   ],
   "source": [
    "t0 = time()\n",
    "auc = calculateAUC(cvData, bAllItemIDs, model.predictAll)\n",
    "t1 = time()\n",
    "print(\"auc=\",auc)\n",
    "print(\"finish in %f seconds\" % (t1 - t0))"
   ]
  },
  {
   "cell_type": "markdown",
   "metadata": {},
   "source": [
    "#### Question 9.3\n",
    "<div class=\"alert alert-info\">\n",
    "Now we have the UAC of our model, it’s helpful to benchmark this against a simpler approach. For example, consider recommending the globally most-played artists to every user. This is not personalized, but is simple and may be effective.   \n",
    "<ul></ul>\n",
    "Implement this simple pupolarity-based prediction algorithm, evaluate its AUC score, and compare to the results achieved by the more sophisticated ALS algorithm.\n",
    "</div>"
   ]
  },
  {
   "cell_type": "code",
   "execution_count": 81,
   "metadata": {},
   "outputs": [],
   "source": [
    "from operator import add\n",
    "bListenCount = sc.broadcast(trainData.map(lambda r: (r[1], r[2])).reduceByKey(add).collectAsMap())\n",
    "def predictMostListened(allData):\n",
    "    return allData.map(lambda r: Rating(r[0], r[1], bListenCount.value.get( r[1] , 0.0)))\n"
   ]
  },
  {
   "cell_type": "code",
   "execution_count": 82,
   "metadata": {},
   "outputs": [
    {
     "name": "stdout",
     "output_type": "stream",
     "text": [
      "0.9527443465442706\n"
     ]
    }
   ],
   "source": [
    "auc = calculateAUC(allData, bAllItemIDs, predictMostListened)\n",
    "print(auc)\n"
   ]
  },
  {
   "cell_type": "markdown",
   "metadata": {},
   "source": [
    "<div class='alert alert-success'>\n",
    "    <p>\n",
    "    The AUC of our personalized model is better than the one from the simple approach, which shows that our model is more accurate than just recommanding the globally most-played artists to every user.\n",
    "    <strong>However</strong>, as the coefficiants of the matrix are chosen randomly, our model can be stuck in a local maximum.\n",
    "    </p>\n",
    "</div>"
   ]
  },
  {
   "cell_type": "markdown",
   "metadata": {},
   "source": [
    "## 3.6 Personalized recommendations with ALS\n",
    "\n",
    "In the previous section, we build our models with some given paramters without any knowledge about them. Actually, choosing the best parameters' values is very important. It can significantly affect the quality of models. Especially, with the current implementation of ALS in MLLIB, these parameters are not learned by the algorithm, and must be chosen by the caller. The following parameters should get consideration before training models:\n",
    "\n",
    "* `rank = 10`: the number of latent factors in the model, or equivalently, the number of columns $k$ in the user-feature and product-feature matrices. In non-trivial cases, this is also their rank. \n",
    "\n",
    "* `iterations = 5`: the number of iterations that the factorization runs. Instead of runing the algorithm until RMSE converged which actually takes very long time to finish with large datasets, we only let it run in a given number of iterations. More iterations take more time but may produce a better factorization.\n",
    "\n",
    "* `lambda_ = 0.01`: a standard overfitting parameter. Higher values resist overfitting, but values that are too high hurt the factorization's accuracy.\n",
    "\n",
    "*  `alpha = 1.0`: controls the relative weight of observed versus unobserved userproduct interactions in the factorization. \n",
    "\n",
    "Although all of them have impact on the models' quality, `iterations` is more of a constraint on resources used in the factorization. So, `rank`, `lambda_` and `alpha` can be considered hyperparameters to the model. \n",
    "We will try to find \"good\" values for them. Indeed, the values of hyperparameter are not necessarily optimal. Choosing good hyperparameter values is a common problem in machine learning. The most basic way to choose values is to simply try combinations of values and evaluate a metric for each of them, and choose the combination that produces the best value of the metric. \n"
   ]
  },
  {
   "cell_type": "markdown",
   "metadata": {},
   "source": [
    "### Question 10\n",
    "\n",
    "#### Question 10.1\n",
    "<div class=\"alert alert-info\">\n",
    "For simplicity, assume that we want to explore the following parameter space: $ rank \\in \\{10, 50\\}$, $lambda\\_ \\in \\{1.0, 0.0001\\}$ and $alpha \\in \\{1.0, 40.0\\}$.\n",
    "\n",
    "Find the best combination of them in terms of the highest AUC value.\n",
    "</div>"
   ]
  },
  {
   "cell_type": "code",
   "execution_count": 83,
   "metadata": {},
   "outputs": [
    {
     "name": "stdout",
     "output_type": "stream",
     "text": [
      "Train model with rank=10 lambda_=1.000000 alpha=1.000000\n",
      "Train model with rank=10 lambda_=1.000000 alpha=40.000000\n",
      "Train model with rank=10 lambda_=0.000100 alpha=1.000000\n",
      "Train model with rank=10 lambda_=0.000100 alpha=40.000000\n",
      "Train model with rank=50 lambda_=1.000000 alpha=1.000000\n",
      "Train model with rank=50 lambda_=1.000000 alpha=40.000000\n",
      "Train model with rank=50 lambda_=0.000100 alpha=1.000000\n",
      "Train model with rank=50 lambda_=0.000100 alpha=40.000000\n",
      "                    0         1\n",
      "0   (50, 0.0001, 1.0)  0.953943\n",
      "1   (10, 0.0001, 1.0)  0.962773\n",
      "2      (50, 1.0, 1.0)  0.966717\n",
      "3      (10, 1.0, 1.0)  0.970143\n",
      "4  (50, 0.0001, 40.0)  0.975180\n",
      "5     (50, 1.0, 40.0)  0.976032\n",
      "6  (10, 0.0001, 40.0)  0.976334\n",
      "7     (10, 1.0, 40.0)  0.976880\n"
     ]
    },
    {
     "data": {
      "text/plain": [
       "PythonRDD[932] at RDD at PythonRDD.scala:48"
      ]
     },
     "execution_count": 83,
     "metadata": {},
     "output_type": "execute_result"
    }
   ],
   "source": [
    "evaluations = []\n",
    "\n",
    "for rank in [10, 50]:\n",
    "    for lambda_ in [1.0, 0.0001]:\n",
    "        for alpha in [1.0, 40.0]:\n",
    "            print(\"Train model with rank=%d lambda_=%f alpha=%f\" % (rank, lambda_, alpha))\n",
    "            # with each combination of params, we should run multiple times and get avg\n",
    "            # for simple, we only run one time.\n",
    "            model = ALS.trainImplicit(trainData, rank=rank, iterations=5, lambda_=lambda_, alpha=alpha)\n",
    "            \n",
    "            auc = calculateAUC( cvData, bAllItemIDs, model.predictAll )\n",
    "            \n",
    "            evaluations.append(((rank, lambda_, alpha), auc))\n",
    "            \n",
    "            unpersist(model)\n",
    "\n",
    "evaluations.sort(key = lambda x: x[1])\n",
    "                 \n",
    "evalDataFrame = pd.DataFrame(data=evaluations)\n",
    "print(evalDataFrame)\n",
    "\n",
    "trainData.unpersist()\n",
    "cvData.unpersist()"
   ]
  },
  {
   "cell_type": "markdown",
   "metadata": {},
   "source": [
    "<div class='alert alert-success'>\n",
    "    <p> By compiling a simple greedy search, we can find better parametters for model (rank=10 lambda_=1.0 alpha=40.0). Those parameters will significantly increase the AUC by 2%. \n",
    "    <strong> Moreover</strong> we still have to take into acount that our model depends on local extremas because of the initials weights that are randomly chosen. </p> \n",
    "    </div>"
   ]
  },
  {
   "cell_type": "markdown",
   "metadata": {},
   "source": [
    "#### Question 10.2 \n",
    "<div class=\"alert alert-info\">\n",
    "Using \"optimal\" hyper-parameters in question 10.1, re-train the model and show top-5 artist names recommendated for user `2093760`.\n",
    "</div>"
   ]
  },
  {
   "cell_type": "code",
   "execution_count": 84,
   "metadata": {},
   "outputs": [
    {
     "name": "stdout",
     "output_type": "stream",
     "text": [
      "Suggestions for userID 2093760: [unknown], Eminem, U2, Linkin Park, Green Day.\n"
     ]
    }
   ],
   "source": [
    "\n",
    "model = ALS.trainImplicit(trainData, rank=10 ,iterations=5 , lambda_=1.0 ,alpha=40.0 )\n",
    "allData.unpersist()\n",
    "\n",
    "userID = 2093760\n",
    "recommendations = model.recommendProducts(userID, 10)\n",
    "\n",
    "recommendedProductIDs = set( )\n",
    "rec = [(r[0],artistDF[artistDF.artistID==r[1]].collect()[0][1],r[2]) for r in recommendations]\n",
    "print('Suggestions for userID {}: {}, {}, {}, {}, {}.'.format(userID, rec[0][1], rec[1][1], rec[2][1], rec[3][1], rec[4][1]))\n",
    "\n",
    "#recList = artistByID. ...\n",
    "#print(recList)\n",
    "\n",
    "unpersist(model)\n"
   ]
  },
  {
   "cell_type": "code",
   "execution_count": 85,
   "metadata": {},
   "outputs": [],
   "source": [
    "def VisualizeUser(recommendations,userID):\n",
    "    rec = [(r[0],artistDF[artistDF.artistID==r[1]].collect()[0][1],r[2]) for r in recommendations]\n",
    "    listen=newUserArtistDF[newUserArtistDF.userID==userID].groupBy('artistID').sum('playCount').orderBy('sum(playCount)').collect()\n",
    "    liked=[(artistDF[artistDF.artistID==r[0]].collect()[0][1],r[1]) for r in listen]\n",
    "    liked[::-1]\n",
    "    print('userId = %5s | artist suggested            | artist liked             ' %(userID))\n",
    "    print('-----------------------------------------------------------------------------------------')\n",
    "    for i in range(len(rec)):\n",
    "        try:\n",
    "            print('                  | %30s | %30s ' % ( rec[i][1], liked[i][0]))\n",
    "        except:\n",
    "            print('                  | %30s | %30s ' % ( rec[i][1], 'None'))\n",
    "    print('-----------------------------------------------------------------------------------------')"
   ]
  },
  {
   "cell_type": "code",
   "execution_count": 86,
   "metadata": {},
   "outputs": [
    {
     "name": "stdout",
     "output_type": "stream",
     "text": [
      "userId = 2093760 | artist suggested            | artist liked             \n",
      "-----------------------------------------------------------------------------------------\n",
      "                  |                      [unknown] |                  Blackalicious \n",
      "                  |                         Eminem |                     David Gray \n",
      "                  |                             U2 |                     Jurassic 5 \n",
      "                  |                    Linkin Park |                The Saw Doctors \n",
      "                  |                      Green Day |                         Xzibit \n",
      "                  |                        50 Cent |                           None \n",
      "                  |                       Coldplay |                           None \n",
      "                  |                      blink-182 |                           None \n",
      "                  |                          Queen |                           None \n",
      "                  |                    The Killers |                           None \n",
      "-----------------------------------------------------------------------------------------\n"
     ]
    }
   ],
   "source": [
    "VisualizeUser(recommendations,userID)"
   ]
  },
  {
   "cell_type": "markdown",
   "metadata": {},
   "source": [
    "<div class='alert alert-success'>\n",
    "    <p> \n",
    "    The first thing we can notice is that <code> [unknown] </code> is suggested which is normal because we still haven't remove them from the data and it's one of the top most listened artist. <strong> Moreover </strong> as this user as only listened 5 artist from different music genres the suggestions are various.\n",
    "    </p>\n",
    "   </div>\n",
    "   "
   ]
  },
  {
   "cell_type": "markdown",
   "metadata": {},
   "source": [
    "# 4. Extra\n",
    "## 4.1. More cleaning"
   ]
  },
  {
   "cell_type": "markdown",
   "metadata": {},
   "source": [
    "### 4.1.1. Removing a part of the data we consider as non revelant:\n"
   ]
  },
  {
   "cell_type": "markdown",
   "metadata": {},
   "source": [
    "<div class='alert alert-success'>\n",
    "    <p> \n",
    "    As we have seen in 2.1 and 2.2, we have find out that there is a part of the data that we consider as non revelant that's why we remove them to rebuild the model. <strong>Moreover</strong> we also decided to remove the <code> [unknown] </code> artist and to merge the duplicates (due to the first cleaning).\n",
    "    \n",
    "    </p>\n",
    "</div>\n",
    "  "
   ]
  },
  {
   "cell_type": "code",
   "execution_count": 88,
   "metadata": {},
   "outputs": [
    {
     "name": "stdout",
     "output_type": "stream",
     "text": [
      "+-------+--------+---------+\n",
      "| userID|artistID|playCount|\n",
      "+-------+--------+---------+\n",
      "|1000061| 1018184|        1|\n",
      "|1000061| 1144034|        1|\n",
      "|1000061| 1012301|        1|\n",
      "|1000061| 2047383|        1|\n",
      "|1000061| 1003162|        1|\n",
      "|1000061| 1005290|        7|\n",
      "|1000061| 1022508|        1|\n",
      "|1000061| 1024720|        2|\n",
      "|1000061| 1002397|        1|\n",
      "|1000061| 1280363|        1|\n",
      "|1000061| 1026636|        1|\n",
      "|1000061|    4019|        1|\n",
      "|1000061| 1204837|        1|\n",
      "|1000061| 1024679|        1|\n",
      "|1000061| 1039532|        1|\n",
      "|1000061| 1024951|        1|\n",
      "|1000061|    3783|        1|\n",
      "|1000061| 1002557|        1|\n",
      "|1000061| 1005390|        4|\n",
      "|1000061| 1003591|        1|\n",
      "+-------+--------+---------+\n",
      "only showing top 20 rows\n",
      "\n"
     ]
    }
   ],
   "source": [
    "smallerUserArtistDF = (\n",
    "    newUserArtistDF\n",
    "        .alias('df')\n",
    "    \n",
    "        # removing artists whose playCounts are too low (we chose 3 as the threshold)\n",
    "        .join(\n",
    "            newUserArtistDF\n",
    "                .groupBy('artistID')\n",
    "                .sum('playCount')\n",
    "                .alias('sumADF'),\n",
    "            col('sumADF.artistID')==col('df.artistID'),\n",
    "            'left_outer'\n",
    "        )\n",
    "        .filter(col('sumADF.sum(playCount)') > 3)\n",
    "        \n",
    "        # removing users whose playCounts are too low (<5) or too high (>7000)\n",
    "        .join(\n",
    "            newUserArtistDF\n",
    "                .groupBy('userID')\n",
    "                .sum('playCount')\n",
    "                .alias('sumUDF'),\n",
    "            col('sumUDF.userID')==col('df.userID'),\n",
    "            'left_outer'\n",
    "        )\n",
    "        .filter(col('sumUDF.sum(playCount)') < 7000)\n",
    "        .filter(col('sumUDF.sum(playCount)') > 5)\n",
    "        \n",
    "        # removing [unknown]\n",
    "        .filter(col('df.artistID')!=1034635)\n",
    "        \n",
    "        # removing tmp cols\n",
    "        .select(col('df.userID'), col('df.artistID'), col('playCount'))\n",
    "        \n",
    "        # merging duplicates (artistID, userID)\n",
    "        .groupBy('df.userID', 'df.artistID')\n",
    "        .sum('df.playCount')\n",
    "        .withColumnRenamed('sum(playCount)', 'playCount')\n",
    "        \n",
    "        # caching\n",
    "        .cache()    \n",
    "    )\n",
    "\n",
    "smallerUserArtistDF.show()"
   ]
  },
  {
   "cell_type": "markdown",
   "metadata": {},
   "source": [
    "<div class='alert alert-success'>\n",
    "    <p> \n",
    "    \n",
    "    </p>\n",
    "</div>\n",
    "  "
   ]
  },
  {
   "cell_type": "code",
   "execution_count": 89,
   "metadata": {},
   "outputs": [
    {
     "name": "stdout",
     "output_type": "stream",
     "text": [
      "Previous total n. of user: 148111\n",
      "New total n. of users:  129531\n",
      "Previous number of artists: 1632028\n",
      "New number of artists:  597298\n"
     ]
    }
   ],
   "source": [
    "uniqueUsers = smallerUserArtistDF.select('userID').distinct().count()\n",
    "print('Previous total n. of user: 148111')\n",
    "print(\"New total n. of users: \", uniqueUsers)\n",
    "\n",
    "uniqueArtists = smallerUserArtistDF.select('artistID').distinct().count()\n",
    "print(\"Previous number of artists: 1632028\")\n",
    "print(\"New number of artists: \", uniqueArtists)"
   ]
  },
  {
   "cell_type": "markdown",
   "metadata": {},
   "source": [
    "<div class='alert alert-success'>\n",
    "    <p> \n",
    "    We can see that the data has been significantly cut ( ~ 14% of user and ~ 63% of the artist) which should have two main consequences on the rest of our notebook. First, since our dataset is smaller, our computations will be faster, which means that we can select a larger proportion of our dataset if we were limited in size of the dataset (which will happen soon when working with other models. The second consequence is that we removed noise from our data so our results should be better than before. We will quantify all this in the next cells.\n",
    "    </p>\n",
    "</div>\n",
    "  "
   ]
  },
  {
   "cell_type": "markdown",
   "metadata": {},
   "source": [
    "### 4.1.2. Removing *alias chains*"
   ]
  },
  {
   "cell_type": "markdown",
   "metadata": {},
   "source": [
    "<div class='alert alert-success'>\n",
    "    <p> \n",
    "    What do we mean by alias chains? \n",
    "Those are the lists of <code>mispelledIDs</code> that point to another <code>mispelledID</code>. They are usually three IDs long (1st mispelled send to a 2nd mispelled which points to a 3rd mispelled which finally points to a <code>standardID</code>).\n",
    "\n",
    "We need to find those and make them so that they all point to the same final <code>standardID</code>.\n",
    "</p>\n",
    "</div>"
   ]
  },
  {
   "cell_type": "code",
   "execution_count": 90,
   "metadata": {},
   "outputs": [],
   "source": [
    "artistAlias_copy = artistAlias.copy()\n",
    "\n",
    "def chain(ID):\n",
    "    #we need to check if the id is a mispelled Id\n",
    "    if (ID in artistAlias_copy.keys()):\n",
    "        if artistAlias_copy[ID]!=ID:\n",
    "            #Thank to this second condition, we avoid the risk of infinite loop\n",
    "            goodID=chain(artistAlias_copy[ID]) #as the standard id is also mispelled, we reapply the function to artistAlias[ID] and so on \n",
    "            # until fiding the good standard id\n",
    "            artistAlias_copy[ID]=goodID #we also change all the mispelled standard id\n",
    "            return goodID\n",
    "    else:\n",
    "        return ID\n",
    "        "
   ]
  },
  {
   "cell_type": "code",
   "execution_count": 91,
   "metadata": {},
   "outputs": [
    {
     "name": "stdout",
     "output_type": "stream",
     "text": [
      "Removing chains took 0.168135404586792s\n"
     ]
    }
   ],
   "source": [
    "t0=time()\n",
    "loop=[]\n",
    "for ID in artistAlias.keys():\n",
    "    chain(ID)\n",
    "    if ID ==artistAlias[ID]:\n",
    "        loop.append(ID)\n",
    "print('Removing chains took %3ss' % (time() - t0))  \n",
    "artistAlias=artistAlias_copy\n",
    "for ID in loop:\n",
    "    del artistAlias[ID]\n",
    "len(artistAlias)\n",
    "\n",
    "del artistAlias_copy"
   ]
  },
  {
   "cell_type": "markdown",
   "metadata": {},
   "source": [
    "<div class='alert alert-success'>\n",
    "    <p> \n",
    "    Now that we have cleaned up and cut our data we retry the model and compare our results to the ones before.\n",
    "    </p>\n",
    "</div>\n",
    "  "
   ]
  },
  {
   "cell_type": "code",
   "execution_count": 92,
   "metadata": {},
   "outputs": [
    {
     "name": "stdout",
     "output_type": "stream",
     "text": [
      "The script takes 0.023280 seconds\n",
      "+-------+--------+---------+\n",
      "| userID|artistID|playCount|\n",
      "+-------+--------+---------+\n",
      "|1000061| 1018184|        1|\n",
      "|1000061| 1144034|        1|\n",
      "|1000061| 1012301|        1|\n",
      "|1000061| 2047383|        1|\n",
      "|1000061| 1003162|        1|\n",
      "|1000061| 1005290|        7|\n",
      "|1000061| 1022508|        1|\n",
      "|1000061| 1024720|        2|\n",
      "|1000061| 1002397|        1|\n",
      "|1000061| 1280363|        1|\n",
      "|1000061| 1026636|        1|\n",
      "|1000061|    4019|        1|\n",
      "|1000061| 1204837|        1|\n",
      "|1000061| 1024679|        1|\n",
      "|1000061| 1039532|        1|\n",
      "|1000061| 1024951|        1|\n",
      "|1000061|    3783|        1|\n",
      "|1000061| 1002557|        1|\n",
      "|1000061| 1005390|        4|\n",
      "|1000061| 1003591|        1|\n",
      "+-------+--------+---------+\n",
      "only showing top 20 rows\n",
      "\n"
     ]
    }
   ],
   "source": [
    "#Let's clean the final Data\n",
    "bArtistAlias = sc.broadcast(artistAlias)\n",
    "\n",
    "def replaceMispelledIDs(fields):\n",
    "    finalID = bArtistAlias.value.get(fields[1], fields[1])\n",
    "    return (fields[0], finalID, fields[2])\n",
    "\n",
    "t0 = time()\n",
    "\n",
    "newsmallerUserArtistDF = sqlContext.createDataFrame(\n",
    "    smallerUserArtistDF.rdd.map(replaceMispelledIDs), \n",
    "    userArtistDataSchema\n",
    ")\n",
    "\n",
    "t1 = time()\n",
    "print('The script takes %f seconds' %(t1-t0)) # got 0.686447 in the previous question\n",
    "newsmallerUserArtistDF = newsmallerUserArtistDF.cache()\n",
    "\n",
    "newsmallerUserArtistDF.show()"
   ]
  },
  {
   "cell_type": "code",
   "execution_count": 110,
   "metadata": {},
   "outputs": [],
   "source": [
    "allData = newsmallerUserArtistDF.toDF(\"userID\", \"artistID\", \"playCount\").rdd.map(lambda r: Rating(r[0], r[1], r[2])).repartition(4).cache()\n"
   ]
  },
  {
   "cell_type": "code",
   "execution_count": 94,
   "metadata": {},
   "outputs": [
    {
     "name": "stdout",
     "output_type": "stream",
     "text": [
      "userId = 2093760 | artist suggested            | artist liked             \n",
      "-----------------------------------------------------------------------------------------\n",
      "                  |                         Eminem |                  Blackalicious \n",
      "                  |                      Green Day |                     David Gray \n",
      "                  |                             U2 |                     Jurassic 5 \n",
      "                  |                      blink-182 |                The Saw Doctors \n",
      "                  |                    The Killers |                         Xzibit \n",
      "                  |                          Queen |                           None \n",
      "                  |          Red Hot Chili Peppers |                           None \n",
      "                  |                       Coldplay |                           None \n",
      "                  |                        Nirvana |                           None \n",
      "                  |                    Linkin Park |                           None \n",
      "-----------------------------------------------------------------------------------------\n",
      "AUC = 0.975255\n"
     ]
    }
   ],
   "source": [
    "trainData, cvData = allData.randomSplit((0.9,0.1))\n",
    "trainData.cache()\n",
    "cvData.cache()\n",
    "\n",
    "model = ALS.trainImplicit(trainData, rank=10 ,iterations=5 , lambda_=1.0 ,alpha=40.0 )\n",
    "allData.unpersist()\n",
    "\n",
    "userID = 2093760\n",
    "recommendations = model.recommendProducts(userID, 10)\n",
    "\n",
    "recommendedProductIDs = set( )\n",
    "rec = [(r[0],artistDF[artistDF.artistID==r[1]].collect()[0][1],r[2]) for r in recommendations]\n",
    "VisualizeUser(recommendations,userID)\n",
    "unpersist(model)\n",
    "\n",
    "auc = calculateAUC( cvData, bAllItemIDs, model.predictAll )\n",
    "print(\"AUC = %f\" %auc)"
   ]
  },
  {
   "cell_type": "markdown",
   "metadata": {},
   "source": [
    "<div class='alert alert-success'>\n",
    "    <p> The AUC we got is similar as the best one we got. We should now compile again a simple greedy search in order to see if we can find better parametters for model.\n",
    "    </p>\n",
    "</div>"
   ]
  },
  {
   "cell_type": "code",
   "execution_count": 96,
   "metadata": {},
   "outputs": [
    {
     "name": "stdout",
     "output_type": "stream",
     "text": [
      "Train model with rank=10 lambda_=1.000000 alpha=1.000000\n",
      "Train model with rank=10 lambda_=1.000000 alpha=40.000000\n",
      "Train model with rank=10 lambda_=0.000100 alpha=1.000000\n",
      "Train model with rank=10 lambda_=0.000100 alpha=40.000000\n",
      "Train model with rank=50 lambda_=1.000000 alpha=1.000000\n",
      "Train model with rank=50 lambda_=1.000000 alpha=40.000000\n",
      "Train model with rank=50 lambda_=0.000100 alpha=1.000000\n",
      "Train model with rank=50 lambda_=0.000100 alpha=40.000000\n",
      "                    0         1\n",
      "0   (10, 0.0001, 1.0)  0.966030\n",
      "1   (50, 0.0001, 1.0)  0.967563\n",
      "2      (10, 1.0, 1.0)  0.968065\n",
      "3  (10, 0.0001, 40.0)  0.974834\n",
      "4     (10, 1.0, 40.0)  0.975544\n",
      "5      (50, 1.0, 1.0)  0.976354\n",
      "6  (50, 0.0001, 40.0)  0.985460\n",
      "7     (50, 1.0, 40.0)  0.986050\n"
     ]
    },
    {
     "data": {
      "text/plain": [
       "PythonRDD[2905] at RDD at PythonRDD.scala:48"
      ]
     },
     "execution_count": 96,
     "metadata": {},
     "output_type": "execute_result"
    }
   ],
   "source": [
    "evaluations = []\n",
    "\n",
    "for rank in [10, 50]:\n",
    "    for lambda_ in [1.0, 0.0001]:\n",
    "        for alpha in [1.0, 40.0]:\n",
    "            print(\"Train model with rank=%d lambda_=%f alpha=%f\" % (rank, lambda_, alpha))\n",
    "            # with each combination of params, we should run multiple times and get avg\n",
    "            # for simple, we only run one time.\n",
    "            model = ALS.trainImplicit(trainData, rank=rank, iterations=5, lambda_=lambda_, alpha=alpha)\n",
    "            \n",
    "            auc = calculateAUC( cvData, bAllItemIDs, model.predictAll )\n",
    "            \n",
    "            evaluations.append(((rank, lambda_, alpha), auc))\n",
    "            \n",
    "            unpersist(model)\n",
    "\n",
    "evaluations.sort(key = lambda x: x[1])\n",
    "                 \n",
    "evalDataFrame = pd.DataFrame(data=evaluations)\n",
    "print(evalDataFrame)\n",
    "\n",
    "trainData.unpersist()\n",
    "cvData.unpersist()"
   ]
  },
  {
   "cell_type": "code",
   "execution_count": 97,
   "metadata": {},
   "outputs": [
    {
     "name": "stdout",
     "output_type": "stream",
     "text": [
      "userId = 2093760 | artist suggested            | artist liked             \n",
      "-----------------------------------------------------------------------------------------\n",
      "                  |                        50 Cent |                  Blackalicious \n",
      "                  |                         Eminem |                     David Gray \n",
      "                  |                          Jay-Z |                     Jurassic 5 \n",
      "                  |                           2Pac |                The Saw Doctors \n",
      "                  |                       The Game |                         Xzibit \n",
      "                  |                     Snoop Dogg |                           None \n",
      "                  |                     Kanye West |                           None \n",
      "                  |                        Dr. Dre |                           None \n",
      "                  |                       Ludacris |                           None \n",
      "                  |                            D12 |                           None \n",
      "-----------------------------------------------------------------------------------------\n",
      "AUC = 0.986382\n"
     ]
    }
   ],
   "source": [
    "model = ALS.trainImplicit(trainData, rank=50 ,iterations=5 , lambda_=1.0 ,alpha=40.0 )\n",
    "allData.unpersist()\n",
    "\n",
    "userID = 2093760\n",
    "recommendations = model.recommendProducts(userID, 10)\n",
    "\n",
    "recommendedProductIDs = set( )\n",
    "rec = [(r[0],artistDF[artistDF.artistID==r[1]].collect()[0][1],r[2]) for r in recommendations]\n",
    "VisualizeUser(recommendations,userID)\n",
    "\n",
    "unpersist(model)\n",
    "auc = calculateAUC( cvData, bAllItemIDs, model.predictAll )\n",
    "print(\"AUC = %f\" %auc)"
   ]
  },
  {
   "cell_type": "markdown",
   "metadata": {},
   "source": [
    "<div class='alert alert-success'>\n",
    "    <p> \n",
    "    First of all we can notice that our <strong> AUC </strong> is higher than the one calculated in question 10.2. <strong> However</strong> as the data set is smaller this information our AUC is less acurate than the previous ones. But we can notice that the music genre of suggested artists is the same as the the one the user listened. This points out that another revelant model for our problem woulds have been to find the music genres of each artist. With those genres we might have been able to implement a clustering algorithm or (which should be even better) calculate the similarity measures between those genres.\n",
    "    \n",
    "    \n",
    "    </p>\n",
    "   </div>\n",
    "  "
   ]
  },
  {
   "cell_type": "markdown",
   "metadata": {},
   "source": [
    "## 4.2. Implementation"
   ]
  },
  {
   "cell_type": "markdown",
   "metadata": {},
   "source": [
    "### 4.2.1. New ratings: \n",
    "For now, the rating we used was not efficient because it only take into account what the user had listened but not the proportion of what he listened.\n",
    "We didn't had the time to implement it but using other rating like a bayesian rating or just a normalized one might have to lead to others suggestions."
   ]
  },
  {
   "cell_type": "markdown",
   "metadata": {},
   "source": [
    "### 4.2.2. `implicit` module\n",
    "\n",
    "\n",
    "\n",
    "Now that we cleaned up our datasets, and that we were able to improve the AUC with the ALS algorithm, we would like to try other algorithms to build the recommendation models. To do so, we chose to use the [`implicit` module](https://github.com/benfred/implicit) to test other algorithms.\n",
    "\n",
    "We used the module's scripts to build other models, which we chose after some previous tests. Moreover, we did not get to parallelize our computations so we were just trying the scripts with one core. This forced us to only select a small portion of the whole dataset.\n",
    "\n",
    "The first step is to install the `implicit` module with `pip`:"
   ]
  },
  {
   "cell_type": "code",
   "execution_count": 102,
   "metadata": {},
   "outputs": [
    {
     "name": "stdout",
     "output_type": "stream",
     "text": [
      "Collecting implicit\n",
      "  Downloading implicit-0.3.3.tar.gz (599kB)\n",
      "\u001b[K    100% |████████████████████████████████| 604kB 1.1MB/s \n",
      "\u001b[?25hRequirement already satisfied: numpy in /opt/conda/lib/python3.6/site-packages (from implicit)\n",
      "Requirement already satisfied: scipy>=0.16 in /opt/conda/lib/python3.6/site-packages (from implicit)\n",
      "Building wheels for collected packages: implicit\n",
      "  Running setup.py bdist_wheel for implicit ... \u001b[?25ldone\n",
      "\u001b[?25h  Stored in directory: /root/.cache/pip/wheels/7f/10/44/606326d2e2eb35515c464b81288c8542fd5b85d8ceff8a48f5\n",
      "Successfully built implicit\n",
      "Installing collected packages: implicit\n",
      "Successfully installed implicit-0.3.3\n",
      "\u001b[33mYou are using pip version 9.0.1, however version 9.0.3 is available.\n",
      "You should consider upgrading via the 'pip install --upgrade pip' command.\u001b[0m\n"
     ]
    }
   ],
   "source": [
    "! pip install implicit"
   ]
  },
  {
   "cell_type": "markdown",
   "metadata": {},
   "source": [
    "### 4.2.2. Code from GitHub"
   ]
  },
  {
   "cell_type": "code",
   "execution_count": 103,
   "metadata": {},
   "outputs": [],
   "source": [
    "from __future__ import print_function\n",
    "\n",
    "import argparse\n",
    "import codecs\n",
    "import logging\n",
    "import time\n",
    "\n",
    "import numpy\n",
    "import pandas\n",
    "from scipy.sparse import coo_matrix\n",
    "\n",
    "from implicit.als import AlternatingLeastSquares\n",
    "from implicit.approximate_als import (AnnoyAlternatingLeastSquares, FaissAlternatingLeastSquares,\n",
    "                                      NMSLibAlternatingLeastSquares) # we are going to choose NMSLibALS\n",
    "from implicit.bpr import BayesianPersonalizedRanking\n",
    "from implicit.nearest_neighbours import (BM25Recommender, CosineRecommender,\n",
    "                                         TFIDFRecommender, bm25_weight)"
   ]
  },
  {
   "cell_type": "markdown",
   "metadata": {},
   "source": [
    "We now need to select a smaller portion of our data to keep on going, otherwise the dataset is too big. \n",
    "\n",
    "Moreover, we are going to prepare the data for the `implicit` functions, first by creating a Panda DataFrame from our data, then by creating the corresponding `coo_matrix`."
   ]
  },
  {
   "cell_type": "code",
   "execution_count": 111,
   "metadata": {},
   "outputs": [],
   "source": [
    "trainData, cvData = allData.randomSplit((0.05,0.9))"
   ]
  },
  {
   "cell_type": "code",
   "execution_count": 112,
   "metadata": {},
   "outputs": [
    {
     "name": "stdout",
     "output_type": "stream",
     "text": [
      "Time taken to convert RDD to Panda DF: 44.27973771095276s\n"
     ]
    }
   ],
   "source": [
    "t0 = time.time()\n",
    "trainDataPD = trainData.toDF()\\\n",
    "    .toPandas()\n",
    "trainDataPD['user'] = trainDataPD['user'].astype('category')\n",
    "trainDataPD['product'] = trainDataPD['product'].astype('category')\n",
    "plays = coo_matrix((trainDataPD['rating'].astype(float), (trainDataPD['product'].cat.codes.copy(), trainDataPD['user'].cat.codes.copy())))\n",
    "print('Time taken to convert RDD to Panda DF: {}s'.format(time.time() - t0))\n"
   ]
  },
  {
   "cell_type": "code",
   "execution_count": 113,
   "metadata": {},
   "outputs": [],
   "source": [
    "MODELS = {\"als\":  AlternatingLeastSquares,\n",
    "          \"nmslib_als\": NMSLibAlternatingLeastSquares,\n",
    "          \"annoy_als\": AnnoyAlternatingLeastSquares,\n",
    "          \"faiss_als\": FaissAlternatingLeastSquares,\n",
    "          \"tfidf\": TFIDFRecommender,\n",
    "          \"cosine\": CosineRecommender,\n",
    "          \"bpr\": BayesianPersonalizedRanking,\n",
    "          \"bm25\": BM25Recommender}\n",
    "\n",
    "def get_model(model_name):\n",
    "    '''\n",
    "        from github.com/benfred\n",
    "    '''\n",
    "    model_class = MODELS.get(model_name)\n",
    "    if not model_class:\n",
    "        raise ValueError(\"Unknown Model '%s'\" % model_name)\n",
    "\n",
    "    # some default params\n",
    "    if issubclass(model_class, AlternatingLeastSquares):\n",
    "        params = {'factors': 64, 'dtype': numpy.float32, 'use_gpu': False}\n",
    "    elif model_name == \"bm25\":\n",
    "        params = {'K1': 100, 'B': 0.5}\n",
    "    elif model_name == \"bpr\":\n",
    "        params = {'factors': 63, 'use_gpu': False}\n",
    "    else:\n",
    "        params = {}\n",
    "    return model_class(**params)\n",
    "\n",
    "def calculate_recommendations(df, plays, model_name=\"als\"):\n",
    "    \"\"\"\n",
    "        Generates artist recommendations for each user in the dataset \n",
    "        from github.com/benfred\n",
    "        few changes were made to adapt to this Notebook\n",
    "    \"\"\"\n",
    "\n",
    "    # create a model from the input data\n",
    "    model = get_model(model_name)\n",
    "\n",
    "    # if we're training an ALS based model, weight input for last.fm\n",
    "    # by bm25\n",
    "    if issubclass(model.__class__, AlternatingLeastSquares):\n",
    "        # lets weight these models by bm25weight.\n",
    "        print(\"weighting matrix by bm25_weight\")\n",
    "        plays = bm25_weight(plays, K1=100, B=0.8)\n",
    "\n",
    "        # also disable building approximate recommend index\n",
    "        model.approximate_similar_items = False\n",
    "\n",
    "    # this is actually disturbingly expensive:\n",
    "    plays = plays.tocsr()\n",
    "\n",
    "    print(\"training model %s\" % model_name)\n",
    "    start = time.time()\n",
    "    model.fit(plays)\n",
    "    print(\"trained model '%s' in %0.2fs\" % (model_name, time.time() - start))\n",
    "\n",
    "    # generate recommendations for each user and write out to a file\n",
    "    artists = dict(enumerate(df['product'].cat.categories))\n",
    "    start = time.time()\n",
    "    user_plays = plays.T.tocsr()\n",
    "    \n",
    "    res = [[[username, artists[artistid], score] for artistid, score in model.recommend(userid, user_plays)] for userid, username in enumerate(df['user'].cat.categories)]\n",
    "    print(\"generated recommendations in %0.2fs\" % (time.time() - start))\n",
    "    return res"
   ]
  },
  {
   "cell_type": "markdown",
   "metadata": {},
   "source": [
    "#### Test different algorithms\n",
    "\n",
    "Let us test two algorithms: CosineRecommender and BM25Recommender.\n",
    "\n",
    "Cosine Recommender: this algorithm defines the similarity between two objects (*vectors*) as the angle between the two.\n",
    "\n",
    "BM25 Recommender: this algorithm (used by search engines) relies on a *ranking function* which takes into consideration the frequency of a given item, the length of the overall dataset, etc...\n",
    "    "
   ]
  },
  {
   "cell_type": "code",
   "execution_count": 114,
   "metadata": {},
   "outputs": [
    {
     "name": "stdout",
     "output_type": "stream",
     "text": [
      "training model bm25\n",
      "trained model 'bm25' in 0.97s\n",
      "generated recommendations in 45.86s\n"
     ]
    }
   ],
   "source": [
    "res1 = calculate_recommendations(trainDataPD, plays, \"bm25\")"
   ]
  },
  {
   "cell_type": "code",
   "execution_count": 115,
   "metadata": {},
   "outputs": [
    {
     "name": "stdout",
     "output_type": "stream",
     "text": [
      "training model cosine\n",
      "trained model 'cosine' in 0.98s\n",
      "generated recommendations in 45.94s\n"
     ]
    }
   ],
   "source": [
    "res2 = calculate_recommendations(trainDataPD, plays, \"cosine\")"
   ]
  },
  {
   "cell_type": "code",
   "execution_count": 116,
   "metadata": {},
   "outputs": [],
   "source": [
    "subList1 = [userL[:8] for userL in res1[:10]]\n",
    "subList2 = [userL[:8] for userL in res2[:10]]"
   ]
  },
  {
   "cell_type": "code",
   "execution_count": 117,
   "metadata": {},
   "outputs": [
    {
     "name": "stdout",
     "output_type": "stream",
     "text": [
      "Recommendations for user 90:\n",
      "using bm25:\n",
      "Score  1.0, for Assembly of Dust\n",
      "Score 0.76, for Acoustic Junction\n",
      "Score 0.64, for Monopot\n",
      "Score 0.56, for Dub Massive\n",
      "Score 0.52, for The Hold Steady\n",
      "using cosine: 90\n",
      "Score  1.0, for Dub Massive\n",
      "Score  1.0, for T.J. Kirk\n",
      "Score 0.99, for Acoustic Junction\n",
      "Score 0.98, for Assembly of Dust\n",
      "Score 0.88, for Monopot\n",
      "\n",
      "Recommendations for user 98:\n",
      "using bm25:\n",
      "Score  1.0, for UGK\n",
      "Score 0.92, for Ali Vegas\n",
      "Score 0.89, for Fabolous Feat. Blue\n",
      "Score 0.37, for Eightball & MJG\n",
      "Score 0.32, for Young Guns\n",
      "using cosine: 98\n",
      "Score  1.0, for Fabolous Feat. Blue\n",
      "Score  0.3, for Mos Def & Biz Markie\n",
      "Score 0.27, for Twinkie Clark\n",
      "Score 0.27, for Rev. James Moore with The Miss\n",
      "Score 0.27, for Jomanda\n",
      "\n",
      "Recommendations for user 120:\n",
      "using bm25:\n",
      "Score  1.0, for Agincourt\n",
      "Score 0.87, for ‏‏אמן לא ידוע\n",
      "Score 0.65, for Amps For Christ\n",
      "Score 0.52, for Richie Hawtin\n",
      "Score 0.46, for Piero Umiliani\n",
      "using cosine: 120\n",
      "Score  1.0, for ‏‏אמן לא ידוע\n",
      "Score  1.0, for Dr. Z-Vago & DJ Outblast\n",
      "Score 0.37, for Amps For Christ\n",
      "Score 0.25, for euphone\n",
      "Score 0.24, for Ingo Metzmacher\n",
      "\n",
      "Recommendations for user 350:\n",
      "using bm25:\n",
      "Score  1.0, for Opposition\n",
      "Score 0.72, for Felt\n",
      "Score 0.54, for Goretex\n",
      "Score 0.48, for Jan A.P. Kaczmarek\n",
      "Score 0.38, for Meat Puppets\n",
      "using cosine: 350\n",
      "Score  1.0, for The Snake Corps\n",
      "Score  1.0, for Opposition\n",
      "Score 0.83, for The Dream Syndicate\n",
      "Score 0.79, for Felt\n",
      "Score 0.78, for Latyrx Feat. Blackalicious\n",
      "\n",
      "Recommendations for user 384:\n",
      "using bm25:\n",
      "Score  1.0, for Tryo\n",
      "Score 0.29, for The Ark\n",
      "Score 0.27, for Laeto\n",
      "Score 0.16, for Belle Epoque\n",
      "Score  0.1, for My Stereo has Mono\n",
      "using cosine: 384\n",
      "Score  1.0, for Siiri Sisask\n",
      "Score 0.79, for Tryo\n",
      "Score 0.59, for The Ark\n",
      "Score 0.42, for Laeto\n",
      "Score  0.4, for Boris Dlugosch with Roisin Murphy\n",
      "\n",
      "Recommendations for user 536:\n",
      "using bm25:\n",
      "Score  1.0, for Daemonia Nymphe\n",
      "Score 0.81, for Relatives Menschsein\n",
      "Score 0.47, for Meg Lee Chin\n",
      "Score 0.42, for Black Heaven\n",
      "Score 0.28, for AP2\n",
      "using cosine: 536\n",
      "Score  1.0, for Zillo\n",
      "Score  1.0, for Daemonia Nymphe\n",
      "Score  1.0, for Relatives Menschsein\n",
      "Score 0.98, for Invisible Records Compilations\n",
      "Score 0.95, for Say Y\n",
      "\n",
      "Recommendations for user 629:\n",
      "using bm25:\n",
      "Score  1.0, for stonebride feat therese\n",
      "Score 0.91, for Paul Anka\n",
      "Score 0.76, for Felder, Henley, Frey\n",
      "Score 0.74, for Curtis Lee\n",
      "Score 0.72, for Wilson Pickett\n",
      "using cosine: 629\n",
      "Score  1.0, for Felder, Henley, Frey\n",
      "Score  1.0, for stonebride feat therese\n",
      "Score  0.6, for Curtis Lee\n",
      "Score 0.55, for Wilson Pickett\n",
      "Score 0.53, for Paul Anka\n",
      "\n",
      "Recommendations for user 659:\n",
      "using bm25:\n",
      "Score  1.0, for Heather Alexander\n",
      "Score 0.94, for Young Guns\n",
      "Score 0.54, for Tod und Mordschlag\n",
      "Score 0.48, for Mojo Nixon\n",
      "Score 0.37, for Tempest\n",
      "using cosine: 659\n",
      "Score  1.0, for Young Guns\n",
      "Score 0.96, for Notorious Cherry Bombs\n",
      "Score 0.96, for Merle Travis & Joe Maphis\n",
      "Score 0.96, for Loretta Lynn & Conway Twitty\n",
      "Score 0.86, for Protex blue\n",
      "\n",
      "Recommendations for user 713:\n",
      "using bm25:\n",
      "Score  1.0, for AVB vs Ferry Corsten\n",
      "Score 0.42, for Collective Soul\n",
      "Score 0.31, for Blank & Jones\n",
      "Score 0.28, for Polartraxx Vs. Unicorn\n",
      "Score 0.27, for Young Parisians\n",
      "using cosine: 713\n",
      "Score  1.0, for AVB vs Ferry Corsten\n",
      "Score  1.0, for heatseeker\n",
      "Score  1.0, for Prodogy\n",
      "Score 0.68, for Collective Soul\n",
      "Score 0.67, for Beatchuggers\n",
      "\n",
      "Recommendations for user 727:\n",
      "using bm25:\n",
      "Score  1.0, for stonebride feat therese\n",
      "Score 0.91, for Paul Anka\n",
      "Score 0.76, for Fabrizio Faniello\n",
      "Score 0.76, for Felder, Henley, Frey\n",
      "Score 0.74, for Curtis Lee\n",
      "using cosine: 727\n",
      "Score  1.0, for Felder, Henley, Frey\n",
      "Score  1.0, for stonebride feat therese\n",
      "Score 0.81, for Percy And His Orchestra Faith\n",
      "Score  0.6, for Curtis Lee\n",
      "Score 0.55, for Wilson Pickett\n",
      "\n"
     ]
    }
   ],
   "source": [
    "for i, userL in enumerate(subList1):\n",
    "    try:\n",
    "        print('Recommendations for user {}:'.format(userL[0][0]))\n",
    "        print('using bm25:')\n",
    "        for j, artistL in enumerate(userL[:5]):\n",
    "            print('Score %4s, for %s' % (numpy.round(artistL[2]/userL[0][2], 2), artistDF[artistDF.artistID==artistL[1]].collect()[0][1]))\n",
    "        print('using cosine:', subList2[i][0][0])\n",
    "        for j, artistL in enumerate(subList2[i][:5]):\n",
    "            print('Score %4s, for %s' % (numpy.round(subList2[i][j][2]/subList2[i][0][2], 2), artistDF[artistDF.artistID==subList2[i][j][1]].collect()[0][1]))\n",
    "    except:\n",
    "        pass\n",
    "    print()"
   ]
  },
  {
   "cell_type": "markdown",
   "metadata": {},
   "source": [
    "### Final recommendations\n",
    "\n",
    "So we tried two algorithms to build different models and compare our results. What we observe is that building the recommendation lists approximately takes the same time for both algorithms.\n",
    "\n",
    "We tried other algorithms, among which Bayesian Personalized Recommendation which took a very long time. So we decided not to use it.\n",
    "\n",
    "If we look at the recommendation results, we can see that there are on average two artists in common among the top-5 for each user that we chose to display. The music genres are quite the same for both algorithms' results. Another thing that we have to take into consideration when looking at our results is that building the models use at some point a bit of randomness (because we do not have all of the users' ratings on all of the artists), which can help explain the possible differences between the different algorithms' results.\n",
    "\n",
    "If we were to implement these algorithms into a music application, we could possibly add an AUC score to all (user, algorithm) tuples and choose the right algorithm for each user. If we could do more digging, maybe we could find a link between the algorithm and the users' profiles, in order to choose the right algorithm before building a recommendation list for a given user.\n",
    "\n",
    "Finaly, the validation parameters with use to appraise our system might not have been the best. Indeed a cross validation AUC would had been an other good candidate"
   ]
  },
  {
   "cell_type": "markdown",
   "metadata": {},
   "source": [
    "# Summary\n",
    "\n",
    "\n",
    "In this notebook, we first saw how to manage and clean our datasets. We then introduced an algorithm to do matrix factorization and the way of using it to make recommendations. Further more, we studied how to build a large-scale recommender system on SPARK using ALS algorithm and evaluate its quality with AUC scores. Finally, a simple approach to choose good parameters is mentioned. \n",
    "\n",
    "We then went on to try to go further. We used what we saw throughout the notebook to clean up our datasets even more. This allowed us to reduce the number of the artist by more than 40%, which increased the AUC score by one to two percent. \n",
    "\n",
    "Moreover, we tried other recommender algorithms to compare them with ALS. We tried the *BM25 Recommender** and Cosine Recommender algorithms, using the implicit Python module.\n",
    "\n",
    "We saw throughout this notebook the necessity of studying the datasets before getting started with the computations. We overall spent more time than we thought on cleaning the datasets, which highlights how important that task can be. Testing several recommender algorithms showed how different algorithms could get us different results, and different scores. The choice of the algorithm should therefore be made very carefully, while looking at AUC scores as well as its time and space complexities. \n",
    "\n",
    "We saw throughout this notebook what changes we could add to our system to implement it in a music application, to make our recommendations more reliable for users:\n",
    "\n",
    "* assign different algorithms to different users' profile\n",
    "* study the different issues that we found in the dataset to avoid more information loss when we clean up our data\n",
    "* adapt the recommendations to the user's profiles (curious or not, ...)\n"
   ]
  },
  {
   "cell_type": "markdown",
   "metadata": {},
   "source": [
    "# References\n",
    "\n",
    "## Technical\n",
    "- The example in section 2 is taken from [Recommender system](infolab.stanford.edu/~ullman/mmds/ch9.pdf)\n",
    "* [Recommender Systems](http://www.cs.carleton.edu/cs_comps/0607/recommend/recommender/itembased.html), *Carleton College*\n",
    "* [Models for information retrieval and recommendation](https://www.slideshare.net/arjenpdevries/models-for-information-retrieval-and-recommendation), *Prof. Arjen P. de Vries*\n",
    "* [Okapi BM25](https://en.wikipedia.org/wiki/Okapi_BM25#The_ranking_function), *Wikipedia*\n",
    "\n",
    "## Articles and statistics on the music industry\n",
    "- [Spotify Statistics Report](https://expandedramblings.com/index.php/spotify-statistics/), by *DMR | Business Statistics*\n",
    "- [Spotify Insights](https://insights.spotify.com/), by *Spotify*\n",
    "- [Spotify Charts](https://spotifycharts.com/regional)\n",
    "- [Spotify's Most Popular Artists of 2017](https://www.forbes.com/sites/hughmcintyre/2017/12/05/spotifys-most-popular-artists-of-2017-ed-sheeran-drake-and-rihanna-beat-them-all), by *Forbes*\n",
    "- [Spotify News](https://news.spotify.com/us/2016/12/01/wrapped-2016)\n"
   ]
  }
 ],
 "metadata": {
  "kernelspec": {
   "display_name": "Python 3",
   "language": "python",
   "name": "python3"
  },
  "language_info": {
   "codemirror_mode": {
    "name": "ipython",
    "version": 3
   },
   "file_extension": ".py",
   "mimetype": "text/x-python",
   "name": "python",
   "nbconvert_exporter": "python",
   "pygments_lexer": "ipython3",
   "version": "3.6.4"
  }
 },
 "nbformat": 4,
 "nbformat_minor": 2
}
